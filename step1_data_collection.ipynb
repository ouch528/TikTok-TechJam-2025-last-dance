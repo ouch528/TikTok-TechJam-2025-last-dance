{
 "cells": [
  {
   "cell_type": "markdown",
   "id": "7582a7bf",
   "metadata": {},
   "source": [
    "# Dataset Information"
   ]
  },
  {
   "cell_type": "markdown",
   "id": "41bfcc6a",
   "metadata": {},
   "source": [
    "Our team has chosen to use the data from: \n",
    "\n",
    "Google Local review data: https://mcauleylab.ucsd.edu/public_datasets/gdrive/googlelocal/."
   ]
  },
  {
   "cell_type": "markdown",
   "id": "61d9dd02",
   "metadata": {},
   "source": [
    "# Reason for Dataset Choice"
   ]
  },
  {
   "cell_type": "markdown",
   "id": "50254f64",
   "metadata": {},
   "source": [
    "The choice of the dataset is due to the following reasons:\n",
    "- Our model should be generalized to any form of busineses that takes in reviews. This dataset contains review data for all businesses (not only restricted to Restaurants). <br><br>\n",
    "- The dataset also contains useful metadata of the business. This makes it more convenient for us to use the data to enrich our dataset. <br><br>"
   ]
  },
  {
   "cell_type": "markdown",
   "id": "989e9697",
   "metadata": {},
   "source": [
    "# Reviews Dataset Sampling"
   ]
  },
  {
   "cell_type": "markdown",
   "id": "e1b21f8a",
   "metadata": {},
   "source": [
    "Among the many states provided in the website, our team has decided to choose 'Nevada' state.\n",
    "\n",
    "There were a total of 8,833,403 reviews, and our team decided to sample 10,000 reviews as our dataset.\n",
    "\n",
    "The sampling process was as such:\n",
    "- Since there were many reviews with only ratings, and no textual reviews, we filtered to keep only those with textual reviews. <br><br>\n",
    "- Among the filtered reviews, we randomly sampled 10,000 reviews. "
   ]
  },
  {
   "cell_type": "code",
   "execution_count": null,
   "id": "d95effd7",
   "metadata": {},
   "outputs": [],
   "source": [
    "import ijson\n",
    "import pandas as pd\n",
    "import random\n",
    "\n",
    "in_path = \"raw_data/review-Nevada.json\" \n",
    "out_path = \"raw_data/sample_100k.csv\"\n",
    "rng = random.Random(42)\n",
    "\n",
    "k = 100000\n",
    "reservoir = []\n",
    "with open(in_path, \"rb\") as f:\n",
    "    objects = ijson.items(f, \"\", multiple_values=True)  \n",
    "    for i, obj in enumerate(objects, start=1):\n",
    "        if i <= k:\n",
    "            reservoir.append(obj)\n",
    "        else:\n",
    "            j = random.randint(1, i)\n",
    "            if j <= k:\n",
    "                reservoir[j - 1] = obj\n",
    "\n",
    "df = pd.DataFrame(reservoir)\n",
    "df.to_csv(out_path, index=False)\n",
    "\n",
    "filtered_df = df[df[\"text\"].notnull()]\n",
    "len(filtered_df)\n",
    "\n",
    "out = filtered_df.sample(10000)\n",
    "out.to_csv(\"raw_data/sample_10k_alltext.csv\")"
   ]
  },
  {
   "cell_type": "markdown",
   "id": "d1e8a4dc",
   "metadata": {},
   "source": [
    "# Business Metadata Collection"
   ]
  },
  {
   "cell_type": "markdown",
   "id": "90604d90",
   "metadata": {},
   "source": [
    "Our team loaded the metadata and dropped columns that were not relevant to our downstream analysis.\n",
    "\n",
    "Using the 10,000 filtered reviews, we then performed an inner join on `gmap_id` to consolidate the review and metadata information into a single dataset, facilitating easier processing in subsequent steps."
   ]
  },
  {
   "cell_type": "code",
   "execution_count": null,
   "id": "f55bf557",
   "metadata": {},
   "outputs": [],
   "source": [
    "df_metadata = pd.read_json(\"raw_data/meta-Nevada.json\", lines=True) \n",
    "df_metadata = df_metadata.drop(columns=[\"address\", \"description\", \"price\", \"hours\", \"MISC\", \"state\", \"relative_results\"])\n",
    "df_metadata = df_metadata.drop_duplicates(subset=[\"gmap_id\"])\n",
    "\n",
    "merged = pd.merge(df, df_metadata, on='gmap_id', how='inner')\n",
    "merged.to_csv(\"raw_data/sample_10k_alltext_full_metadata.csv\", index=False)"
   ]
  },
  {
   "cell_type": "markdown",
   "id": "6a936e2a",
   "metadata": {},
   "source": [
    "# User Metadata Collection"
   ]
  },
  {
   "cell_type": "markdown",
   "id": "353370cf",
   "metadata": {},
   "source": [
    "# Synthesizing Data"
   ]
  },
  {
   "cell_type": "markdown",
   "id": "9c49ee53",
   "metadata": {},
   "source": [
    "# Generation of pseudo-labels"
   ]
  }
 ],
 "metadata": {
  "kernelspec": {
   "display_name": ".venv (3.10.11)",
   "language": "python",
   "name": "python3"
  },
  "language_info": {
   "codemirror_mode": {
    "name": "ipython",
    "version": 3
   },
   "file_extension": ".py",
   "mimetype": "text/x-python",
   "name": "python",
   "nbconvert_exporter": "python",
   "pygments_lexer": "ipython3",
   "version": "3.10.11"
  }
 },
 "nbformat": 4,
 "nbformat_minor": 5
}
