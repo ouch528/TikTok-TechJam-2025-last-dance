{
 "cells": [
  {
   "cell_type": "code",
   "execution_count": 4,
   "id": "7f6bc2e0",
   "metadata": {},
   "outputs": [],
   "source": [
    "import pandas as pd\n",
    "import matplotlib.pyplot as plt\n",
    "import seaborn as sns\n",
    "import numpy as np\n",
    "from transformers import pipeline\n",
    "from sentence_transformers import SentenceTransformer\n",
    "from sklearn.feature_extraction.text import TfidfVectorizer\n",
    "from sklearn.metrics.pairwise import cosine_similarity\n",
    "import warnings\n",
    "warnings.filterwarnings('ignore')"
   ]
  },
  {
   "attachments": {},
   "cell_type": "markdown",
   "id": "f2049791",
   "metadata": {},
   "source": [
    "# Load Dataset"
   ]
  },
  {
   "cell_type": "code",
   "execution_count": 6,
   "id": "6064f960",
   "metadata": {},
   "outputs": [
    {
     "data": {
      "text/html": [
       "<div>\n",
       "<style scoped>\n",
       "    .dataframe tbody tr th:only-of-type {\n",
       "        vertical-align: middle;\n",
       "    }\n",
       "\n",
       "    .dataframe tbody tr th {\n",
       "        vertical-align: top;\n",
       "    }\n",
       "\n",
       "    .dataframe thead th {\n",
       "        text-align: right;\n",
       "    }\n",
       "</style>\n",
       "<table border=\"1\" class=\"dataframe\">\n",
       "  <thead>\n",
       "    <tr style=\"text-align: right;\">\n",
       "      <th></th>\n",
       "      <th>user_id</th>\n",
       "      <th>user_name</th>\n",
       "      <th>time</th>\n",
       "      <th>rating</th>\n",
       "      <th>review</th>\n",
       "      <th>gmap_id</th>\n",
       "      <th>business_name</th>\n",
       "      <th>latitude</th>\n",
       "      <th>longitude</th>\n",
       "      <th>business_desc</th>\n",
       "      <th>avg_rating</th>\n",
       "      <th>num_of_reviews</th>\n",
       "      <th>label</th>\n",
       "    </tr>\n",
       "  </thead>\n",
       "  <tbody>\n",
       "    <tr>\n",
       "      <th>0</th>\n",
       "      <td>110199730286805608874</td>\n",
       "      <td>Michelle Banks</td>\n",
       "      <td>2018-02-11 03:33:20</td>\n",
       "      <td>5.0</td>\n",
       "      <td>It's a beautiful place to read books and have ...</td>\n",
       "      <td>0x80c8bf81f68a634f:0xe605b4c3043783c9</td>\n",
       "      <td>Barnes &amp; Noble</td>\n",
       "      <td>36.157754</td>\n",
       "      <td>-115.289418</td>\n",
       "      <td>['Book store', 'Cafe', 'Childrens book store',...</td>\n",
       "      <td>4.6</td>\n",
       "      <td>1719</td>\n",
       "      <td>relevant</td>\n",
       "    </tr>\n",
       "    <tr>\n",
       "      <th>1</th>\n",
       "      <td>106455408371866150988</td>\n",
       "      <td>Steven DeRyck [Staff]</td>\n",
       "      <td>2018-09-08 20:53:20</td>\n",
       "      <td>4.0</td>\n",
       "      <td>As previous reviews have stated, two small pie...</td>\n",
       "      <td>0x80c8c415f0a42c77:0x55c554fdc4ad8b9c</td>\n",
       "      <td>Carnegie Deli</td>\n",
       "      <td>36.120556</td>\n",
       "      <td>-115.173611</td>\n",
       "      <td>['Deli', 'Takeout Restaurant', 'Sandwich shop']</td>\n",
       "      <td>4.1</td>\n",
       "      <td>706</td>\n",
       "      <td>relevant</td>\n",
       "    </tr>\n",
       "    <tr>\n",
       "      <th>2</th>\n",
       "      <td>110442613019980396910</td>\n",
       "      <td>Stevey Markovich</td>\n",
       "      <td>2020-07-23 18:46:40</td>\n",
       "      <td>5.0</td>\n",
       "      <td>Absolutely love this office! Afton is truly am...</td>\n",
       "      <td>0x80c8ce0f7732ee7b:0xea13348742f64327</td>\n",
       "      <td>Center for Cosmetic and Family Dentistry</td>\n",
       "      <td>36.001929</td>\n",
       "      <td>-115.107484</td>\n",
       "      <td>['Dentist']</td>\n",
       "      <td>4.9</td>\n",
       "      <td>318</td>\n",
       "      <td>relevant</td>\n",
       "    </tr>\n",
       "    <tr>\n",
       "      <th>3</th>\n",
       "      <td>102404509430936241440</td>\n",
       "      <td>William Campbell</td>\n",
       "      <td>2018-12-09 21:13:20</td>\n",
       "      <td>3.0</td>\n",
       "      <td>The food is as good as it usually is</td>\n",
       "      <td>0x80c8dc9da25847c7:0x27b862b824ac757c</td>\n",
       "      <td>Asian Garden</td>\n",
       "      <td>36.168901</td>\n",
       "      <td>-115.060601</td>\n",
       "      <td>['Restaurant', 'Asian restaurant', 'Chinese re...</td>\n",
       "      <td>3.8</td>\n",
       "      <td>128</td>\n",
       "      <td>relevant</td>\n",
       "    </tr>\n",
       "    <tr>\n",
       "      <th>4</th>\n",
       "      <td>111658148729564710703</td>\n",
       "      <td>Beverly Thorman</td>\n",
       "      <td>2018-04-08 01:13:20</td>\n",
       "      <td>5.0</td>\n",
       "      <td>We came in without an appointment on a Saturda...</td>\n",
       "      <td>0x80c8c03de37488fd:0xdc3302fd9f8f44a</td>\n",
       "      <td>Great Clips</td>\n",
       "      <td>36.191055</td>\n",
       "      <td>-115.258969</td>\n",
       "      <td>['Hair salon', 'Beauty salon']</td>\n",
       "      <td>4.3</td>\n",
       "      <td>168</td>\n",
       "      <td>relevant</td>\n",
       "    </tr>\n",
       "  </tbody>\n",
       "</table>\n",
       "</div>"
      ],
      "text/plain": [
       "                 user_id              user_name                 time  rating  \\\n",
       "0  110199730286805608874         Michelle Banks  2018-02-11 03:33:20     5.0   \n",
       "1  106455408371866150988  Steven DeRyck [Staff]  2018-09-08 20:53:20     4.0   \n",
       "2  110442613019980396910       Stevey Markovich  2020-07-23 18:46:40     5.0   \n",
       "3  102404509430936241440       William Campbell  2018-12-09 21:13:20     3.0   \n",
       "4  111658148729564710703        Beverly Thorman  2018-04-08 01:13:20     5.0   \n",
       "\n",
       "                                              review  \\\n",
       "0  It's a beautiful place to read books and have ...   \n",
       "1  As previous reviews have stated, two small pie...   \n",
       "2  Absolutely love this office! Afton is truly am...   \n",
       "3               The food is as good as it usually is   \n",
       "4  We came in without an appointment on a Saturda...   \n",
       "\n",
       "                                 gmap_id  \\\n",
       "0  0x80c8bf81f68a634f:0xe605b4c3043783c9   \n",
       "1  0x80c8c415f0a42c77:0x55c554fdc4ad8b9c   \n",
       "2  0x80c8ce0f7732ee7b:0xea13348742f64327   \n",
       "3  0x80c8dc9da25847c7:0x27b862b824ac757c   \n",
       "4   0x80c8c03de37488fd:0xdc3302fd9f8f44a   \n",
       "\n",
       "                              business_name   latitude   longitude  \\\n",
       "0                            Barnes & Noble  36.157754 -115.289418   \n",
       "1                             Carnegie Deli  36.120556 -115.173611   \n",
       "2  Center for Cosmetic and Family Dentistry  36.001929 -115.107484   \n",
       "3                              Asian Garden  36.168901 -115.060601   \n",
       "4                               Great Clips  36.191055 -115.258969   \n",
       "\n",
       "                                       business_desc  avg_rating  \\\n",
       "0  ['Book store', 'Cafe', 'Childrens book store',...         4.6   \n",
       "1    ['Deli', 'Takeout Restaurant', 'Sandwich shop']         4.1   \n",
       "2                                        ['Dentist']         4.9   \n",
       "3  ['Restaurant', 'Asian restaurant', 'Chinese re...         3.8   \n",
       "4                     ['Hair salon', 'Beauty salon']         4.3   \n",
       "\n",
       "   num_of_reviews     label  \n",
       "0            1719  relevant  \n",
       "1             706  relevant  \n",
       "2             318  relevant  \n",
       "3             128  relevant  \n",
       "4             168  relevant  "
      ]
     },
     "execution_count": 6,
     "metadata": {},
     "output_type": "execute_result"
    }
   ],
   "source": [
    "df = pd.read_csv(\"final_data/cleaned_dataset.csv\") \n",
    "df.head()"
   ]
  },
  {
   "attachments": {},
   "cell_type": "markdown",
   "id": "bc558c84",
   "metadata": {},
   "source": [
    "# Reptitiveness of `review` for each business"
   ]
  },
  {
   "cell_type": "code",
   "execution_count": 12,
   "id": "50113df7",
   "metadata": {},
   "outputs": [
    {
     "name": "stdout",
     "output_type": "stream",
     "text": [
      "                                              review  repetitiveness_score\n",
      "0  It's a beautiful place to read books and have ...              0.040897\n",
      "1  As previous reviews have stated, two small pie...              0.011909\n",
      "2  Absolutely love this office! Afton is truly am...              0.046272\n",
      "3               The food is as good as it usually is              0.000000\n",
      "4  We came in without an appointment on a Saturda...              0.000000\n",
      "count    10895.000000\n",
      "mean         0.038174\n",
      "std          0.067104\n",
      "min          0.000000\n",
      "25%          0.000000\n",
      "50%          0.000000\n",
      "75%          0.061196\n",
      "max          0.776515\n",
      "Name: repetitiveness_score, dtype: float64\n"
     ]
    }
   ],
   "source": [
    "def safe_review_text(x):\n",
    "    if pd.isna(x):\n",
    "        return \"\"   # replace NaN with empty string\n",
    "    return str(x)\n",
    "\n",
    "def review_level_repetitiveness(reviews):\n",
    "    reviews = [safe_review_text(r) for r in reviews]\n",
    "    if len(reviews) == 1:\n",
    "        return [0.0]\n",
    "\n",
    "    vectorizer = TfidfVectorizer(stop_words=\"english\")\n",
    "    tfidf = vectorizer.fit_transform(reviews)\n",
    "    sim_matrix = cosine_similarity(tfidf)\n",
    "\n",
    "    scores = []\n",
    "    for i in range(len(reviews)):\n",
    "        sims = np.delete(sim_matrix[i], i)\n",
    "        avg_sim = sims.mean()\n",
    "        max_sim = sims.max()\n",
    "        score = 0.7 * avg_sim + 0.3 * max_sim\n",
    "        scores.append(score)\n",
    "    return scores\n",
    "\n",
    "def compute_repetitiveness(df):\n",
    "    scores = np.zeros(len(df))  # placeholder array\n",
    "    for gmap_id, group in df.groupby(\"gmap_id\"):\n",
    "        reviews = group[\"review\"].tolist()\n",
    "        group_scores = review_level_repetitiveness(reviews)\n",
    "        scores[group.index] = group_scores\n",
    "    df[\"repetitiveness_score\"] = scores\n",
    "    return df\n",
    "\n",
    "\n",
    "df = compute_repetitiveness(df)\n",
    "\n",
    "print(df[[\"review\", \"repetitiveness_score\"]].head())\n",
    "print(df[\"repetitiveness_score\"].describe())\n"
   ]
  },
  {
   "attachments": {},
   "cell_type": "markdown",
   "id": "74c39eab",
   "metadata": {},
   "source": [
    "# Sentiment Analysis on `review`"
   ]
  },
  {
   "cell_type": "code",
   "execution_count": 9,
   "id": "f438b1af",
   "metadata": {},
   "outputs": [
    {
     "name": "stderr",
     "output_type": "stream",
     "text": [
      "Device set to use mps:0\n"
     ]
    },
    {
     "name": "stdout",
     "output_type": "stream",
     "text": [
      "sentiment_label\n",
      "Positive    7846\n",
      "Negative    2915\n",
      "Neutral      123\n",
      "Name: count, dtype: int64\n"
     ]
    }
   ],
   "source": [
    "df = df[df['review'].notnull()].reset_index(drop=True)\n",
    "\n",
    "# Initialize sentiment analysis pipeline\n",
    "classifier = pipeline(\"sentiment-analysis\", model=\"distilbert-base-uncased-finetuned-sst-2-english\")\n",
    "\n",
    "# Function to get label and score\n",
    "def get_sentiment_with_score(text):\n",
    "    result = classifier(text[:512])[0]  # truncate long text\n",
    "    return pd.Series([result['label'], result['score']])\n",
    "\n",
    "# Apply function\n",
    "df[['sentiment', 'sentiment_score']] = df['review'].apply(get_sentiment_with_score)\n",
    "\n",
    "# Assign human-readable labels with Neutral class\n",
    "def label_with_neutral(row, threshold_low=0.4, threshold_high=0.6):\n",
    "    if row['sentiment_score'] >= threshold_high:\n",
    "        return \"Positive\" if row['sentiment'] == \"POSITIVE\" else \"Negative\"\n",
    "    elif row['sentiment_score'] <= threshold_low:\n",
    "        return \"Negative\" if row['sentiment'] == \"NEGATIVE\" else \"Positive\"\n",
    "    else:\n",
    "        return \"Neutral\"\n",
    "\n",
    "df['sentiment_label'] = df.apply(label_with_neutral, axis=1)\n",
    "\n",
    "# Optional: check distribution\n",
    "print(df['sentiment_label'].value_counts())"
   ]
  },
  {
   "attachments": {},
   "cell_type": "markdown",
   "id": "a519d1cc",
   "metadata": {},
   "source": [
    "# Length of `review`"
   ]
  },
  {
   "cell_type": "code",
   "execution_count": 16,
   "id": "b0f717ae",
   "metadata": {},
   "outputs": [
    {
     "data": {
      "application/vnd.microsoft.datawrangler.viewer.v0+json": {
       "columns": [
        {
         "name": "index",
         "rawType": "int64",
         "type": "integer"
        },
        {
         "name": "review",
         "rawType": "object",
         "type": "string"
        },
        {
         "name": "review_length_words",
         "rawType": "int64",
         "type": "integer"
        }
       ],
       "ref": "fe5fc1bb-e96d-4b3e-87e6-4de7a2773ec9",
       "rows": [
        [
         "0",
         "It's a beautiful place to read books and have food or coffee and tea. The best cookies",
         "17"
        ],
        [
         "1",
         "As previous reviews have stated, two small pieces of bread between a huge stack of meat pretty much sums up their sandwiches. And as a pure carnivore I have no issues with that. The price was reasonable as well.",
         "39"
        ],
        [
         "2",
         "Absolutely love this office! Afton is truly amazing and always makes me feel welcomed and special!",
         "16"
        ],
        [
         "3",
         "The food is as good as it usually is",
         "9"
        ],
        [
         "4",
         "We came in without an appointment on a Saturday afternoon and they cut my hair right away. My stylist was Ninette and she was amazing! She was fun to talk with and she gave me the exact style I wanted. The other stylists were also fun and friendly.",
         "48"
        ]
       ],
       "shape": {
        "columns": 2,
        "rows": 5
       }
      },
      "text/html": [
       "<div>\n",
       "<style scoped>\n",
       "    .dataframe tbody tr th:only-of-type {\n",
       "        vertical-align: middle;\n",
       "    }\n",
       "\n",
       "    .dataframe tbody tr th {\n",
       "        vertical-align: top;\n",
       "    }\n",
       "\n",
       "    .dataframe thead th {\n",
       "        text-align: right;\n",
       "    }\n",
       "</style>\n",
       "<table border=\"1\" class=\"dataframe\">\n",
       "  <thead>\n",
       "    <tr style=\"text-align: right;\">\n",
       "      <th></th>\n",
       "      <th>review</th>\n",
       "      <th>review_length_words</th>\n",
       "    </tr>\n",
       "  </thead>\n",
       "  <tbody>\n",
       "    <tr>\n",
       "      <th>0</th>\n",
       "      <td>It's a beautiful place to read books and have ...</td>\n",
       "      <td>17</td>\n",
       "    </tr>\n",
       "    <tr>\n",
       "      <th>1</th>\n",
       "      <td>As previous reviews have stated, two small pie...</td>\n",
       "      <td>39</td>\n",
       "    </tr>\n",
       "    <tr>\n",
       "      <th>2</th>\n",
       "      <td>Absolutely love this office! Afton is truly am...</td>\n",
       "      <td>16</td>\n",
       "    </tr>\n",
       "    <tr>\n",
       "      <th>3</th>\n",
       "      <td>The food is as good as it usually is</td>\n",
       "      <td>9</td>\n",
       "    </tr>\n",
       "    <tr>\n",
       "      <th>4</th>\n",
       "      <td>We came in without an appointment on a Saturda...</td>\n",
       "      <td>48</td>\n",
       "    </tr>\n",
       "  </tbody>\n",
       "</table>\n",
       "</div>"
      ],
      "text/plain": [
       "                                              review  review_length_words\n",
       "0  It's a beautiful place to read books and have ...                   17\n",
       "1  As previous reviews have stated, two small pie...                   39\n",
       "2  Absolutely love this office! Afton is truly am...                   16\n",
       "3               The food is as good as it usually is                    9\n",
       "4  We came in without an appointment on a Saturda...                   48"
      ]
     },
     "execution_count": 16,
     "metadata": {},
     "output_type": "execute_result"
    }
   ],
   "source": [
    "df['review_length_words'] = df['review'].astype(str).apply(lambda x: len(x.split()))\n",
    "df[['review', 'review_length_words']].head()"
   ]
  },
  {
   "attachments": {},
   "cell_type": "markdown",
   "id": "c785b759",
   "metadata": {},
   "source": [
    "# Embedding of `review`"
   ]
  },
  {
   "cell_type": "code",
   "execution_count": null,
   "id": "854c0cbd",
   "metadata": {},
   "outputs": [
    {
     "name": "stderr",
     "output_type": "stream",
     "text": [
      "Batches: 100%|██████████| 341/341 [00:23<00:00, 14.54it/s]\n"
     ]
    }
   ],
   "source": [
    "# Load SBERT model\n",
    "model = SentenceTransformer('all-MiniLM-L6-v2')\n",
    "\n",
    "# Keep only non-null reviews and reset index\n",
    "df = df[df['review'].notnull()].reset_index(drop=True)\n",
    "\n",
    "# Generate embeddings\n",
    "embeddings = model.encode(df['review'].astype(str).tolist(), batch_size=32, show_progress_bar=True)\n",
    "\n",
    "# Append embeddings as a new column\n",
    "df['review_embedding'] = list(embeddings)"
   ]
  },
  {
   "attachments": {},
   "cell_type": "markdown",
   "id": "fde37465",
   "metadata": {},
   "source": [
    "# Embedding of `business_desc`"
   ]
  },
  {
   "cell_type": "code",
   "execution_count": 26,
   "id": "4a6aef32",
   "metadata": {},
   "outputs": [
    {
     "name": "stderr",
     "output_type": "stream",
     "text": [
      "Batches: 100%|██████████| 341/341 [00:07<00:00, 45.41it/s]\n"
     ]
    }
   ],
   "source": [
    "import ast\n",
    "\n",
    "# Convert string to list\n",
    "df['business_desc_list'] = df['business_desc'].apply(lambda x: ast.literal_eval(x) if isinstance(x, str) else [])\n",
    "\n",
    "# Join into a single string per row\n",
    "df['business_desc_str'] = df['business_desc_list'].apply(lambda x: \" \".join(x))\n",
    "\n",
    "# Generate embeddings\n",
    "desc_embeddings = model.encode(df['business_desc_str'].tolist(), batch_size=32, show_progress_bar=True)\n",
    "\n",
    "# Append embeddings as a new column\n",
    "df['business_desc_embedding'] = list(desc_embeddings)\n",
    "\n",
    "# Optional: drop temporary columns\n",
    "df.drop(columns=['business_desc_list', 'business_desc_str'], inplace=True)"
   ]
  }
 ],
 "metadata": {
  "kernelspec": {
   "display_name": "venv-tt",
   "language": "python",
   "name": "venv-tt"
  },
  "language_info": {
   "codemirror_mode": {
    "name": "ipython",
    "version": 3
   },
   "file_extension": ".py",
   "mimetype": "text/x-python",
   "name": "python",
   "nbconvert_exporter": "python",
   "pygments_lexer": "ipython3",
   "version": "3.11.10"
  }
 },
 "nbformat": 4,
 "nbformat_minor": 5
}
