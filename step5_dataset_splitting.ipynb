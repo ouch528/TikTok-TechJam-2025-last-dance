{
 "cells": [
  {
   "cell_type": "code",
   "execution_count": 6,
   "id": "7f67f469",
   "metadata": {},
   "outputs": [
    {
     "name": "stdout",
     "output_type": "stream",
     "text": [
      "Train: 13581 Val: 1964 Test: 3881\n"
     ]
    }
   ],
   "source": [
    "import pandas as pd\n",
    "from sklearn.model_selection import train_test_split\n",
    "\n",
    "# Load data\n",
    "df = pd.read_csv(\"/Users/ohungchan/Downloads/all_data (1).csv\")\n",
    "\n",
    "# Drop rows with missing IDs\n",
    "df = df.dropna(subset=[\"user_id\"]).reset_index(drop=True)\n",
    "\n",
    "# --- Grouping by user ---\n",
    "# Each user is one group. We'll assign the majority label of their reviews\n",
    "user_labels = df.groupby(\"user_id\")[\"policy\"].agg(lambda x: x.mode()[0])  # majority class\n",
    "users = pd.DataFrame({\"user_id\": user_labels.index, \"policy\": user_labels.values})\n",
    "\n",
    "# --- Train/val/test split at user level ---\n",
    "train_users, temp_users = train_test_split(\n",
    "    users,\n",
    "    test_size=0.30,\n",
    "    stratify=users[\"policy\"],\n",
    "    random_state=42\n",
    ")\n",
    "\n",
    "val_users, test_users = train_test_split(\n",
    "    temp_users,\n",
    "    test_size=2/3,  # 2/3 of 30% = 20%\n",
    "    stratify=temp_users[\"policy\"],\n",
    "    random_state=42\n",
    ")\n",
    "\n",
    "# --- Map back to reviews ---\n",
    "train_df = df[df[\"user_id\"].isin(train_users[\"user_id\"])]\n",
    "val_df   = df[df[\"user_id\"].isin(val_users[\"user_id\"])]\n",
    "test_df  = df[df[\"user_id\"].isin(test_users[\"user_id\"])]\n",
    "\n",
    "print(\"Train:\", len(train_df), \"Val:\", len(val_df), \"Test:\", len(test_df))"
   ]
  },
  {
   "cell_type": "code",
   "execution_count": 7,
   "id": "d6b21f76",
   "metadata": {},
   "outputs": [],
   "source": [
    "train_df.to_csv(\"train.csv\", index=False, encoding='utf-8-sig')"
   ]
  }
 ],
 "metadata": {
  "kernelspec": {
   "display_name": ".venv (3.10.11)",
   "language": "python",
   "name": "python3"
  },
  "language_info": {
   "codemirror_mode": {
    "name": "ipython",
    "version": 3
   },
   "file_extension": ".py",
   "mimetype": "text/x-python",
   "name": "python",
   "nbconvert_exporter": "python",
   "pygments_lexer": "ipython3",
   "version": "3.10.11"
  }
 },
 "nbformat": 4,
 "nbformat_minor": 5
}
