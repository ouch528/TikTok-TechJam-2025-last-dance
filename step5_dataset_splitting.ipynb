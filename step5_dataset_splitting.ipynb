{
 "cells": [
  {
   "cell_type": "code",
   "execution_count": 50,
   "id": "21109421",
   "metadata": {},
   "outputs": [],
   "source": [
    "import pandas as pd\n",
    "from sklearn.model_selection import train_test_split"
   ]
  },
  {
   "cell_type": "markdown",
   "id": "48456df9",
   "metadata": {},
   "source": [
    "# Load Dataset"
   ]
  },
  {
   "cell_type": "markdown",
   "id": "ef1babf1",
   "metadata": {},
   "source": [
    "### **Disclaimer**\n",
    "\n",
    "As the `final_dataset.csv` file size is > 100MB, we were unable to commit it to GitHub. \n",
    "\n",
    "As such, please download the dataset from: https://drive.google.com/file/d/1icZ2Yq1FZkN6FeYhYLmu9Bi7Fm0SiJgk/view?usp=share_link.\n",
    "\n",
    "Please add the downloaded dataset into the folder `final_data`."
   ]
  },
  {
   "cell_type": "code",
   "execution_count": 51,
   "id": "5bf542a3",
   "metadata": {},
   "outputs": [],
   "source": [
    "df = pd.read_csv(\"final_data/final_dataset.csv\")"
   ]
  },
  {
   "cell_type": "markdown",
   "id": "9d77e53a",
   "metadata": {},
   "source": [
    "# Dataset Splitting"
   ]
  },
  {
   "cell_type": "markdown",
   "id": "c1478f64",
   "metadata": {},
   "source": [
    "To minimise data leakage and maintain an even class distribution, we performed the train–validation–test split as follows:\n",
    "- Split ratio: 70% train, 10% validation, 20% test.\n",
    "\n",
    "- Stratification: Ensured stratified sampling so that the distribution of the 5 classes is preserved across all three sets.\n",
    "\n",
    "- User grouping constraint: Reviews from the same user were grouped together to ensure that a user only appears in one set (train, validation, or test), preventing data leakage."
   ]
  },
  {
   "cell_type": "code",
   "execution_count": 53,
   "id": "7f67f469",
   "metadata": {},
   "outputs": [
    {
     "name": "stdout",
     "output_type": "stream",
     "text": [
      "Train: 13569 Val: 1989 Test: 3858\n"
     ]
    }
   ],
   "source": [
    "# Drop rows with missing IDs\n",
    "df = df.dropna(subset=[\"user_id\"]).reset_index(drop=True)\n",
    "\n",
    "# --- Grouping by user ---\n",
    "# Each user is one group. We'll assign the majority label of their reviews\n",
    "user_labels = df.groupby(\"user_id\")[\"label\"].agg(lambda x: x.mode()[0])  # majority class\n",
    "users = pd.DataFrame({\"user_id\": user_labels.index, \"label\": user_labels.values})\n",
    "\n",
    "# --- Train/val/test split at user level ---\n",
    "train_users, temp_users = train_test_split(\n",
    "    users,\n",
    "    test_size=0.30,\n",
    "    stratify=users[\"label\"],\n",
    "    random_state=42\n",
    ")\n",
    "\n",
    "val_users, test_users = train_test_split(\n",
    "    temp_users,\n",
    "    test_size=2/3,  # 2/3 of 30% = 20%\n",
    "    stratify=temp_users[\"label\"],\n",
    "    random_state=42\n",
    ")\n",
    "\n",
    "# --- Map back to reviews ---\n",
    "train_df = df[df[\"user_id\"].isin(train_users[\"user_id\"])]\n",
    "val_df   = df[df[\"user_id\"].isin(val_users[\"user_id\"])]\n",
    "test_df  = df[df[\"user_id\"].isin(test_users[\"user_id\"])]\n",
    "\n",
    "print(\"Train:\", len(train_df), \"Val:\", len(val_df), \"Test:\", len(test_df))"
   ]
  },
  {
   "cell_type": "markdown",
   "id": "6038d953",
   "metadata": {},
   "source": [
    "# Save Dataset"
   ]
  },
  {
   "cell_type": "code",
   "execution_count": 54,
   "id": "d6b21f76",
   "metadata": {},
   "outputs": [],
   "source": [
    "train_df.to_csv(\"final_data/train_dataset.csv\", index=False, encoding='utf-8-sig')\n",
    "val_df.to_csv(\"final_data/val_dataset.csv\", index=False, encoding='utf-8-sig')\n",
    "test_df.to_csv(\"final_data/test_dataset.csv\", index=False, encoding='utf-8-sig')"
   ]
  }
 ],
 "metadata": {
  "kernelspec": {
   "display_name": ".venv (3.10.11)",
   "language": "python",
   "name": "python3"
  },
  "language_info": {
   "codemirror_mode": {
    "name": "ipython",
    "version": 3
   },
   "file_extension": ".py",
   "mimetype": "text/x-python",
   "name": "python",
   "nbconvert_exporter": "python",
   "pygments_lexer": "ipython3",
   "version": "3.10.11"
  }
 },
 "nbformat": 4,
 "nbformat_minor": 5
}
