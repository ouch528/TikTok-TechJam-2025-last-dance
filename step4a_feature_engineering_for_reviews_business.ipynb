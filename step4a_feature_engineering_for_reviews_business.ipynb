{
 "cells": [
  {
   "cell_type": "code",
   "execution_count": 1,
   "id": "7f6bc2e0",
   "metadata": {},
   "outputs": [
    {
     "name": "stderr",
     "output_type": "stream",
     "text": [
      "/Users/ohungchan/Documents/GitHub/TikTok-TechJam-2025-last-dance/.venv/lib/python3.10/site-packages/tqdm/auto.py:21: TqdmWarning: IProgress not found. Please update jupyter and ipywidgets. See https://ipywidgets.readthedocs.io/en/stable/user_install.html\n",
      "  from .autonotebook import tqdm as notebook_tqdm\n"
     ]
    }
   ],
   "source": [
    "import pandas as pd\n",
    "import matplotlib.pyplot as plt\n",
    "import seaborn as sns\n",
    "from transformers import pipeline\n",
    "import numpy as np\n",
    "from sklearn.feature_extraction.text import TfidfVectorizer\n",
    "from sklearn.metrics.pairwise import cosine_similarity\n",
    "from sentence_transformers import SentenceTransformer\n",
    "import warnings\n",
    "warnings.filterwarnings('ignore')"
   ]
  },
  {
   "attachments": {},
   "cell_type": "markdown",
   "id": "f2049791",
   "metadata": {},
   "source": [
    "# Load Dataset"
   ]
  },
  {
   "cell_type": "code",
   "execution_count": 2,
   "id": "6064f960",
   "metadata": {},
   "outputs": [
    {
     "data": {
      "application/vnd.microsoft.datawrangler.viewer.v0+json": {
       "columns": [
        {
         "name": "index",
         "rawType": "int64",
         "type": "integer"
        },
        {
         "name": "user_id",
         "rawType": "float64",
         "type": "float"
        },
        {
         "name": "user_name",
         "rawType": "object",
         "type": "string"
        },
        {
         "name": "time",
         "rawType": "object",
         "type": "string"
        },
        {
         "name": "rating",
         "rawType": "float64",
         "type": "float"
        },
        {
         "name": "review",
         "rawType": "object",
         "type": "string"
        },
        {
         "name": "gmap_id",
         "rawType": "object",
         "type": "string"
        },
        {
         "name": "business_name",
         "rawType": "object",
         "type": "string"
        },
        {
         "name": "latitude",
         "rawType": "float64",
         "type": "float"
        },
        {
         "name": "longitude",
         "rawType": "float64",
         "type": "float"
        },
        {
         "name": "business_desc",
         "rawType": "object",
         "type": "string"
        },
        {
         "name": "avg_rating",
         "rawType": "float64",
         "type": "float"
        },
        {
         "name": "num_of_reviews",
         "rawType": "int64",
         "type": "integer"
        },
        {
         "name": "label",
         "rawType": "object",
         "type": "string"
        }
       ],
       "ref": "1284388a-0bb2-4212-be68-f31887b0d386",
       "rows": [
        [
         "0",
         "1.1e+20",
         "Michelle Banks",
         "2018-03-02 14:13:20",
         "5.0",
         "It's a beautiful place to read books and have food or coffee and tea. The best cookies",
         "0x80c8bf81f68a634f:0xe605b4c3043783c9",
         "Barnes & Noble",
         "36.1577543",
         "-115.2894176",
         "['Book store', 'Cafe', 'Childrens book store', 'Hobby store', 'Toy store']",
         "4.6",
         "1719",
         "relevant"
        ],
        [
         "1",
         "1.06e+20",
         "Steven DeRyck [Staff]",
         "2018-10-20 01:46:40",
         "4.0",
         "As previous reviews have stated, two small pieces of bread between a huge stack of meat pretty much sums up their sandwiches. And as a pure carnivore I have no issues with that. The price was reasonable as well.",
         "0x80c8c415f0a42c77:0x55c554fdc4ad8b9c",
         "Carnegie Deli",
         "36.1205556",
         "-115.1736111",
         "['Deli', 'Takeout Restaurant', 'Sandwich shop']",
         "4.1",
         "706",
         "relevant"
        ],
        [
         "2",
         "1.1e+20",
         "Stevey Markovich",
         "2020-09-13 12:26:40",
         "5.0",
         "Absolutely love this office! Afton is truly amazing and always makes me feel welcomed and special!",
         "0x80c8ce0f7732ee7b:0xea13348742f64327",
         "Center for Cosmetic and Family Dentistry",
         "36.0019288",
         "-115.1074842",
         "['Dentist']",
         "4.9",
         "318",
         "relevant"
        ],
        [
         "3",
         "1.02e+20",
         "William Campbell",
         "2018-10-20 01:46:40",
         "3.0",
         "The food is as good as it usually is",
         "0x80c8dc9da25847c7:0x27b862b824ac757c",
         "Asian Garden",
         "36.1689012",
         "-115.0606013",
         "['Restaurant', 'Asian restaurant', 'Chinese restaurant', 'Thai restaurant']",
         "3.8",
         "128",
         "relevant"
        ],
        [
         "4",
         "1.12e+20",
         "Beverly Thorman",
         "2018-03-02 14:13:20",
         "5.0",
         "We came in without an appointment on a Saturday afternoon and they cut my hair right away. My stylist was Ninette and she was amazing! She was fun to talk with and she gave me the exact style I wanted. The other stylists were also fun and friendly.",
         "0x80c8c03de37488fd:0xdc3302fd9f8f44a",
         "Great Clips",
         "36.1910548",
         "-115.258969",
         "['Hair salon', 'Beauty salon']",
         "4.3",
         "168",
         "relevant"
        ]
       ],
       "shape": {
        "columns": 13,
        "rows": 5
       }
      },
      "text/html": [
       "<div>\n",
       "<style scoped>\n",
       "    .dataframe tbody tr th:only-of-type {\n",
       "        vertical-align: middle;\n",
       "    }\n",
       "\n",
       "    .dataframe tbody tr th {\n",
       "        vertical-align: top;\n",
       "    }\n",
       "\n",
       "    .dataframe thead th {\n",
       "        text-align: right;\n",
       "    }\n",
       "</style>\n",
       "<table border=\"1\" class=\"dataframe\">\n",
       "  <thead>\n",
       "    <tr style=\"text-align: right;\">\n",
       "      <th></th>\n",
       "      <th>user_id</th>\n",
       "      <th>user_name</th>\n",
       "      <th>time</th>\n",
       "      <th>rating</th>\n",
       "      <th>review</th>\n",
       "      <th>gmap_id</th>\n",
       "      <th>business_name</th>\n",
       "      <th>latitude</th>\n",
       "      <th>longitude</th>\n",
       "      <th>business_desc</th>\n",
       "      <th>avg_rating</th>\n",
       "      <th>num_of_reviews</th>\n",
       "      <th>label</th>\n",
       "    </tr>\n",
       "  </thead>\n",
       "  <tbody>\n",
       "    <tr>\n",
       "      <th>0</th>\n",
       "      <td>1.100000e+20</td>\n",
       "      <td>Michelle Banks</td>\n",
       "      <td>2018-03-02 14:13:20</td>\n",
       "      <td>5.0</td>\n",
       "      <td>It's a beautiful place to read books and have ...</td>\n",
       "      <td>0x80c8bf81f68a634f:0xe605b4c3043783c9</td>\n",
       "      <td>Barnes &amp; Noble</td>\n",
       "      <td>36.157754</td>\n",
       "      <td>-115.289418</td>\n",
       "      <td>['Book store', 'Cafe', 'Childrens book store',...</td>\n",
       "      <td>4.6</td>\n",
       "      <td>1719</td>\n",
       "      <td>relevant</td>\n",
       "    </tr>\n",
       "    <tr>\n",
       "      <th>1</th>\n",
       "      <td>1.060000e+20</td>\n",
       "      <td>Steven DeRyck [Staff]</td>\n",
       "      <td>2018-10-20 01:46:40</td>\n",
       "      <td>4.0</td>\n",
       "      <td>As previous reviews have stated, two small pie...</td>\n",
       "      <td>0x80c8c415f0a42c77:0x55c554fdc4ad8b9c</td>\n",
       "      <td>Carnegie Deli</td>\n",
       "      <td>36.120556</td>\n",
       "      <td>-115.173611</td>\n",
       "      <td>['Deli', 'Takeout Restaurant', 'Sandwich shop']</td>\n",
       "      <td>4.1</td>\n",
       "      <td>706</td>\n",
       "      <td>relevant</td>\n",
       "    </tr>\n",
       "    <tr>\n",
       "      <th>2</th>\n",
       "      <td>1.100000e+20</td>\n",
       "      <td>Stevey Markovich</td>\n",
       "      <td>2020-09-13 12:26:40</td>\n",
       "      <td>5.0</td>\n",
       "      <td>Absolutely love this office! Afton is truly am...</td>\n",
       "      <td>0x80c8ce0f7732ee7b:0xea13348742f64327</td>\n",
       "      <td>Center for Cosmetic and Family Dentistry</td>\n",
       "      <td>36.001929</td>\n",
       "      <td>-115.107484</td>\n",
       "      <td>['Dentist']</td>\n",
       "      <td>4.9</td>\n",
       "      <td>318</td>\n",
       "      <td>relevant</td>\n",
       "    </tr>\n",
       "    <tr>\n",
       "      <th>3</th>\n",
       "      <td>1.020000e+20</td>\n",
       "      <td>William Campbell</td>\n",
       "      <td>2018-10-20 01:46:40</td>\n",
       "      <td>3.0</td>\n",
       "      <td>The food is as good as it usually is</td>\n",
       "      <td>0x80c8dc9da25847c7:0x27b862b824ac757c</td>\n",
       "      <td>Asian Garden</td>\n",
       "      <td>36.168901</td>\n",
       "      <td>-115.060601</td>\n",
       "      <td>['Restaurant', 'Asian restaurant', 'Chinese re...</td>\n",
       "      <td>3.8</td>\n",
       "      <td>128</td>\n",
       "      <td>relevant</td>\n",
       "    </tr>\n",
       "    <tr>\n",
       "      <th>4</th>\n",
       "      <td>1.120000e+20</td>\n",
       "      <td>Beverly Thorman</td>\n",
       "      <td>2018-03-02 14:13:20</td>\n",
       "      <td>5.0</td>\n",
       "      <td>We came in without an appointment on a Saturda...</td>\n",
       "      <td>0x80c8c03de37488fd:0xdc3302fd9f8f44a</td>\n",
       "      <td>Great Clips</td>\n",
       "      <td>36.191055</td>\n",
       "      <td>-115.258969</td>\n",
       "      <td>['Hair salon', 'Beauty salon']</td>\n",
       "      <td>4.3</td>\n",
       "      <td>168</td>\n",
       "      <td>relevant</td>\n",
       "    </tr>\n",
       "  </tbody>\n",
       "</table>\n",
       "</div>"
      ],
      "text/plain": [
       "        user_id              user_name                 time  rating  \\\n",
       "0  1.100000e+20         Michelle Banks  2018-03-02 14:13:20     5.0   \n",
       "1  1.060000e+20  Steven DeRyck [Staff]  2018-10-20 01:46:40     4.0   \n",
       "2  1.100000e+20       Stevey Markovich  2020-09-13 12:26:40     5.0   \n",
       "3  1.020000e+20       William Campbell  2018-10-20 01:46:40     3.0   \n",
       "4  1.120000e+20        Beverly Thorman  2018-03-02 14:13:20     5.0   \n",
       "\n",
       "                                              review  \\\n",
       "0  It's a beautiful place to read books and have ...   \n",
       "1  As previous reviews have stated, two small pie...   \n",
       "2  Absolutely love this office! Afton is truly am...   \n",
       "3               The food is as good as it usually is   \n",
       "4  We came in without an appointment on a Saturda...   \n",
       "\n",
       "                                 gmap_id  \\\n",
       "0  0x80c8bf81f68a634f:0xe605b4c3043783c9   \n",
       "1  0x80c8c415f0a42c77:0x55c554fdc4ad8b9c   \n",
       "2  0x80c8ce0f7732ee7b:0xea13348742f64327   \n",
       "3  0x80c8dc9da25847c7:0x27b862b824ac757c   \n",
       "4   0x80c8c03de37488fd:0xdc3302fd9f8f44a   \n",
       "\n",
       "                              business_name   latitude   longitude  \\\n",
       "0                            Barnes & Noble  36.157754 -115.289418   \n",
       "1                             Carnegie Deli  36.120556 -115.173611   \n",
       "2  Center for Cosmetic and Family Dentistry  36.001929 -115.107484   \n",
       "3                              Asian Garden  36.168901 -115.060601   \n",
       "4                               Great Clips  36.191055 -115.258969   \n",
       "\n",
       "                                       business_desc  avg_rating  \\\n",
       "0  ['Book store', 'Cafe', 'Childrens book store',...         4.6   \n",
       "1    ['Deli', 'Takeout Restaurant', 'Sandwich shop']         4.1   \n",
       "2                                        ['Dentist']         4.9   \n",
       "3  ['Restaurant', 'Asian restaurant', 'Chinese re...         3.8   \n",
       "4                     ['Hair salon', 'Beauty salon']         4.3   \n",
       "\n",
       "   num_of_reviews     label  \n",
       "0            1719  relevant  \n",
       "1             706  relevant  \n",
       "2             318  relevant  \n",
       "3             128  relevant  \n",
       "4             168  relevant  "
      ]
     },
     "execution_count": 2,
     "metadata": {},
     "output_type": "execute_result"
    }
   ],
   "source": [
    "df = pd.read_csv(\"final_data/cleaned_dataset.csv\") \n",
    "df.head()"
   ]
  },
  {
   "attachments": {},
   "cell_type": "markdown",
   "id": "07c079b2",
   "metadata": {},
   "source": [
    "# Repetitiveness Score on `review` for each business"
   ]
  },
  {
   "cell_type": "code",
   "execution_count": 3,
   "id": "0ebc9238",
   "metadata": {},
   "outputs": [
    {
     "name": "stdout",
     "output_type": "stream",
     "text": [
      "                                              review  repetitiveness_score\n",
      "0  It's a beautiful place to read books and have ...              0.063355\n",
      "1  As previous reviews have stated, two small pie...              0.011177\n",
      "2  Absolutely love this office! Afton is truly am...              0.000000\n",
      "3               The food is as good as it usually is              0.000000\n",
      "4  We came in without an appointment on a Saturda...              0.000000\n",
      "count    19490.000000\n",
      "mean         0.113701\n",
      "std          0.172934\n",
      "min          0.000000\n",
      "25%          0.000000\n",
      "50%          0.054619\n",
      "75%          0.156233\n",
      "max          0.955507\n",
      "Name: repetitiveness_score, dtype: float64\n"
     ]
    }
   ],
   "source": [
    "def safe_review_text(x):\n",
    "    if pd.isna(x):\n",
    "        return \"\"   # replace NaN with empty string\n",
    "    return str(x)\n",
    "\n",
    "def review_level_repetitiveness(reviews):\n",
    "    reviews = [safe_review_text(r) for r in reviews]\n",
    "    if len(reviews) == 1:\n",
    "        return [0.0]\n",
    "\n",
    "    vectorizer = TfidfVectorizer(stop_words=\"english\")\n",
    "    tfidf = vectorizer.fit_transform(reviews)\n",
    "    sim_matrix = cosine_similarity(tfidf)\n",
    "\n",
    "    scores = []\n",
    "    for i in range(len(reviews)):\n",
    "        sims = np.delete(sim_matrix[i], i)\n",
    "        avg_sim = sims.mean()\n",
    "        max_sim = sims.max()\n",
    "        score = 0.7 * avg_sim + 0.3 * max_sim\n",
    "        scores.append(score)\n",
    "    return scores\n",
    "\n",
    "def compute_repetitiveness(df):\n",
    "    scores = np.zeros(len(df))  # placeholder array\n",
    "    for gmap_id, group in df.groupby(\"gmap_id\"):\n",
    "        reviews = group[\"review\"].tolist()\n",
    "        group_scores = review_level_repetitiveness(reviews)\n",
    "        scores[group.index] = group_scores\n",
    "    df[\"repetitiveness_score\"] = scores\n",
    "    return df\n",
    "\n",
    "\n",
    "df = compute_repetitiveness(df)\n",
    "\n",
    "print(df[[\"review\", \"repetitiveness_score\"]].head())\n",
    "print(df[\"repetitiveness_score\"].describe())"
   ]
  },
  {
   "attachments": {},
   "cell_type": "markdown",
   "id": "74c39eab",
   "metadata": {},
   "source": [
    "# Sentiment Analysis on `review`"
   ]
  },
  {
   "cell_type": "code",
   "execution_count": 4,
   "id": "f438b1af",
   "metadata": {},
   "outputs": [
    {
     "name": "stderr",
     "output_type": "stream",
     "text": [
      "Device set to use mps:0\n"
     ]
    },
    {
     "name": "stdout",
     "output_type": "stream",
     "text": [
      "sentiment_label\n",
      "Positive    11532\n",
      "Negative     7640\n",
      "Neutral       318\n",
      "Name: count, dtype: int64\n"
     ]
    }
   ],
   "source": [
    "df = df[df['review'].notnull()].reset_index(drop=True)\n",
    "\n",
    "# Initialize sentiment analysis pipeline\n",
    "classifier = pipeline(\"sentiment-analysis\", model=\"distilbert-base-uncased-finetuned-sst-2-english\")\n",
    "\n",
    "# Function to get label and score\n",
    "def get_sentiment_with_score(text):\n",
    "    result = classifier(text[:512])[0]  # truncate long text\n",
    "    return pd.Series([result['label'], result['score']])\n",
    "\n",
    "# Apply function\n",
    "df[['sentiment', 'sentiment_score']] = df['review'].apply(get_sentiment_with_score)\n",
    "\n",
    "# Assign human-readable labels with Neutral class\n",
    "def label_with_neutral(row, threshold_low=0.4, threshold_high=0.6):\n",
    "    if row['sentiment_score'] >= threshold_high:\n",
    "        return \"Positive\" if row['sentiment'] == \"POSITIVE\" else \"Negative\"\n",
    "    elif row['sentiment_score'] <= threshold_low:\n",
    "        return \"Negative\" if row['sentiment'] == \"NEGATIVE\" else \"Positive\"\n",
    "    else:\n",
    "        return \"Neutral\"\n",
    "\n",
    "df['sentiment_label'] = df.apply(label_with_neutral, axis=1)\n",
    "\n",
    "# Optional: check distribution\n",
    "print(df['sentiment_label'].value_counts())"
   ]
  },
  {
   "attachments": {},
   "cell_type": "markdown",
   "id": "3d0cad3f",
   "metadata": {},
   "source": [
    "# `Sentiment Analysis` against `rating`"
   ]
  },
  {
   "cell_type": "code",
   "execution_count": 5,
   "id": "fda75702",
   "metadata": {},
   "outputs": [],
   "source": [
    "def check_mismatch(row):\n",
    "    if row['rating'] >= 4 and row['sentiment_label'] == \"Negative\":\n",
    "        return \"Suspicious\"\n",
    "    elif row['rating'] <= 2 and row['sentiment_label'] == \"Positive\":\n",
    "        return \"Suspicious\"\n",
    "    else:\n",
    "        return \"Legit\"\n",
    "\n",
    "df['suspicion'] = df.apply(check_mismatch, axis=1)"
   ]
  },
  {
   "cell_type": "code",
   "execution_count": 6,
   "id": "bfaa163e",
   "metadata": {},
   "outputs": [
    {
     "name": "stdout",
     "output_type": "stream",
     "text": [
      "suspicion\n",
      "Legit         15403\n",
      "Suspicious     4087\n",
      "Name: count, dtype: int64\n"
     ]
    }
   ],
   "source": [
    "print(df['suspicion'].value_counts())"
   ]
  },
  {
   "attachments": {},
   "cell_type": "markdown",
   "id": "a519d1cc",
   "metadata": {},
   "source": [
    "# Length of `review`"
   ]
  },
  {
   "cell_type": "code",
   "execution_count": 7,
   "id": "b0f717ae",
   "metadata": {},
   "outputs": [
    {
     "data": {
      "application/vnd.microsoft.datawrangler.viewer.v0+json": {
       "columns": [
        {
         "name": "index",
         "rawType": "int64",
         "type": "integer"
        },
        {
         "name": "review",
         "rawType": "object",
         "type": "string"
        },
        {
         "name": "review_length_words",
         "rawType": "int64",
         "type": "integer"
        }
       ],
       "ref": "480094ff-5a28-492e-a2d7-07c7ccc45a90",
       "rows": [
        [
         "0",
         "It's a beautiful place to read books and have food or coffee and tea. The best cookies",
         "17"
        ],
        [
         "1",
         "As previous reviews have stated, two small pieces of bread between a huge stack of meat pretty much sums up their sandwiches. And as a pure carnivore I have no issues with that. The price was reasonable as well.",
         "39"
        ],
        [
         "2",
         "Absolutely love this office! Afton is truly amazing and always makes me feel welcomed and special!",
         "16"
        ],
        [
         "3",
         "The food is as good as it usually is",
         "9"
        ],
        [
         "4",
         "We came in without an appointment on a Saturday afternoon and they cut my hair right away. My stylist was Ninette and she was amazing! She was fun to talk with and she gave me the exact style I wanted. The other stylists were also fun and friendly.",
         "48"
        ]
       ],
       "shape": {
        "columns": 2,
        "rows": 5
       }
      },
      "text/html": [
       "<div>\n",
       "<style scoped>\n",
       "    .dataframe tbody tr th:only-of-type {\n",
       "        vertical-align: middle;\n",
       "    }\n",
       "\n",
       "    .dataframe tbody tr th {\n",
       "        vertical-align: top;\n",
       "    }\n",
       "\n",
       "    .dataframe thead th {\n",
       "        text-align: right;\n",
       "    }\n",
       "</style>\n",
       "<table border=\"1\" class=\"dataframe\">\n",
       "  <thead>\n",
       "    <tr style=\"text-align: right;\">\n",
       "      <th></th>\n",
       "      <th>review</th>\n",
       "      <th>review_length_words</th>\n",
       "    </tr>\n",
       "  </thead>\n",
       "  <tbody>\n",
       "    <tr>\n",
       "      <th>0</th>\n",
       "      <td>It's a beautiful place to read books and have ...</td>\n",
       "      <td>17</td>\n",
       "    </tr>\n",
       "    <tr>\n",
       "      <th>1</th>\n",
       "      <td>As previous reviews have stated, two small pie...</td>\n",
       "      <td>39</td>\n",
       "    </tr>\n",
       "    <tr>\n",
       "      <th>2</th>\n",
       "      <td>Absolutely love this office! Afton is truly am...</td>\n",
       "      <td>16</td>\n",
       "    </tr>\n",
       "    <tr>\n",
       "      <th>3</th>\n",
       "      <td>The food is as good as it usually is</td>\n",
       "      <td>9</td>\n",
       "    </tr>\n",
       "    <tr>\n",
       "      <th>4</th>\n",
       "      <td>We came in without an appointment on a Saturda...</td>\n",
       "      <td>48</td>\n",
       "    </tr>\n",
       "  </tbody>\n",
       "</table>\n",
       "</div>"
      ],
      "text/plain": [
       "                                              review  review_length_words\n",
       "0  It's a beautiful place to read books and have ...                   17\n",
       "1  As previous reviews have stated, two small pie...                   39\n",
       "2  Absolutely love this office! Afton is truly am...                   16\n",
       "3               The food is as good as it usually is                    9\n",
       "4  We came in without an appointment on a Saturda...                   48"
      ]
     },
     "execution_count": 7,
     "metadata": {},
     "output_type": "execute_result"
    }
   ],
   "source": [
    "df['review_length_words'] = df['review'].astype(str).apply(lambda x: len(x.split()))\n",
    "df[['review', 'review_length_words']].head()"
   ]
  },
  {
   "attachments": {},
   "cell_type": "markdown",
   "id": "c785b759",
   "metadata": {},
   "source": [
    "# Embedding of `review`"
   ]
  },
  {
   "cell_type": "code",
   "execution_count": 8,
   "id": "854c0cbd",
   "metadata": {},
   "outputs": [
    {
     "name": "stderr",
     "output_type": "stream",
     "text": [
      "Batches:   0%|          | 0/610 [00:00<?, ?it/s]huggingface/tokenizers: The current process just got forked, after parallelism has already been used. Disabling parallelism to avoid deadlocks...\n",
      "To disable this warning, you can either:\n",
      "\t- Avoid using `tokenizers` before the fork if possible\n",
      "\t- Explicitly set the environment variable TOKENIZERS_PARALLELISM=(true | false)\n",
      "Batches: 100%|██████████| 610/610 [00:54<00:00, 11.17it/s]\n"
     ]
    }
   ],
   "source": [
    "# Load SBERT model\n",
    "model = SentenceTransformer('all-MiniLM-L6-v2')\n",
    "\n",
    "# Keep only non-null reviews and reset index\n",
    "df = df[df['review'].notnull()].reset_index(drop=True)\n",
    "\n",
    "# Generate embeddings\n",
    "embeddings = model.encode(df['review'].astype(str).tolist(), batch_size=32, show_progress_bar=True)\n",
    "\n",
    "# Append embeddings as a new column\n",
    "df['review_embedding'] = list(embeddings)"
   ]
  },
  {
   "attachments": {},
   "cell_type": "markdown",
   "id": "fde37465",
   "metadata": {},
   "source": [
    "# Embedding of `business_desc`"
   ]
  },
  {
   "cell_type": "code",
   "execution_count": 9,
   "id": "4a6aef32",
   "metadata": {},
   "outputs": [
    {
     "name": "stderr",
     "output_type": "stream",
     "text": [
      "Batches: 100%|██████████| 610/610 [00:13<00:00, 46.85it/s]\n"
     ]
    }
   ],
   "source": [
    "import ast\n",
    "\n",
    "# Convert string to list\n",
    "df['business_desc_list'] = df['business_desc'].apply(lambda x: ast.literal_eval(x) if isinstance(x, str) else [])\n",
    "\n",
    "# Join into a single string per row\n",
    "df['business_desc_str'] = df['business_desc_list'].apply(lambda x: \" \".join(x))\n",
    "\n",
    "# Generate embeddings\n",
    "desc_embeddings = model.encode(df['business_desc_str'].tolist(), batch_size=32, show_progress_bar=True)\n",
    "\n",
    "# Append embeddings as a new column\n",
    "df['business_desc_embedding'] = list(desc_embeddings)\n",
    "\n",
    "# Optional: drop temporary columns\n",
    "df.drop(columns=['business_desc_list', 'business_desc_str'], inplace=True)"
   ]
  },
  {
   "attachments": {},
   "cell_type": "markdown",
   "id": "e68b45e5",
   "metadata": {},
   "source": [
    "# `Name Validity` boolean column"
   ]
  },
  {
   "cell_type": "code",
   "execution_count": 10,
   "id": "4191ca7f",
   "metadata": {},
   "outputs": [
    {
     "data": {
      "application/vnd.microsoft.datawrangler.viewer.v0+json": {
       "columns": [
        {
         "name": "index",
         "rawType": "int64",
         "type": "integer"
        },
        {
         "name": "user_id",
         "rawType": "float64",
         "type": "float"
        },
        {
         "name": "user_name",
         "rawType": "object",
         "type": "string"
        },
        {
         "name": "time",
         "rawType": "object",
         "type": "string"
        },
        {
         "name": "rating",
         "rawType": "float64",
         "type": "float"
        },
        {
         "name": "review",
         "rawType": "object",
         "type": "string"
        },
        {
         "name": "gmap_id",
         "rawType": "object",
         "type": "string"
        },
        {
         "name": "business_name",
         "rawType": "object",
         "type": "string"
        },
        {
         "name": "latitude",
         "rawType": "float64",
         "type": "float"
        },
        {
         "name": "longitude",
         "rawType": "float64",
         "type": "float"
        },
        {
         "name": "business_desc",
         "rawType": "object",
         "type": "string"
        },
        {
         "name": "avg_rating",
         "rawType": "float64",
         "type": "float"
        },
        {
         "name": "num_of_reviews",
         "rawType": "int64",
         "type": "integer"
        },
        {
         "name": "label",
         "rawType": "object",
         "type": "string"
        },
        {
         "name": "repetitiveness_score",
         "rawType": "float64",
         "type": "float"
        },
        {
         "name": "sentiment",
         "rawType": "object",
         "type": "string"
        },
        {
         "name": "sentiment_score",
         "rawType": "float64",
         "type": "float"
        },
        {
         "name": "sentiment_label",
         "rawType": "object",
         "type": "string"
        },
        {
         "name": "suspicion",
         "rawType": "object",
         "type": "string"
        },
        {
         "name": "review_length_words",
         "rawType": "int64",
         "type": "integer"
        },
        {
         "name": "review_embedding",
         "rawType": "object",
         "type": "unknown"
        },
        {
         "name": "business_desc_embedding",
         "rawType": "object",
         "type": "unknown"
        },
        {
         "name": "name_validity",
         "rawType": "bool",
         "type": "boolean"
        }
       ],
       "ref": "2de5facc-d45f-4e15-8a86-6f3183d0d7f5",
       "rows": [
        [
         "0",
         "1.1e+20",
         "Michelle Banks",
         "2018-03-02 14:13:20",
         "5.0",
         "It's a beautiful place to read books and have food or coffee and tea. The best cookies",
         "0x80c8bf81f68a634f:0xe605b4c3043783c9",
         "Barnes & Noble",
         "36.1577543",
         "-115.2894176",
         "['Book store', 'Cafe', 'Childrens book store', 'Hobby store', 'Toy store']",
         "4.6",
         "1719",
         "relevant",
         "0.0633548122219654",
         "POSITIVE",
         "0.9998846054077148",
         "Positive",
         "Legit",
         "17",
         "[ 1.90505534e-02 -7.93722086e-03 -2.14198250e-02  6.49643838e-02\n -6.83205128e-02 -1.49083836e-02  7.53148869e-02 -9.60453078e-02\n -2.38486193e-02  1.83083657e-02 -2.71989554e-02 -2.16780361e-02\n -4.39348035e-02 -3.05510517e-02  3.06036649e-03 -6.99869916e-02\n  7.38594234e-02 -4.09229435e-02  5.71041293e-02 -1.02409847e-01\n -5.79096237e-03 -2.00492684e-02  1.04096644e-01  4.21075374e-02\n -4.47170697e-02  6.00497052e-02  2.60779192e-03 -1.45938015e-02\n -4.35275510e-02 -4.23322897e-03  1.91654507e-02  1.40972501e-02\n -3.71971875e-02 -5.29122427e-02 -2.80610453e-02  3.85291018e-02\n  7.71275684e-02 -7.66399130e-02  5.48986942e-02 -2.74527874e-02\n -5.69955818e-02  4.86564636e-02  1.18949944e-02  3.34300771e-02\n -7.70534128e-02  3.68640162e-02 -5.47051094e-02 -5.03138639e-02\n  7.30664432e-02 -6.11655181e-03  4.04181443e-02  8.87254924e-02\n -9.61831491e-03 -2.47741174e-02 -1.97865386e-02  6.66240528e-02\n -1.23827048e-01 -8.72725695e-02  2.46562287e-02  9.11939424e-03\n  4.04762402e-02  4.27918620e-02 -1.15519986e-02  6.75657839e-02\n  2.88651139e-02 -8.66768658e-02 -7.43276775e-02  6.68351203e-02\n -9.71996505e-03 -8.60356092e-02 -6.31276518e-02  7.33551476e-03\n  8.10794756e-02 -1.34850750e-02 -8.49666132e-04 -4.67255712e-02\n -1.21901855e-02 -1.15374113e-02 -8.47797189e-03  4.47656885e-02\n  2.04104756e-04 -1.94690358e-02  7.58227631e-02  9.72573161e-02\n -5.54254204e-02 -1.14566416e-01  9.67789534e-03  1.22821713e-02\n  5.61845750e-02 -2.91754454e-02  9.62737277e-02 -6.52140647e-04\n -6.78625852e-02  9.18484479e-02 -4.16518934e-03 -3.07352524e-02\n  2.09483597e-02  5.72987348e-02  2.24411651e-03  5.81624173e-02\n  1.08445203e-02  1.08760484e-01  4.83741947e-02 -2.96136159e-02\n -4.21066321e-02 -2.93810181e-02 -6.09099306e-02  3.93234342e-02\n  6.00834191e-02 -4.99569662e-02  9.94024891e-03  3.85396853e-02\n  7.76782492e-03 -1.11983893e-02 -3.00930738e-02  5.64539107e-03\n  8.13781619e-02 -3.86602967e-03  5.27169444e-02 -2.55754264e-03\n  1.12826964e-02  8.45440254e-02 -1.23215234e-02  4.36218195e-02\n  4.98811379e-02 -5.19207679e-02  3.03155556e-03 -4.13804280e-33\n -3.83945815e-02  3.82072218e-02  4.84061651e-02 -1.70385689e-02\n  4.74558994e-02  2.86599379e-02 -2.13670991e-02 -1.21228946e-02\n -8.27350169e-02  1.52104357e-02  2.91150771e-02 -1.97458658e-02\n -2.92864926e-02  1.96921173e-02 -1.11414902e-02  8.52849036e-02\n -3.33539210e-02 -1.93018094e-02  1.64892490e-03 -3.32413912e-02\n -6.28599897e-02 -6.63660094e-02  2.46012211e-02 -1.16140032e-02\n -2.38998514e-02  2.43734885e-02  2.52482649e-02  1.48199303e-02\n  2.74585206e-02  4.11457159e-02  9.15921293e-03 -6.82871118e-02\n -9.61702019e-02 -9.03181210e-02  2.08747927e-02  2.75611151e-02\n  1.16968919e-02 -2.47695646e-03  2.61158608e-02  4.96213175e-02\n -2.05368232e-02 -1.97624154e-02  1.35704707e-02  8.70525688e-02\n -5.12351543e-02  4.38756570e-02  7.65189342e-03  1.78025141e-02\n  9.14987922e-02  5.79732424e-03 -8.74718577e-02 -9.65066105e-02\n -1.53389312e-02  4.81990576e-02 -4.14222665e-02 -1.34749981e-02\n  3.85634303e-02  7.47657418e-02  5.97267300e-02 -3.62821408e-02\n  2.48086751e-02 -7.85358436e-03 -5.20874709e-02 -7.80517161e-02\n -6.35211216e-03  1.61733162e-02 -1.36856816e-03  8.25303942e-02\n  2.31566839e-02 -4.64006141e-02 -3.79159711e-02 -2.79096235e-02\n  8.57490599e-02 -4.49562036e-02 -4.50886562e-02  4.04589735e-02\n  2.28369068e-02  6.97533339e-02  5.57793397e-03  4.42773961e-02\n  9.88515988e-02 -1.94128435e-02 -3.85358520e-02  4.62178066e-02\n -3.13277841e-02 -4.03173789e-02 -2.30083219e-03 -7.67814070e-02\n -4.12247293e-02 -6.57137334e-02 -5.94732258e-03  1.03692552e-02\n  1.18508622e-01 -1.03232432e-02 -8.03970471e-02  1.45807135e-33\n  3.25793475e-02 -1.02992788e-01  7.81735871e-04  2.15099324e-02\n -9.79200527e-02 -5.70880733e-02 -2.90788822e-02  3.63376252e-02\n  3.78436372e-02  6.65169815e-03 -3.50670889e-02 -1.58818103e-02\n  5.16852215e-02  5.37277199e-02 -4.11499292e-02  6.93129525e-02\n  4.12105769e-02  2.90560238e-02 -8.24202970e-02 -4.83428836e-02\n -5.19626103e-02  1.04999647e-01 -5.53777069e-02 -3.12603600e-02\n  3.23209576e-02  1.03174169e-02 -4.51954864e-02  7.61879608e-03\n -7.02755526e-02 -9.86430142e-03 -7.07025174e-04 -5.94011210e-02\n -1.19524430e-02 -1.93918534e-02  8.22083373e-03  6.10298179e-02\n -1.80920702e-03 -2.08198149e-02 -1.08982176e-01  5.56769222e-02\n  1.11737037e-02 -2.38117669e-02  1.53256105e-02  7.40222575e-04\n  5.33147641e-02  6.24620281e-02  9.70305502e-03  6.32402599e-02\n -7.65390554e-03  6.40904009e-02  3.18177305e-02 -1.95990112e-02\n -7.52765834e-02 -5.17381877e-02  5.21780662e-02  5.39689288e-02\n -6.15060292e-02  2.45747399e-02 -3.31564583e-02 -1.33689776e-01\n -8.42783451e-02  2.10073218e-02  2.61820089e-02  8.62457603e-02\n  6.22496866e-02 -1.13972826e-02 -9.50604156e-02 -1.90972164e-02\n  4.18185703e-02 -1.83813162e-02 -1.12427175e-01 -2.34699994e-02\n -1.83027405e-02 -6.74295519e-03  2.05458291e-02  7.51946941e-02\n  1.95927620e-01 -5.09115942e-02 -3.68861482e-03  4.54332912e-03\n -5.47106704e-03  3.41895223e-02 -2.92046182e-02 -1.38240531e-02\n  5.18670445e-03  7.30803087e-02 -6.43675448e-03 -6.01096600e-02\n -3.01810307e-03 -2.94521004e-02 -4.60820738e-03  7.83331543e-02\n -7.21476376e-02 -3.81560065e-02 -3.57971080e-02 -2.00230588e-08\n  6.22633565e-03 -1.03232123e-01 -4.01857011e-02  7.42886811e-02\n  2.44924203e-02 -7.23391995e-02  8.77873003e-02  5.98219484e-02\n -5.57122789e-02  9.59570259e-02 -6.96036918e-03  5.82969971e-02\n -3.39457579e-02 -1.19385459e-02 -3.44933048e-02  2.75145527e-02\n  1.28286794e-01  1.54194878e-02 -2.19187606e-02  1.41506605e-02\n  3.13090347e-03 -2.07471587e-02  6.07139580e-02  5.35908639e-02\n  3.78662464e-03 -1.88005306e-02  7.97915310e-02 -9.53236071e-04\n  3.11438497e-02 -2.88494769e-02 -4.77393158e-02  3.97845693e-02\n -6.35476261e-02  5.37019894e-02  1.10873859e-02 -4.96392250e-02\n -8.05278867e-02 -3.28922570e-02 -6.96428791e-02 -5.60541861e-02\n -4.90311272e-02 -7.96093866e-02  1.81898735e-02  1.99773628e-02\n -4.33222055e-02  9.45846736e-03  3.13176252e-02  7.91592151e-02\n  2.13263892e-02  3.89070809e-03 -1.14277013e-01  1.52077638e-02\n  5.62001467e-02  2.79290453e-02  1.80376191e-02 -4.77010608e-02\n -5.13644442e-02 -1.39801353e-02  4.99767065e-02 -9.36702639e-03\n  9.71420631e-02  4.69299452e-03 -4.65528555e-02 -5.16914688e-02]",
         "[-1.83555495e-03  9.61866044e-03  2.88142487e-02  4.38223332e-02\n -5.01474440e-02  6.80116713e-02  9.18116793e-03  4.83984547e-03\n -1.17200632e-02  4.76824678e-02  9.61719751e-02  4.70287492e-03\n  4.10576575e-02  1.50387948e-02  7.28655383e-02  7.99183676e-04\n  1.87473204e-02  3.19838151e-02  8.17920268e-02 -9.39703584e-02\n -1.73704736e-02  1.44022638e-02  2.30026711e-02  9.76754539e-03\n -6.59760460e-02  5.11787012e-02 -4.13745828e-02 -4.38831970e-02\n  1.44268980e-03 -5.70691898e-02  3.09235398e-02  1.63367633e-02\n  3.36723104e-02 -3.95261450e-03  3.90941836e-02  2.77745128e-02\n  8.99941549e-02 -5.12940362e-02  6.59383088e-02 -2.24289903e-03\n -9.18624830e-03 -3.36081907e-02 -6.35343865e-02 -7.69939134e-03\n  2.88170539e-02  1.97246503e-02  1.54915508e-02 -2.64756195e-02\n  5.47770001e-02  4.27918844e-02  1.17639191e-02 -1.36914020e-02\n -4.61717471e-02 -4.17132825e-02 -3.94370407e-03  5.54066375e-02\n -2.65487493e-03 -2.00160313e-02  8.85974169e-02 -1.03259236e-02\n  4.93506566e-02 -9.76161733e-02 -1.72018223e-02 -1.15993870e-02\n -5.15628047e-02 -5.10688163e-02 -6.56878054e-02  8.96463171e-02\n -3.94575894e-02 -1.09658092e-01 -3.74701805e-02  1.96623839e-02\n  1.36983776e-02  5.15471548e-02  1.03030121e-02 -2.34388956e-03\n  4.95961867e-03 -8.11541453e-02  3.50452550e-02 -4.28594723e-02\n -1.26687780e-01 -5.93810193e-02  2.09610276e-02 -4.40544561e-02\n -5.30368350e-02  2.40015723e-02  4.54910323e-02 -5.30069657e-02\n  2.46109138e-03  4.17912975e-02 -4.66382056e-02  5.21585857e-03\n  2.55013518e-02  5.73858917e-02 -1.10577129e-01 -3.45423780e-02\n  4.60389592e-02  9.75011569e-03 -3.49078998e-02  1.08484533e-02\n -3.95491626e-03  1.05633087e-01  8.79670531e-02  9.03529022e-03\n -3.47696543e-02 -6.67210370e-02 -6.27313927e-02  3.29832248e-02\n -1.30669279e-02  1.45988604e-02 -9.56186652e-02  1.66984964e-02\n -1.76372007e-02  2.07588766e-02 -3.71914580e-02 -3.53049524e-02\n  7.36109465e-02  1.00323220e-03  7.36853778e-02  2.74891430e-03\n  2.07442362e-02  7.96741620e-02  1.20641254e-02 -2.13453807e-02\n -1.14055537e-01 -1.38749965e-02  9.58995055e-03  3.92299456e-33\n -1.41521674e-02  6.40804842e-02  1.05558813e-03  3.00936662e-02\n  5.96148707e-02 -1.84390265e-02  7.88912103e-02  1.22262035e-02\n -1.11258486e-02  1.82022974e-02 -4.03407030e-02  1.43022249e-02\n -9.75923687e-02  3.47054824e-02  4.98541221e-02  8.55153054e-02\n -9.29160491e-02  3.93648725e-03  1.46274874e-02 -2.80847121e-02\n -5.62463813e-02  1.49832265e-02 -1.99645255e-02  5.60625680e-02\n  5.21781966e-02  3.27889249e-02  3.23518459e-03  4.56091538e-02\n  7.45962039e-02  2.78577972e-02  6.17865995e-02 -6.41972721e-02\n  2.12871116e-02 -4.01357375e-02 -5.33885956e-02 -4.10363078e-02\n -7.09925452e-03 -5.50309159e-02  5.48392795e-02  4.78394292e-02\n -5.01689389e-02 -1.49646606e-02 -4.67670942e-03  8.01968426e-02\n -1.15502328e-02  3.77895311e-02  4.00144607e-02  3.07583027e-02\n -7.38036120e-03  7.47355372e-02 -9.88202840e-02 -9.48163029e-03\n -8.97152051e-02 -6.46151835e-03 -2.16742437e-02 -8.76448750e-02\n  6.17432455e-03 -1.24718416e-02  3.76301631e-02  7.39502721e-03\n  8.98309276e-02  1.29837796e-01  3.10542453e-02 -2.36199354e-03\n -6.97553111e-03 -1.15262531e-02  3.57292853e-02 -2.18694545e-02\n  2.45533790e-02 -1.50130522e-02  4.03208323e-02  7.83606395e-02\n  1.00264482e-01 -7.24654272e-02 -2.89875772e-02  1.09288087e-02\n -8.86222720e-02  1.33959483e-02 -6.46258593e-02 -1.02647208e-01\n  6.82212338e-02  1.21717947e-02  8.46200809e-03  5.91852292e-02\n -9.71377343e-02 -7.10929781e-02  4.25405689e-02 -7.10071400e-02\n -6.63128793e-02 -1.17685571e-02 -2.16692146e-02  7.22801015e-02\n  1.85732264e-03  1.02849547e-02 -2.60876212e-02 -4.04769908e-33\n  9.29156095e-02 -1.37254387e-01 -1.95961557e-02  6.13818616e-02\n -1.57835837e-02  1.73509698e-02  1.06680077e-02 -4.85740788e-02\n -2.08748076e-02 -3.27678174e-02 -1.15867905e-01  6.19756337e-03\n  3.59799638e-02  2.77061313e-02 -1.09870592e-02  7.65361078e-03\n  4.97173294e-02  1.29963970e-02  2.93616764e-02 -3.91136333e-02\n -1.34474505e-02  1.41670005e-02 -7.04799294e-02  3.85149494e-02\n  3.57991569e-02 -4.12663668e-02 -7.41483569e-02 -5.47398143e-02\n -1.06076568e-01  5.43292537e-02 -2.02264916e-03 -6.80279657e-02\n  1.06504999e-01  1.15253299e-01 -3.34208049e-02 -9.46580917e-02\n -5.75842001e-02 -7.18245143e-03  4.66885827e-02 -1.54620185e-02\n  4.81199995e-02 -5.51389381e-02 -4.84551601e-02  8.45690817e-02\n -1.97917521e-02 -9.65184048e-02  4.86069592e-03 -3.66185121e-02\n  1.24207050e-01 -9.30345710e-03 -2.11531855e-02 -7.01172464e-03\n -3.47920433e-02 -1.31924644e-01 -6.35506138e-02  1.17564224e-01\n  1.16881523e-02 -2.39589941e-02  2.87590064e-02  1.45486770e-02\n -6.39027543e-03 -1.23527767e-02 -1.26885390e-03  6.19927943e-02\n  2.74830218e-03 -5.37211038e-02  2.12356984e-03  2.39436282e-03\n  2.63802428e-02 -4.43207063e-02  4.94087860e-02  1.37870952e-01\n  6.66264147e-02 -3.83226313e-02 -1.33463308e-01  4.92613018e-02\n  3.04958485e-02  5.24492301e-02 -1.77233294e-03 -7.83541764e-04\n -2.83322427e-02 -6.56890357e-03  5.12484647e-02  2.20466964e-02\n -5.66491038e-02  6.85851788e-03 -1.79230198e-02  1.62905455e-02\n -3.85045297e-02 -5.79401888e-02  6.70363940e-03  9.91580039e-02\n -6.22366294e-02  4.99017648e-02  4.91100773e-02 -1.95222096e-08\n -1.77300926e-02 -3.54371183e-02 -2.54818983e-02  4.36787643e-02\n  8.20333585e-02 -4.37541818e-03  5.88033833e-02  3.02512553e-02\n  2.88169570e-02  3.72367166e-02 -1.59917027e-02 -3.77760604e-02\n -3.07931434e-02  3.44715156e-02  3.61826271e-02 -2.38689799e-02\n  9.12554115e-02  2.84594949e-02  3.70395067e-03  9.66246650e-02\n  2.02830024e-02  5.85767515e-02  3.87757160e-02  6.70306850e-04\n -8.32747743e-02 -3.19885164e-02 -2.46356241e-02 -1.75412069e-03\n  1.45546095e-02 -2.17739940e-02  5.00489734e-02  9.52840783e-03\n  1.21381376e-02 -1.44391991e-02  3.95880230e-02 -8.81159157e-02\n -7.83338323e-02  6.83870986e-02 -1.30381763e-01  2.28872765e-02\n -4.50529046e-02 -6.97818026e-02 -1.37309255e-02 -6.77860389e-03\n  1.34829711e-03  5.27010933e-02  1.52378511e-02 -2.38977298e-02\n  1.14905769e-02  8.94973427e-02 -6.45940602e-02 -1.58992484e-02\n  2.28589941e-02 -8.73828009e-02  3.02458182e-02  8.06175638e-03\n -7.92526677e-02 -2.18930505e-02 -2.38573439e-02  1.08310003e-02\n  1.18860481e-02 -5.07306047e-02 -1.37805976e-02  6.70165047e-02]",
         "True"
        ],
        [
         "1",
         "1.06e+20",
         "Steven DeRyck [Staff]",
         "2018-10-20 01:46:40",
         "4.0",
         "As previous reviews have stated, two small pieces of bread between a huge stack of meat pretty much sums up their sandwiches. And as a pure carnivore I have no issues with that. The price was reasonable as well.",
         "0x80c8c415f0a42c77:0x55c554fdc4ad8b9c",
         "Carnegie Deli",
         "36.1205556",
         "-115.1736111",
         "['Deli', 'Takeout Restaurant', 'Sandwich shop']",
         "4.1",
         "706",
         "relevant",
         "0.011177477364305598",
         "POSITIVE",
         "0.9971845746040344",
         "Positive",
         "Legit",
         "39",
         "[-3.98575701e-02  4.56756018e-02  3.53269391e-02  1.30935851e-02\n -1.08062387e-01 -2.53284350e-02 -7.10901693e-02  4.05794531e-02\n  3.24799493e-02  2.39054915e-02  5.58772823e-03 -7.31401518e-02\n -4.01521195e-03 -9.82545316e-03 -1.44423246e-02 -8.31653550e-02\n  1.75867170e-01 -4.07101177e-02 -3.28968428e-02  1.74189713e-02\n -9.34934914e-02 -2.45422237e-02  4.49214689e-02  3.96324880e-02\n  1.98230129e-02 -1.66435596e-02 -1.49249518e-02 -5.10308370e-02\n -9.94549133e-03 -2.80308165e-02 -3.53869684e-02 -3.55938300e-02\n -2.63701938e-03 -1.94421981e-03 -3.93103948e-03 -1.58234518e-02\n  6.54768124e-02  1.08252484e-02  2.30755638e-02  2.41838489e-02\n  2.89431568e-02 -2.26174667e-02 -3.31698060e-02 -5.68661243e-02\n -1.57327652e-02 -2.99725309e-02 -4.98359352e-02  3.02960649e-02\n  2.84682382e-02 -6.32344633e-02 -1.05774075e-01 -1.48524838e-02\n  1.40300319e-02 -1.12977907e-01 -2.08587833e-02  8.17320216e-03\n -6.52413890e-02 -3.63115370e-02 -1.89591050e-02  8.37099031e-02\n  1.29361879e-02 -1.68195814e-02 -3.34708020e-02 -5.68668777e-03\n  7.93294236e-02 -7.15196356e-02 -3.33485715e-02  3.56838368e-02\n -2.79770382e-02  6.64729029e-02  4.29264791e-02 -5.63331996e-04\n  5.49935289e-02  5.12362598e-03 -1.57618113e-02 -2.67252438e-02\n  5.01737483e-02 -8.99017677e-02  6.44730553e-02 -2.82150656e-02\n -1.38781918e-02 -4.42995504e-02 -4.35439385e-02 -3.92653160e-02\n  5.73972613e-02 -5.06823808e-02  2.00458020e-02 -3.00457235e-02\n -1.09666660e-02  3.92398350e-02  6.81277215e-02 -6.60925880e-02\n  3.05845961e-02 -3.40045206e-02  2.96934992e-02 -7.01841246e-03\n -4.03214172e-02 -5.31682521e-02  5.13465554e-02 -1.92058329e-02\n -1.13983620e-02  3.95015068e-02  5.36409300e-03 -5.85336164e-02\n  7.78199965e-03 -1.49089359e-02 -8.12409259e-03  2.58255899e-02\n  2.96607930e-02  2.38906518e-02  2.32407991e-02  6.21431917e-02\n -7.62671381e-02 -3.04054320e-02 -1.01849481e-01  9.74718332e-02\n  9.41321775e-02 -1.07992761e-01  1.50209498e-02 -1.90334283e-02\n -5.95090762e-02  2.13851985e-02 -2.65689511e-02  6.89924881e-02\n -1.12801008e-02 -3.74193154e-02  3.39621417e-02  8.97836800e-34\n -5.93346618e-02 -3.03186732e-03 -3.16448626e-03 -2.96806209e-02\n -3.14426944e-02 -2.95012146e-02 -4.12034690e-02  4.44730930e-03\n -2.34786533e-02  7.36106485e-02 -1.64496992e-02 -5.91329411e-02\n  5.35002351e-02  4.76284884e-02  1.59456786e-02 -5.65043427e-02\n -6.19182102e-02  7.31738796e-03 -1.13347871e-02 -7.42488424e-04\n -7.57439956e-02  4.82120067e-02  9.85169560e-02  1.55541189e-02\n -6.84911013e-03 -1.14311799e-02  1.30763687e-02 -5.65453880e-02\n -1.48319779e-02  1.56690888e-02 -1.48786213e-02 -2.14960203e-02\n -2.05160640e-02 -1.48320980e-02  2.90426950e-04  6.55203238e-02\n -1.23142563e-02 -3.87472622e-02  4.02076822e-03  2.25438830e-02\n  2.48438306e-03 -2.87435297e-02 -1.98899470e-02 -2.23897025e-02\n -1.82137974e-02  2.15139869e-03  4.38914262e-02 -4.62233467e-04\n -1.10389426e-01  1.71058241e-03  3.58388536e-02  3.21113467e-02\n  1.94680970e-02  5.48205897e-02 -6.11556433e-02  6.05990887e-02\n  5.75848706e-02 -6.13253862e-02  7.12885242e-03  2.37685256e-02\n  3.88121568e-02  5.65252937e-02 -3.00774071e-02 -8.69517494e-03\n -3.27596664e-02  2.55095679e-02  1.90128852e-02 -4.63604834e-03\n  3.50087509e-03  8.13575909e-02  7.98491612e-02 -6.27158359e-02\n  4.49313894e-02 -8.26709867e-02  1.50051469e-03 -1.87492073e-02\n -1.20634604e-02  3.16417366e-02  3.15987431e-02  3.21023446e-03\n  1.40756115e-01  3.12765725e-02  6.25098050e-02  3.48325958e-03\n -6.12109564e-02  1.12878188e-01 -1.66954082e-02 -5.24019338e-02\n  5.00079021e-02  1.14461005e-01  1.83439609e-02  2.55814963e-03\n  1.45177031e-02 -5.44675067e-02  3.65882255e-02 -3.22411468e-33\n -4.53192089e-03  1.10430652e-02  1.85014028e-02  3.60494778e-02\n -8.27907547e-02 -5.24111651e-03 -9.21558142e-02  5.06317429e-03\n -3.14803235e-02  1.11059286e-02 -7.08862320e-02  1.08131848e-01\n  1.91265810e-02 -2.59132516e-02  4.48399875e-03  7.03344122e-02\n  7.47837080e-03  1.37323178e-02  9.95053127e-02 -1.40998840e-01\n -1.00568525e-01 -2.51903310e-02  4.90921475e-02  9.02841985e-02\n  1.80135611e-02  2.37770062e-02 -3.55014615e-02  4.51944284e-02\n  1.48381507e-02 -1.65784925e-01  4.11843657e-02 -2.79001947e-02\n  2.34718081e-02 -8.28673840e-02  3.13208159e-03  1.03550002e-01\n -4.21166383e-02  7.51643032e-02  1.69329857e-03 -3.13795805e-02\n -2.72331256e-02  6.90088235e-03 -1.11589776e-02  2.62828190e-02\n  2.14740019e-02 -6.49674833e-02  7.28272051e-02 -9.88823324e-02\n -8.81115198e-02  5.38579077e-02  1.14724999e-02 -2.17923429e-02\n  1.53248785e-02 -4.47692536e-02 -6.51684105e-02  3.24388524e-03\n -5.06958477e-02  7.33701289e-02  3.73629220e-02 -2.93758530e-02\n  3.08827702e-02  5.18984087e-02 -2.49228030e-02  3.90706621e-02\n  8.94384757e-02 -4.63777743e-02 -1.36573445e-02 -1.12528741e-01\n  2.18692832e-02  1.81805324e-02 -6.53693592e-03 -6.28828332e-02\n -6.74367556e-03 -4.84008761e-03 -4.43692468e-02  7.24650845e-02\n -3.42897847e-02 -5.69714382e-02  2.34109163e-02 -1.97240314e-03\n  2.67543383e-02 -7.74421319e-02  7.45516643e-02  4.67822999e-02\n -5.00784032e-02  3.20739439e-03 -4.49918844e-02  7.99143836e-02\n -2.79467087e-02  1.12639405e-01 -1.26331961e-02 -4.58387025e-02\n  3.57040502e-02  1.03855366e-02  2.28669327e-02 -3.58024757e-08\n  1.59046024e-01 -8.48143250e-02 -1.08105531e-02  3.51054370e-02\n -3.78427431e-02 -2.96931136e-02 -1.40111428e-02 -4.64289673e-02\n  4.42888495e-03  8.04557726e-02 -3.40590179e-02  2.19794996e-02\n -8.51356760e-02  6.51224107e-02 -1.15608551e-01  5.93228005e-02\n  4.77179798e-04 -7.95868132e-03 -4.03416753e-02  9.53439027e-02\n -6.57585785e-02  1.28358260e-01 -3.10162697e-02  1.32720061e-02\n  1.10915359e-02  6.07932918e-02 -5.27102053e-02  2.31780894e-02\n  6.05152398e-02 -4.36068363e-02  3.40003632e-02  5.86881600e-02\n  1.93193357e-03  2.65342593e-02  5.34418300e-02  5.99971507e-03\n -8.18613097e-02  2.38102190e-02 -1.70359039e-03 -5.24136908e-02\n  1.55913532e-02  2.42437031e-02  6.09923620e-04  5.19977883e-02\n -6.17872104e-02  5.64956851e-02 -1.22283831e-01  3.96735817e-02\n -3.53424624e-02  2.38550846e-02 -5.34989834e-02  9.32295844e-02\n -4.57248762e-02  1.71884373e-02 -7.22566098e-02 -4.59351763e-02\n  2.19583861e-03 -4.29317020e-02  9.33394134e-02 -6.23766845e-03\n  6.14525750e-03 -4.91408817e-02 -8.61434117e-02  5.16712330e-02]",
         "[-4.08036783e-02  2.61357054e-02  3.17493156e-02 -8.12674984e-02\n -7.47540519e-02 -2.00076737e-02  4.00887541e-02 -9.40035060e-02\n  3.44938412e-02 -6.69729337e-02  6.98672533e-02 -6.40110970e-02\n -9.77855758e-04 -6.10155500e-02  6.89728409e-02 -5.55124842e-02\n  9.18233320e-02 -1.90698709e-02  1.78049430e-02 -6.16076626e-02\n  2.88772210e-02 -1.65859722e-02 -4.39461656e-02  5.23405848e-03\n -7.57960677e-02  2.32660342e-02 -2.35290024e-02 -1.92282032e-02\n -7.28020892e-02 -3.35168615e-02  2.64822934e-02  3.28318924e-02\n  3.93997319e-02 -3.43214311e-02  5.05493879e-02  5.30169345e-02\n  3.00886519e-02 -6.76383674e-02  1.23218864e-01 -1.78005602e-02\n -2.54978705e-02 -4.81747128e-02 -4.98948880e-02 -3.79208513e-02\n  4.39027213e-02 -2.88815647e-02 -1.12975858e-01  4.40258458e-02\n  7.88993686e-02 -3.17015387e-02 -2.71298345e-02  5.32703102e-02\n  2.69084908e-02 -2.14564689e-02 -2.25929897e-02  2.10914835e-02\n -2.52801776e-02 -3.15168388e-02 -9.88244731e-03 -2.17614733e-02\n  1.20294085e-02 -5.72033040e-02  1.91988274e-02  1.48319183e-02\n  6.15407750e-02 -4.49435459e-03 -3.07008103e-02 -1.44243734e-02\n -3.88933346e-02 -8.11477080e-02 -1.66897494e-02 -5.89970052e-02\n  3.70674171e-02 -1.55243445e-02  2.86812540e-02  1.51648680e-02\n  6.40527755e-02 -1.78322922e-02 -1.15705788e-01 -2.31639817e-02\n -3.88816558e-02 -3.86475325e-02 -2.33458932e-02  3.42435539e-02\n -3.13441046e-02  9.04775038e-03 -6.96446225e-02  7.18150428e-03\n  4.69467789e-02 -3.07563529e-03 -2.12087594e-02 -1.91029832e-02\n -7.95443878e-02 -8.67894366e-02  1.46178808e-02 -7.47446269e-02\n -7.26972893e-02 -2.69506425e-02  1.60619263e-02  1.11060329e-01\n -4.60555963e-02  4.45608087e-02  5.90292700e-02 -4.16576490e-02\n -8.29314440e-03 -4.15648371e-02  4.09934036e-02  2.20613610e-02\n  6.08756347e-03  5.64390831e-02 -1.84675828e-02 -2.15864964e-02\n  1.97894708e-03  2.18604598e-02 -1.16256969e-02  3.04390769e-02\n  4.08677012e-02 -3.97454798e-02  1.00039646e-01 -7.25056604e-02\n  6.93471031e-03  5.34923449e-02 -6.56943396e-02  2.27913819e-02\n -1.39886796e-01  4.46576215e-02 -6.02555554e-03  1.94287304e-33\n -2.83410642e-02  4.17794213e-02 -5.58000989e-03  3.32085937e-02\n  1.20534077e-01 -2.11203489e-02  3.16264923e-03 -2.99893017e-03\n -3.00027486e-02  5.29387631e-02 -3.95751894e-02 -1.28738895e-01\n -7.52443168e-03  4.65420634e-03  7.76865706e-02  2.09352449e-02\n  2.04841457e-02  5.00788800e-02 -1.51255652e-02 -7.67263994e-02\n -1.88911147e-02  5.60401827e-02  3.70617993e-02  4.23746463e-03\n -1.64416095e-03  4.41147871e-02  1.03112170e-02  2.14057993e-02\n  3.19437385e-02 -5.11837937e-03  4.84152958e-02  2.14990340e-02\n -3.00676096e-02 -3.71668227e-02 -1.82388108e-02 -3.38421855e-03\n -6.53310046e-02 -1.92921900e-03  9.84971970e-03 -2.17597578e-02\n -3.92625034e-02  2.99181025e-02 -2.26550922e-02  3.94970365e-02\n -4.14296836e-02 -4.12699906e-03  5.69222718e-02 -3.53131816e-02\n  3.31958383e-02  4.81817871e-03 -6.19223006e-02 -2.89585777e-02\n -3.85655463e-02  1.73166022e-02 -7.57462531e-02 -2.86600459e-02\n  8.53835195e-02 -7.95839168e-03  1.34606227e-01  5.35542853e-02\n  2.08373368e-02  1.37665257e-01 -5.21662682e-02  3.87580320e-02\n  5.60895540e-03  1.01724714e-02  3.86994183e-02 -1.76035445e-02\n  8.18968192e-02  1.08299386e-02  5.07215445e-04  4.66643423e-02\n  8.03174637e-03  3.92525606e-02  2.76658889e-02 -3.46933887e-03\n -5.86144403e-02  7.33743533e-02  8.06012452e-02  3.11176362e-03\n  1.60417661e-01  2.15590391e-02  3.97131369e-02  4.60283719e-02\n  1.51105449e-02  6.50852770e-02  2.89162416e-02 -6.52551204e-02\n  6.65462315e-02  3.70173268e-02 -8.74462128e-02 -1.15639986e-02\n -7.81408418e-03 -2.89434083e-02 -9.12026409e-03 -3.34305818e-33\n  1.06691584e-01 -8.10284987e-02  1.20469704e-02 -1.92736962e-03\n -1.39692891e-02  1.88522935e-02 -8.22109431e-02  4.89634424e-02\n  3.61947380e-02  2.39479933e-02 -3.43568958e-02  5.81159666e-02\n  7.45617077e-02 -3.43746953e-02  9.73038189e-03  1.10668987e-01\n  1.29541382e-01 -4.36681099e-02 -1.30702183e-01 -3.39376479e-02\n  2.17018258e-02  3.11909113e-02  3.43362130e-02  1.02204010e-02\n -9.30642709e-02  8.74549616e-03  4.45161760e-02  4.65667956e-02\n -5.65538667e-02 -3.72158885e-02 -1.27716273e-01 -7.15101361e-02\n  1.17898071e-02  4.80593182e-02 -1.79485418e-02 -6.14354620e-03\n -1.01241283e-01  9.30480957e-02  5.07778898e-02 -9.82694793e-03\n -2.45134737e-02 -2.20826417e-02  1.80950575e-02  1.47967115e-01\n -4.28905785e-02 -4.25754413e-02  1.16074700e-02 -3.82188447e-02\n -1.73959311e-03  6.49701878e-02 -7.80106783e-02 -2.62078252e-02\n -3.16605042e-03 -7.30161890e-02 -1.76719557e-02  4.90309112e-02\n  1.49105592e-02 -3.78364101e-02 -3.64008993e-02 -3.23271938e-02\n  1.80571377e-02  6.81165159e-02  2.70905346e-02  6.05531596e-02\n  9.93997529e-02 -1.20891007e-02  2.13638204e-03 -4.72966209e-02\n  2.34324038e-02  2.70313281e-03 -5.76750888e-03 -3.96134984e-03\n  7.53629804e-02 -3.02863829e-02 -8.15059245e-02 -2.27590930e-02\n -2.04064827e-02  4.72559892e-02 -3.42533104e-02  1.53868478e-02\n  1.32356100e-02 -8.54660124e-02 -1.61753818e-02  7.22159222e-02\n  5.26143759e-02  2.40400117e-02  1.91686079e-02  2.30409633e-02\n -1.17755942e-02 -3.58714461e-02 -3.35735083e-02  5.10190316e-02\n  1.17815165e-02  2.51156427e-02 -4.16402053e-03 -1.70786407e-08\n  8.58879909e-02  3.62411281e-03 -1.13174347e-02  8.63956362e-02\n -3.91849913e-02 -1.05134875e-01 -4.99992026e-03  6.59241378e-02\n  2.40968056e-02  1.57394055e-02 -4.22251076e-02  1.93514081e-03\n -1.32622108e-01 -4.34752181e-03 -1.31376952e-01 -4.29082615e-03\n  1.08113568e-02  6.84961751e-02 -7.42197793e-04  2.75827362e-03\n  1.91721451e-02  4.15687710e-02  1.37202978e-01  2.35431287e-02\n  3.73123959e-02  1.61685962e-02 -7.98422992e-02 -1.98624190e-02\n -1.35720754e-02 -2.11534053e-02  4.18513045e-02  2.53288765e-02\n  2.99455114e-02 -2.70962305e-02  5.59583046e-02 -1.79440845e-02\n -7.18522817e-02  2.40410864e-02 -2.00451389e-02 -6.91516623e-02\n -5.22514842e-02 -3.78964320e-02 -3.71034294e-02  1.27516538e-02\n -8.75637531e-02  3.59271616e-02 -5.77360354e-02  3.10770087e-02\n  1.53240431e-02 -5.62737370e-03 -7.81852007e-02  4.78422828e-02\n -4.11650306e-03  3.52517106e-02 -8.48387275e-03  1.90241896e-02\n -8.12631845e-03 -6.95026070e-02  8.46153051e-02  4.61447649e-02\n  8.10569376e-02 -4.71211188e-02 -6.63046241e-02 -3.94542329e-02]",
         "True"
        ],
        [
         "2",
         "1.1e+20",
         "Stevey Markovich",
         "2020-09-13 12:26:40",
         "5.0",
         "Absolutely love this office! Afton is truly amazing and always makes me feel welcomed and special!",
         "0x80c8ce0f7732ee7b:0xea13348742f64327",
         "Center for Cosmetic and Family Dentistry",
         "36.0019288",
         "-115.1074842",
         "['Dentist']",
         "4.9",
         "318",
         "relevant",
         "0.0",
         "POSITIVE",
         "0.9998892545700073",
         "Positive",
         "Legit",
         "16",
         "[-4.05264683e-02 -3.00896112e-02 -9.05165076e-03 -2.39774231e-02\n -1.32357301e-02  5.06336018e-02 -4.79351431e-02 -2.68677231e-02\n  1.49742085e-02 -1.88180618e-02 -8.25173333e-02  1.03932276e-01\n -1.44544840e-02  2.01267079e-02 -2.75135110e-03  1.05101867e-02\n  7.45934397e-02 -4.46242169e-02  4.92501743e-02  2.15085670e-02\n -2.91445535e-02 -1.10066012e-02 -3.13044041e-02  2.22071614e-02\n -1.72141064e-02 -5.65938912e-02 -1.89832468e-02  2.99527198e-02\n  1.59622896e-02 -1.12780817e-01 -1.91867352e-03 -6.51594298e-03\n  1.07818646e-02  3.61741893e-02  3.43191884e-02  5.78119457e-02\n  7.21301585e-02 -2.62685996e-02  1.40011795e-02  2.86422018e-02\n -7.51221739e-03 -1.79201830e-02  1.64362919e-02 -5.04795872e-02\n -6.71043480e-03 -7.44875669e-02 -1.76071431e-02 -1.33014238e-02\n  1.33073688e-01  8.68163928e-02  2.66836546e-02 -3.83698754e-02\n  6.41257763e-02 -3.09557095e-02 -3.95583138e-02  5.59231788e-02\n  1.67648774e-02 -5.91771603e-02 -4.33781855e-02 -9.87393931e-02\n  9.42806713e-03 -4.16281037e-02 -3.25952694e-02  4.49672230e-02\n  2.43881661e-02  1.46800745e-02 -7.34871924e-02  4.18927297e-02\n -5.35911927e-03 -1.10665806e-01 -6.94721341e-02 -1.24371657e-02\n  7.04828128e-02 -5.28960628e-03 -2.40635034e-03  6.86856434e-02\n -1.37844123e-02 -7.46421590e-02  5.68733774e-02  2.81603839e-02\n  9.40128043e-02  3.65929566e-02 -2.92753261e-02  8.50843936e-02\n -4.74859662e-02 -7.04500675e-02 -1.97147671e-03  1.91822499e-02\n -2.96371914e-02 -4.07096408e-02  4.29325625e-02  6.12239651e-02\n -5.11558391e-02 -4.61058319e-02 -2.00409703e-02 -2.35158782e-02\n  3.13105062e-04  5.45178391e-02 -7.47469664e-02 -6.81466097e-03\n -5.39359003e-02  6.49695024e-02  3.81671116e-02 -4.50068563e-02\n  7.18860514e-03 -4.24003340e-02  4.34469618e-02 -3.41058448e-02\n  1.33618629e-02 -6.92324713e-02 -3.75521407e-02 -7.85538740e-03\n -1.16312103e-02 -4.89159450e-02  6.61760056e-03  4.44244109e-02\n -1.57895908e-02 -1.64929572e-02  2.25209352e-02 -1.29933432e-02\n  7.67089128e-02  9.10382643e-02  4.83808070e-02 -2.74702848e-04\n -1.86076351e-02 -7.47303814e-02  3.10749542e-02 -8.44350245e-34\n -6.63093179e-02  4.38370928e-02  1.08710781e-03 -2.98557337e-03\n  7.36614019e-02 -2.94588152e-02 -5.59135638e-02  3.28664109e-02\n -3.81408595e-02  3.67404968e-02 -3.93655337e-02  6.40832856e-02\n  2.39180252e-02  3.88745358e-03 -7.55559355e-02 -7.02919811e-02\n -2.54821200e-02  2.42789946e-02 -9.31628942e-02  1.52141443e-02\n  4.12962260e-03  4.58858870e-02 -5.24872728e-02  5.52653447e-02\n -5.32034561e-02  2.27769520e-02  4.03226838e-02  7.53364563e-02\n  3.14593390e-02  3.05877086e-02 -4.43118550e-02  2.22350890e-03\n -4.02421616e-02  5.42030204e-03 -3.19757238e-02 -4.27415110e-02\n -1.35571107e-01 -9.26085636e-02  7.32868388e-02 -1.80533354e-03\n -1.01644276e-02  2.98115443e-02  1.06151914e-02  6.49431050e-02\n  5.49176475e-04  3.23985815e-02  4.69479300e-02  1.84010353e-03\n  9.44580808e-02 -2.70763058e-02 -8.36259499e-02  1.40265794e-02\n -6.66148290e-02  1.14421226e-01  8.75000060e-02 -1.02560796e-01\n  3.44235599e-02  3.87539389e-03  1.23504996e-01 -3.31935212e-02\n  3.96013744e-02  4.10312042e-02 -1.96683835e-02 -1.49473753e-02\n -2.31862310e-02  5.88943157e-03 -3.74974608e-02  4.02355716e-02\n  9.31401551e-02  1.91362966e-02  4.79669012e-02  8.87394790e-03\n  4.37048636e-03 -6.45661950e-02  1.55224884e-02  6.14264011e-02\n -5.29398629e-03  3.05375457e-02 -1.55186709e-02 -5.72454073e-02\n -6.68718740e-02  5.77392429e-02  5.70882596e-02  4.59884815e-02\n  2.96490490e-02  1.33152036e-02  4.17749584e-02 -5.04468083e-02\n -9.25857350e-02  8.27453956e-02  9.88163874e-02 -4.87064645e-02\n  2.30940320e-02  4.07910571e-02 -2.63462216e-02 -1.75874073e-35\n  1.03936777e-01 -4.70555108e-03 -3.32698338e-02 -1.18221723e-01\n -3.91957834e-02 -8.93562008e-03 -9.18835495e-03  4.97889407e-02\n  4.12898697e-02  5.12546189e-02  4.01602313e-02  1.73011431e-04\n -2.84176115e-02 -1.20356390e-02 -1.13792457e-01  6.54674182e-03\n  8.09208080e-02 -1.94661617e-02 -1.07463533e-02 -6.13432303e-02\n  5.77690378e-02  9.61839035e-02 -6.41930476e-02 -3.54767963e-02\n  3.63985659e-03  9.30376165e-03 -5.19172929e-04 -3.30324583e-02\n -5.18878996e-02  3.29107344e-02 -1.46831095e-01  6.18961118e-02\n -2.44536065e-02  5.03916107e-03  4.72401939e-02  1.14709167e-02\n  2.57008913e-04 -1.37914391e-02 -2.81961504e-02  1.11869806e-02\n  4.41141836e-02 -1.22698527e-02  1.18075926e-02  2.98220050e-02\n  6.63442314e-02 -5.61319254e-02 -7.81381577e-02 -8.71854201e-02\n -9.69915241e-02 -6.79951012e-02 -7.19007775e-02 -2.96936166e-02\n  3.30073014e-02 -1.13193780e-01 -3.37509438e-02 -3.29285674e-03\n  7.99963549e-02 -7.48910569e-03 -4.01381403e-03 -9.94019955e-03\n -7.31185526e-02 -1.96804870e-02  2.45295912e-02  4.90204878e-02\n  6.59446120e-02 -4.63115871e-02 -1.31234331e-02 -6.21118173e-02\n -4.95162793e-02  8.57414864e-03 -3.13218273e-02 -2.83238683e-02\n -5.83998412e-02  5.28226011e-02 -2.95001771e-02 -6.47598132e-02\n  1.42665088e-01 -9.36515480e-02 -5.23308106e-02 -2.79675261e-03\n -4.63414676e-02  2.24114303e-02 -3.50444987e-02 -4.47680503e-02\n -4.45325952e-03  1.57228023e-01  1.73616856e-02 -2.21285764e-02\n -9.73378718e-02  5.02802283e-02  4.30277688e-03  8.86306763e-02\n -4.73798029e-02 -6.57747611e-02  3.84709500e-02 -2.14951399e-08\n -2.74945516e-02  4.53619845e-02 -1.04994634e-02 -1.26208803e-02\n  3.34911495e-02 -9.82004628e-02  5.44599490e-03  4.15564254e-02\n -6.58531785e-02  6.85654655e-02  3.36134657e-02  1.41250377e-03\n -8.73693302e-02  2.72327717e-02  6.57920912e-02 -5.41376881e-03\n  6.19872920e-02  1.16006196e-01 -1.13102170e-02 -4.75643314e-02\n  5.64446673e-02  4.27698828e-02 -2.04612268e-03  1.32052889e-02\n  5.94537752e-03  3.68270874e-02  6.45200070e-03 -2.26888135e-02\n  4.84446771e-02 -9.37504042e-03  7.91304782e-02  5.54176085e-02\n -7.50351176e-02  4.59985845e-02 -4.08217311e-02  2.34338101e-02\n  5.92589029e-04  6.22572005e-03  1.93303302e-02  6.31148294e-02\n -1.08785983e-02 -5.08388579e-02 -4.96387221e-02 -7.29178311e-03\n -7.91979805e-02  1.30290575e-02  1.19155593e-01  2.05117408e-02\n  4.39647287e-02 -4.49022539e-02  3.94864827e-02 -1.46079492e-02\n  1.04365200e-02 -9.98208532e-04  3.14690620e-02 -6.27374463e-03\n  2.90068388e-02  1.00980941e-02 -5.00414288e-03  8.03538635e-02\n  9.85587835e-02  1.61270786e-03 -5.23191318e-03  7.31889457e-02]",
         "[-8.50196630e-02  2.05087401e-02 -4.43694256e-02 -3.52116628e-03\n -1.51583791e-01 -8.60861763e-02  3.25821191e-02  8.52475315e-02\n -9.71014146e-03  6.61742389e-02 -3.24046277e-02 -8.66917595e-02\n -3.83521952e-02  5.34311607e-02 -6.70475289e-02  9.76652931e-03\n -1.01025042e-03 -2.28039175e-03  1.56742800e-02 -4.98470962e-02\n -4.60895784e-02  9.07325149e-02 -1.83886420e-02 -4.12568972e-02\n  2.77404878e-02  6.07224368e-02 -2.92955078e-02 -9.03846174e-02\n  4.10127752e-02  2.98566110e-02 -2.06988826e-02 -2.20262539e-02\n  1.05455413e-01 -6.23303354e-02 -2.63161492e-02 -3.10818069e-02\n -5.15294112e-02  5.60074486e-02  6.87147975e-02  1.10909138e-02\n -3.85808796e-02  1.21590765e-02  2.34370306e-02 -4.20812331e-03\n  4.66866232e-02 -1.37104494e-02  5.29002398e-02 -1.85350515e-02\n -9.53496248e-03 -2.44236887e-02  1.68077671e-03 -3.15511152e-02\n -4.63718511e-02 -1.29088480e-02 -3.92079502e-02 -1.06985476e-02\n -9.95115936e-03 -9.56974085e-03 -5.06705896e-04  7.19686970e-02\n  3.35242264e-02 -1.78010948e-02 -3.22934724e-02  1.15752064e-01\n -4.45918702e-02  5.04520200e-02  1.50488131e-02 -5.05388938e-02\n -4.95929308e-02  1.68487858e-02 -1.57045643e-03 -2.83846036e-02\n  7.16068372e-02  1.59795228e-02  1.20930731e-01 -9.41154733e-02\n  1.54038772e-01  3.38821150e-02  4.22806805e-03 -2.49395818e-02\n  4.57992665e-02 -2.86257770e-02 -4.53987792e-02  2.03115400e-02\n  2.54802231e-04 -2.29654126e-02 -1.45276189e-02  5.10080112e-03\n -3.08968145e-02 -5.41251302e-02  1.78692455e-03  3.09244636e-03\n  7.94011448e-03  1.15622506e-02 -4.74654585e-02  3.48612331e-02\n -2.32594870e-02  4.39094715e-02 -3.13170031e-02  2.40818143e-01\n -4.96118926e-02  2.07553264e-02 -1.84211489e-02  5.41535057e-02\n  1.26481382e-02 -5.87135972e-03 -7.87078217e-02 -4.09197323e-02\n  5.87140815e-03 -7.89769273e-03 -1.47470487e-02  5.63021488e-02\n -2.84600854e-02  4.64881305e-03  2.02282406e-02 -3.42159122e-02\n  1.53996870e-02  3.86965973e-03  3.92402150e-02  1.14069648e-01\n -3.50194201e-02 -1.56563185e-02 -1.15147971e-01 -2.95785703e-02\n -3.95590588e-02 -5.00146635e-02  4.51736264e-02 -5.30087929e-33\n  3.97728160e-02 -4.28068824e-02  2.66266558e-02 -2.75528003e-02\n  2.51125265e-03  6.66884929e-02  1.18015902e-02  3.73445153e-02\n -2.05621216e-02  1.95534509e-02  3.70195210e-02 -1.82929635e-02\n -7.98126981e-02 -6.90600136e-03 -3.31071466e-02  1.38922706e-01\n -8.44191685e-02  3.88928577e-02 -7.49492794e-02  4.91433479e-02\n -5.37021793e-02  1.78166125e-02 -4.58708219e-02  1.45940885e-01\n -3.42702568e-02 -3.89423454e-03  1.70174465e-02 -1.10662133e-01\n  6.90621287e-02  1.20971340e-03 -3.85657400e-02  1.77945159e-02\n  3.60697843e-02 -5.86983338e-02  2.54932735e-02  1.46951349e-02\n  9.04855668e-04 -4.95572835e-02 -2.16647964e-02 -4.90494445e-02\n -1.57604739e-02  7.13081732e-02 -2.81551038e-03  6.95365481e-03\n  2.01325379e-02 -2.64731683e-02  4.78496397e-04  1.17230222e-01\n  3.51504758e-02  4.57925946e-02 -3.07614300e-02 -3.61204930e-02\n -3.37308049e-02  7.87346363e-02 -2.86131427e-02 -6.55007455e-03\n  2.85274386e-02  3.69659886e-02  3.16811423e-03  4.46156859e-02\n -6.59984797e-02 -1.17009124e-02 -6.28880132e-03  4.76253852e-02\n -4.14053835e-02 -3.53294164e-02 -8.17894761e-04 -2.77764779e-02\n  1.66264977e-02 -3.79617848e-02 -8.64978582e-02  4.60618213e-02\n -8.95758197e-02 -1.52728511e-02 -7.47851133e-02  1.81777831e-02\n  1.11813098e-01  8.76183063e-02 -7.02058896e-02  1.57234701e-03\n  6.26612175e-03  2.95653362e-02  2.01388970e-02 -3.94933447e-02\n -1.97799671e-02  5.94215021e-02 -6.05971739e-02 -6.61916435e-02\n  8.56807455e-02  3.45999375e-02 -1.09356418e-01 -4.76468839e-02\n  1.86099717e-03  3.98631953e-02 -2.88975108e-02  2.90947672e-33\n -4.93650101e-02 -3.75313275e-02 -2.16534622e-02  4.86089513e-02\n  6.38414696e-02  5.02501875e-02 -2.89142001e-02  4.99721011e-03\n -2.62200516e-02  9.04814247e-03  3.15713584e-02  7.02461228e-02\n  1.29056633e-01 -3.10423467e-02 -1.65656355e-04  5.45998476e-03\n  3.08332816e-02 -3.55470963e-02 -9.24255624e-02  3.98001298e-02\n  1.67914722e-02  8.32201764e-02 -2.27435529e-02 -6.80992976e-02\n -4.05092165e-02  5.87936603e-02 -4.29046042e-02 -1.23694679e-02\n -5.20541891e-02  1.73272658e-02 -4.96047474e-02  3.25198588e-03\n -3.92257832e-02 -1.72855668e-02 -6.17923327e-02  1.37556419e-01\n -1.19205052e-02 -2.62369644e-02 -5.85602671e-02  1.74430721e-02\n  3.88549902e-02  2.77278072e-04  6.64606020e-02  9.24941674e-02\n -5.99652994e-03  2.23064702e-02  1.89614971e-03  2.17290819e-02\n -3.63587141e-02  4.45664674e-02 -7.01970160e-02  5.78159764e-02\n -3.85909416e-02  2.62622908e-02 -1.75139755e-02  1.96912382e-02\n -4.18360941e-02 -6.52989671e-02  6.67274743e-03 -4.40070435e-04\n  4.18890007e-02  1.69483386e-02  1.40470909e-02  7.28168190e-02\n -6.13858029e-02 -2.22138818e-02  4.13230481e-03  8.28945450e-03\n -3.76282334e-02  1.12911137e-02  6.79992586e-02  2.69406643e-02\n  7.83237349e-03 -3.27126980e-02 -6.67163404e-03 -1.05477618e-02\n -2.41142623e-02 -1.24090105e-01 -5.62260933e-02 -3.62622291e-02\n -6.11563064e-02 -2.71299835e-02  3.84701267e-02  9.07746851e-02\n -3.86655405e-02 -8.02332684e-02  4.72256579e-02 -6.63787033e-03\n  6.81281462e-03 -2.74315700e-02 -1.72471590e-02  9.82886106e-02\n -2.55952310e-02 -9.70339552e-02  1.04253665e-01 -1.16263541e-08\n -2.08999626e-02  8.97108112e-03 -7.04683661e-02 -3.62482741e-02\n  2.05045436e-02 -9.39236283e-02 -6.56092614e-02  6.52475469e-03\n -2.77318489e-02  5.60012534e-02  5.34783155e-02  3.77659351e-02\n -4.78827097e-02 -5.49381077e-02  6.44997656e-02 -4.33362052e-02\n  3.85956801e-02  6.74443971e-03 -2.53268592e-02 -6.10598065e-02\n -7.47756585e-02 -2.06368766e-03  9.35119539e-02 -2.22713104e-03\n  1.85959111e-03 -3.54214944e-02  3.61157060e-02  9.49869677e-02\n -1.03701754e-02  9.82764587e-02 -3.24286297e-02  1.00093655e-01\n -2.20842138e-02 -3.58664468e-02  2.13854015e-02 -2.23173220e-02\n  4.04167250e-02 -3.40125263e-02 -2.79713236e-02 -2.85757538e-02\n -2.04877020e-03 -3.06431996e-03  1.25346975e-02  4.70471233e-02\n -8.03743750e-02  1.59873366e-02  8.87499452e-02  8.59637856e-02\n  6.59203902e-02  2.63525564e-02 -1.02245519e-02  1.10328626e-02\n  2.48912442e-02 -3.19500677e-02 -2.87407208e-02  1.62721016e-02\n  5.94724230e-02 -1.77697018e-02 -1.82958618e-02  3.06957699e-02\n  3.64644639e-02 -4.01269980e-02  7.92075396e-02  2.35705487e-02]",
         "True"
        ],
        [
         "3",
         "1.02e+20",
         "William Campbell",
         "2018-10-20 01:46:40",
         "3.0",
         "The food is as good as it usually is",
         "0x80c8dc9da25847c7:0x27b862b824ac757c",
         "Asian Garden",
         "36.1689012",
         "-115.0606013",
         "['Restaurant', 'Asian restaurant', 'Chinese restaurant', 'Thai restaurant']",
         "3.8",
         "128",
         "relevant",
         "0.0",
         "POSITIVE",
         "0.9998512268066406",
         "Positive",
         "Legit",
         "9",
         "[ 1.34939998e-02 -1.85529497e-02  3.62251103e-02  1.00094266e-01\n -9.53595787e-02 -5.69865166e-04 -1.10238581e-03 -8.86442885e-02\n -2.63134167e-02 -7.59873772e-03  5.28353490e-02 -1.65225398e-02\n -4.51128371e-02 -2.63128914e-02 -2.83760182e-03 -9.27694589e-02\n  2.36755699e-01 -8.88174623e-02 -5.41656166e-02 -5.87598532e-02\n -4.70527671e-02 -2.36624889e-02  8.91896561e-02 -3.48775722e-02\n -2.99905222e-02 -4.25216667e-02  3.47547941e-02 -4.78920043e-02\n -1.07332245e-02 -4.37984653e-02 -4.87925969e-02  4.71173041e-02\n  3.16617414e-02 -3.49032320e-02 -6.61000684e-02  5.67588657e-02\n  5.18642776e-02 -1.36963367e-01 -1.67942047e-03 -1.99459819e-03\n  3.80556993e-02 -9.77040082e-03  7.48674795e-02 -6.48926124e-02\n -6.12975881e-02 -3.61127476e-03 -3.49042453e-02 -4.00538407e-02\n  9.30791199e-02 -4.61001173e-02 -8.61559063e-02  6.75979443e-03\n -8.95190984e-03 -5.79782315e-02  6.72232732e-02  6.06405064e-02\n -4.47453894e-02 -4.65131514e-02 -8.64407420e-03 -8.60421639e-03\n  5.63186370e-02  1.00169135e-02 -5.49530759e-02 -4.55180258e-02\n  5.62575310e-02 -1.29992157e-01 -9.26388428e-02  1.44465007e-02\n -3.11525688e-02  3.14396946e-03 -5.10051325e-02  4.48106974e-02\n  6.24947287e-02  1.75394192e-02 -3.33120301e-02  3.66646461e-02\n -7.25662569e-03 -1.16059132e-01 -1.43938810e-02  5.38979359e-02\n  3.94743048e-02 -1.94376260e-02  4.07422706e-02  1.60200372e-02\n  3.12173516e-02 -4.00653742e-02  1.34473378e-02 -8.23959336e-03\n  2.61426568e-02  5.68564311e-02  7.65129328e-02  3.73372100e-02\n -3.55608016e-03 -1.78759778e-03  2.99935155e-02  3.13627906e-02\n  6.04848471e-03 -8.30254480e-02 -2.45087221e-02  6.96528554e-02\n -3.66623290e-02  6.36156648e-02  2.06779260e-02 -5.38634285e-02\n  3.16118337e-02  2.64973176e-04 -9.92278848e-03  3.61845866e-02\n  2.12344378e-02  3.31455134e-02 -3.37772816e-02  1.04106970e-01\n  3.24164191e-03  2.58237142e-02 -5.30958213e-02  6.21848628e-02\n  1.57062653e-02 -6.54136166e-02 -8.35974962e-02 -4.32430301e-03\n -1.43383341e-02  1.86113399e-02  3.32849920e-02  2.52665579e-02\n -3.00223380e-02  2.31068004e-02  7.09296241e-02 -3.81497986e-33\n -6.28246367e-02  2.62874947e-03  5.24257012e-02 -3.45847681e-02\n  2.62703300e-02 -2.12210324e-02 -3.49958688e-02 -1.41397724e-02\n  5.37102744e-02 -4.82788868e-03 -1.77115854e-02 -5.08452728e-02\n -5.67994006e-02  5.79392947e-02  3.42433937e-02 -6.63155988e-02\n -7.27009475e-02  3.37419659e-02 -3.10147367e-02  9.59203020e-02\n -2.94311680e-02 -8.46740678e-02  4.28320244e-02 -4.83624116e-02\n  2.87318733e-02 -2.45795492e-02  8.15758947e-04 -2.67485506e-03\n -3.41534168e-02  2.08865702e-02  2.59051621e-02  2.00265143e-02\n -4.36605029e-02 -4.44631949e-02 -5.98265044e-03  3.84949986e-03\n -1.76797912e-05  2.89957337e-02 -5.09427860e-02  3.89685258e-02\n -5.94448019e-03  8.68325680e-03  3.43851596e-02  7.20639378e-02\n  1.88164618e-02  3.73133980e-02  6.24002293e-02  5.62085258e-03\n -5.13364375e-02 -3.26307490e-02  1.16564967e-02 -5.83299510e-02\n  4.57035154e-02  4.98275124e-02 -1.37067568e-02  2.26184409e-02\n  6.27970621e-02  6.49124477e-03 -5.01647964e-03 -1.68619752e-02\n  3.38022895e-02  5.45016117e-02 -2.18025222e-02 -5.50179072e-02\n -2.17870828e-02  2.91631725e-02 -3.18079293e-02 -1.92600917e-02\n  1.08194910e-02  1.16170552e-02  3.58402915e-02 -1.60143971e-02\n -3.14928703e-02 -3.87831293e-02 -6.87793195e-02 -1.73646898e-04\n -8.37114006e-02  1.24088926e-02  2.20120642e-02  3.48010361e-02\n  1.00958481e-01  4.59383940e-03  1.87793411e-02  3.39024104e-02\n -5.05515411e-02  8.56269076e-02 -5.35707735e-02 -7.41133019e-02\n  1.38756976e-01  1.02401763e-01 -6.41837418e-02 -2.89130956e-02\n  6.27029538e-02 -1.90897267e-02 -1.48182539e-02  2.69635629e-33\n -2.88183875e-02  2.64233854e-02 -3.85107249e-02  1.40048057e-01\n -6.97667152e-02 -4.57913503e-02 -6.72989264e-02  2.08419915e-02\n -1.88680738e-02  8.76053702e-03 -3.64915803e-02  4.64448296e-02\n  3.92026640e-02  1.41111035e-02  6.25282675e-02  1.05084367e-01\n  7.55035654e-02  7.07700476e-02  4.27018702e-02 -8.37695375e-02\n -6.60936236e-02  6.09197095e-02 -4.37357649e-02  7.92420935e-03\n -3.20693366e-02  5.49164191e-02 -7.94496536e-02  4.62425463e-02\n -1.16802007e-01 -5.71326017e-02  6.07346073e-02 -7.32704848e-02\n -3.84242013e-02 -3.83844152e-02  1.06947562e-02  5.36186881e-02\n -2.89473124e-02 -7.07159266e-02 -5.95544651e-03  7.06897303e-02\n  3.83781232e-02  2.38516442e-02 -3.74164842e-02  6.74067214e-02\n -1.28461774e-02 -1.83017342e-04  6.30220473e-02 -1.20745257e-01\n  1.06891328e-02  2.29156390e-02  1.10257817e-02 -5.54265678e-02\n -6.97420090e-02 -2.48165503e-02 -8.24634451e-03  6.58933222e-02\n -1.97389834e-02 -7.16836797e-03 -3.17310020e-02 -6.40440956e-02\n -4.66054827e-02  5.55311255e-02  1.32601932e-02  5.04246689e-02\n  9.51119810e-02 -4.46225842e-03  2.77093449e-03 -7.07582831e-02\n  2.84616947e-02  1.40245929e-02 -8.05649981e-02 -5.62343225e-02\n -9.37177017e-02  1.21597042e-02 -4.34370004e-02  1.52878789e-02\n  3.35202105e-02 -4.44309413e-03  1.07779412e-03  9.70005058e-03\n -6.74160719e-02 -6.52142838e-02 -7.63574522e-03 -2.76932567e-02\n -6.51900768e-02  3.27371918e-02 -3.47284302e-02 -3.44219916e-02\n  1.49000650e-02  1.59817889e-01 -4.46075089e-02 -6.59244657e-02\n -1.02962395e-02  3.54198739e-02  9.99410525e-02 -2.21060521e-08\n  5.82758151e-02 -7.02978447e-02 -2.23830696e-02  7.79896528e-02\n -2.64472943e-02 -2.76906900e-02  2.07862519e-02 -5.86726367e-02\n  3.31333093e-02  5.55739328e-02 -4.93741855e-02  6.74292818e-02\n -9.15566161e-02 -2.55253864e-03  1.71655826e-02  4.19226103e-03\n  4.35278863e-02  5.02865762e-02 -5.99155128e-02  1.00249715e-01\n -9.21468530e-03  6.88069090e-02  5.44386767e-02  3.58350156e-03\n  1.51911210e-02  3.49051505e-02 -1.22973276e-02  2.50536688e-02\n  1.02928923e-02  5.64313978e-02  6.92789629e-02  2.10565850e-02\n  3.23169604e-02  7.31953308e-02  8.29399936e-03 -1.92204863e-02\n -3.13310586e-02 -5.89977242e-02  4.07355726e-02 -6.04269467e-02\n -3.17206942e-02 -2.34964751e-02 -8.29634815e-02  4.68199141e-02\n -8.98956507e-02  5.81126064e-02  1.59503445e-02  6.16980307e-02\n -3.35802324e-02  2.77310591e-02  1.72326211e-02  5.03754094e-02\n  3.35160978e-02  2.27279495e-02  4.64156643e-02  1.04847206e-02\n  6.29052520e-02 -2.92756353e-02  4.36273739e-02 -8.75130948e-03\n -1.72642861e-02  5.75944856e-02  1.15497725e-03  2.78280443e-03]",
         "[-2.38598082e-02  5.62610254e-02  4.09539938e-02  4.02317867e-02\n -8.16462189e-02 -2.03921180e-02  1.90075785e-02 -8.43642578e-02\n  7.37173334e-02 -8.66915137e-02  1.81448609e-01 -5.12629822e-02\n  5.67185543e-02  5.37472544e-03  6.08894937e-02 -6.56248853e-02\n  8.13729838e-02  3.65047343e-02 -7.11776735e-03 -1.42608032e-01\n -7.79442787e-02 -3.92853506e-02 -2.98817940e-02 -3.78894038e-03\n -4.75926884e-02 -6.89304173e-02  2.33383384e-02  4.55801673e-02\n  1.16665382e-02 -1.71550363e-02 -7.40646869e-02  6.85911253e-02\n -5.29411808e-03  1.00979306e-01 -2.24612169e-02  2.19749156e-02\n -2.92592868e-02 -5.28962798e-02  7.33793229e-02  3.50484736e-02\n  1.81189843e-03 -3.08099687e-02  1.07904807e-01 -7.76448920e-02\n  7.10664093e-02  1.39990458e-02 -8.05539936e-02 -6.20842315e-02\n -5.11814933e-03 -2.52540018e-02 -2.77875853e-03  4.12624702e-02\n -1.64390751e-03  3.15910019e-02 -8.25667474e-03  4.85920440e-03\n -6.86392486e-02 -4.35215645e-02 -3.77715752e-02  5.47342785e-02\n  4.81801219e-02  4.72811386e-02 -9.85525083e-03  2.93009486e-02\n -2.22775638e-02  4.40227017e-02 -9.06793103e-02 -1.46586290e-02\n  9.81301442e-03 -5.28528318e-02 -8.57549370e-04 -3.02119721e-02\n  9.05260146e-02  1.23781767e-02 -2.50391979e-02 -8.97215158e-02\n  5.93211390e-02 -1.87799539e-02 -8.98525193e-02 -4.21842448e-02\n -5.06307893e-02 -2.06082650e-02  5.11299744e-02  1.90338772e-03\n -3.10688969e-02  1.54516101e-02 -7.45247155e-02 -8.73360131e-03\n -3.48047875e-02  2.27542520e-02  1.62077583e-02  6.05774969e-02\n -1.58183966e-02 -6.60265535e-02 -1.73497312e-02  2.15312671e-02\n -3.62900905e-02 -1.94834676e-02 -6.58497736e-02  5.44127971e-02\n  3.77621837e-02  8.56005698e-02  2.21440289e-02 -4.39709648e-02\n  7.22427946e-03 -6.16621003e-02  3.93686928e-02  6.79508895e-02\n  3.67789604e-02 -2.19115540e-02 -5.18330447e-02  3.87655050e-02\n -1.17588397e-02 -7.54457042e-02 -7.42526874e-02 -2.34198919e-03\n  4.17646952e-02 -5.61570078e-02  3.03552374e-02 -1.00472886e-02\n  1.19471652e-02 -3.59581364e-03 -5.24796844e-02 -6.10254966e-02\n -8.21809247e-02 -3.89118190e-03  3.49343196e-02  2.70335728e-33\n -5.07104909e-04  4.24754396e-02  6.79384470e-02 -1.05776802e-01\n  5.43632917e-02 -3.84383313e-02  2.49205008e-02 -6.10677749e-02\n -2.81215850e-02 -4.74668369e-02 -3.01814675e-02 -5.60296550e-02\n -6.41549006e-02 -2.89282966e-02  8.75224024e-02  7.91467354e-02\n -2.31439807e-02  8.36542919e-02 -1.69605222e-02 -1.62609871e-02\n  9.41049829e-02  1.40366340e-02  3.05769090e-02 -6.47985563e-02\n -1.91699117e-02  8.21675640e-03  7.19901687e-03 -1.13011990e-02\n -3.63511220e-02  3.41822989e-02 -3.51421945e-02 -3.66942910e-03\n -1.98453013e-02  4.11616545e-03 -1.22158751e-01 -5.43588549e-02\n -4.27566050e-03 -1.70668643e-02  5.91962822e-02 -2.75678076e-02\n  2.19542589e-02  4.98936102e-02 -9.11423340e-02  2.53550168e-02\n -7.49052241e-02  1.28663003e-01 -2.05756743e-02  8.31994135e-03\n  1.55991875e-02  4.06123251e-02 -4.65261452e-02 -5.16958646e-02\n  1.63894873e-02  5.65735251e-02  1.76167581e-02 -9.79318619e-02\n  6.63935244e-02 -8.64713490e-02 -3.34543735e-02  7.32542016e-03\n  5.17109595e-02  3.48972231e-02 -5.94088063e-02  2.22306661e-02\n -6.53670263e-03 -3.35460529e-02  9.70277563e-03 -3.46997194e-02\n  2.44380720e-02 -3.45951840e-02 -1.53415138e-02 -4.98703755e-02\n  4.93426099e-02 -2.03887019e-02  6.60731504e-03 -4.53933477e-02\n -4.88281660e-02 -4.03336436e-02  3.95689867e-02  3.75865884e-02\n  2.83883400e-02  2.75348146e-02  1.72805320e-02  4.91724834e-02\n -3.30551118e-02  5.42973280e-02  4.70448509e-02 -3.72917987e-02\n  7.87907541e-02  8.11001344e-04 -1.08374089e-01 -5.85095142e-04\n  8.59390870e-02  4.32858467e-02 -3.80585901e-02 -4.10518406e-33\n -1.17230345e-03  8.62655230e-03 -4.83493470e-02 -1.70752741e-02\n  5.05862534e-02 -6.50118813e-02 -1.70941494e-04  1.89276785e-02\n -3.22633386e-02 -1.39029296e-02 -4.91480567e-02  1.17146818e-03\n  5.54225445e-02  4.54524569e-02 -3.19076120e-03  7.28244632e-02\n  1.12422720e-01  9.77711082e-02 -3.47284973e-02  3.86683196e-02\n  2.86101159e-02  2.72889324e-02 -2.78094038e-02  4.67825830e-02\n -6.27429504e-03  9.92849171e-02  4.65779491e-02  4.16296460e-02\n -1.07686654e-01 -1.55791864e-02 -5.83086684e-02 -4.09851894e-02\n  7.91218430e-02  9.51887220e-02 -2.59788334e-02 -7.97756203e-03\n -5.40650375e-02 -6.00906126e-02 -7.84619059e-03  4.60331328e-02\n  9.44105610e-02 -1.05524227e-01 -1.68724805e-02  8.98042247e-02\n -1.52335939e-04 -5.58817796e-02  7.14397654e-02 -9.21317935e-02\n  4.43909870e-04 -9.83686373e-02 -1.99299697e-02 -3.82309332e-02\n -1.91467267e-03 -6.73565036e-03 -7.08955303e-02  6.88656569e-02\n -1.49175599e-02  2.42286753e-02  2.91582961e-02 -4.94956896e-02\n -3.30332965e-02  1.44229280e-02  1.55145312e-02  9.14380923e-02\n  2.22435407e-02  3.44282622e-03  1.48985177e-01 -1.17308879e-02\n  2.89380569e-02 -6.83135539e-02 -3.25512998e-02  2.24300101e-02\n  9.55234282e-03  5.00735790e-02 -6.46589845e-02  1.23580452e-02\n  1.22277010e-02  5.75603805e-02 -5.26125717e-04  8.85182817e-04\n -1.87669713e-02 -5.51965274e-02  8.06472450e-03 -1.29848218e-03\n -4.24133278e-02  2.45851092e-02  3.94544750e-03  2.84947790e-02\n  3.67509909e-02 -3.94186703e-03 -2.92961970e-02  7.88247734e-02\n -2.41082106e-02  1.02871913e-03  2.14583129e-02 -1.93946157e-08\n  1.42171551e-02 -7.02271163e-02 -9.18717310e-03  3.20337676e-02\n -8.13804418e-02 -5.12861125e-02  3.32842320e-02  1.47616100e-02\n  4.91347276e-02 -3.27417031e-02 -1.42094120e-02 -4.07202169e-03\n -3.20866965e-02  7.47388601e-02 -6.18997477e-02 -3.32551748e-02\n  6.60626665e-02  1.07340783e-01  1.20540122e-02  2.13720798e-02\n -3.66149917e-02 -1.85748329e-03  1.13241993e-01 -9.79998037e-02\n -2.94900332e-02  4.04118262e-02 -8.06679726e-02  3.90070826e-02\n -1.81577243e-02 -3.60735059e-02 -1.23106148e-02 -4.39568236e-02\n -2.35506445e-02  3.95157523e-02  7.80192837e-02  2.53908858e-02\n -7.81288370e-02 -5.11056520e-02 -2.41389889e-02 -6.23252988e-02\n -5.64388968e-02 -8.46913606e-02 -2.07486153e-02  5.73688671e-02\n  8.23984444e-02  1.84517391e-02  5.03279679e-02  1.27959028e-02\n  1.11026820e-02  4.70043272e-02 -7.99631327e-02 -4.60621826e-02\n  1.47741046e-02 -8.44494700e-02  3.66409565e-03  1.89873800e-02\n  3.92687060e-02 -7.20629236e-03  3.76766846e-02  1.99749824e-02\n  5.60755171e-02  5.74999191e-02 -6.77267388e-02  2.05477029e-02]",
         "True"
        ],
        [
         "4",
         "1.12e+20",
         "Beverly Thorman",
         "2018-03-02 14:13:20",
         "5.0",
         "We came in without an appointment on a Saturday afternoon and they cut my hair right away. My stylist was Ninette and she was amazing! She was fun to talk with and she gave me the exact style I wanted. The other stylists were also fun and friendly.",
         "0x80c8c03de37488fd:0xdc3302fd9f8f44a",
         "Great Clips",
         "36.1910548",
         "-115.258969",
         "['Hair salon', 'Beauty salon']",
         "4.3",
         "168",
         "relevant",
         "0.0",
         "POSITIVE",
         "0.9998730421066284",
         "Positive",
         "Legit",
         "48",
         "[-2.75374460e-03  1.00887353e-02  4.39300016e-02  1.99154317e-02\n -4.54414971e-02 -2.41687987e-02 -2.96618119e-02 -2.90073249e-02\n -9.41832140e-02 -8.57710987e-02  2.63172872e-02  1.81422923e-02\n -1.71117485e-02 -1.54568749e-02  1.16866464e-02 -3.54737602e-02\n  3.30763496e-02 -1.63480192e-02 -6.99487748e-03 -1.25637976e-02\n -3.15000974e-02 -3.70633765e-03 -4.82851826e-03  2.67176013e-02\n  1.26703121e-02 -7.47107342e-02 -2.22986024e-02 -3.62924375e-02\n -2.76281079e-03 -5.08591570e-02 -1.23412153e-02 -2.53570965e-03\n  9.25492030e-03  2.25572265e-03 -1.42061505e-02 -2.94987187e-02\n  7.68131241e-02 -1.58210918e-02 -5.51020261e-03  9.52869430e-02\n -5.04896939e-02  3.21239159e-02 -5.15413843e-02  2.45712139e-02\n -6.70917751e-03 -8.11165944e-02  1.63304791e-01 -2.18012668e-02\n -1.18709669e-01  1.40501484e-02  2.61446432e-04 -7.05333278e-02\n -1.84772480e-02  3.26793827e-02 -1.89655926e-02  6.50277957e-02\n -4.53578279e-04  2.03424897e-02 -2.71130260e-02 -7.14404322e-03\n -5.25950044e-02 -3.21329781e-03  1.36222355e-02  2.42663492e-02\n -4.47803400e-02  3.28549370e-02 -3.97745594e-02 -7.42663071e-02\n  8.06080848e-02 -8.99017155e-02 -6.84041455e-02  1.91569701e-02\n  2.49117706e-02  3.12063769e-02 -5.52649051e-02  4.61642854e-02\n  4.64507639e-02 -3.59326117e-02 -2.19581486e-03  3.14528309e-02\n  5.98795852e-03 -7.43772388e-02  6.32319301e-02  8.03652853e-02\n  7.91790802e-03 -4.80361842e-02 -3.84818180e-04  3.56480777e-02\n -3.26796509e-02 -2.39988621e-02  5.77656664e-02  7.61598349e-02\n -6.23852648e-02 -4.06866036e-02  4.46175411e-02 -6.11961335e-02\n -7.41015598e-02  3.45516279e-02  3.28189172e-02  5.11889644e-02\n -2.53263488e-02 -1.36545217e-02  1.28801744e-02  7.07088485e-02\n -2.03889236e-02 -8.72261822e-03 -4.31257673e-02 -5.34275286e-02\n -4.95343618e-02 -9.36246365e-02  4.01715785e-02  5.35368733e-02\n  2.25948896e-02 -1.04372121e-01 -6.81181671e-04 -2.28450224e-02\n  9.46409628e-02 -7.65771372e-03  3.04788575e-02  3.98367010e-02\n  4.18408401e-03  1.12463318e-01  1.35591039e-02 -9.23047215e-02\n -5.63521273e-02  1.07984453e-01  3.39859910e-02  2.71468734e-34\n -4.95612584e-02  6.77470565e-02  1.30595639e-02 -2.04643160e-02\n  8.60102624e-02  2.93375198e-02 -9.42427069e-02 -1.34301856e-02\n -6.31560683e-02 -4.22683097e-02  3.06037478e-02 -5.22995181e-02\n -1.64236582e-03 -8.03195089e-02 -3.95741500e-02  1.38870468e-02\n  9.37866233e-03  1.00404419e-01 -1.76995504e-03  3.13684568e-02\n -6.95750788e-02  2.21663285e-02 -6.64204583e-02  6.15771636e-02\n -1.68442614e-02  3.02150380e-02 -1.49125494e-02 -1.55542158e-02\n  6.22877777e-02 -3.32550448e-03  3.35092866e-03  4.42995578e-02\n  7.73853287e-02  7.02420250e-03  4.12987545e-03  3.67959440e-02\n -7.00793276e-03 -8.79043937e-02  3.85005921e-02  2.06820038e-03\n  5.06486334e-02 -4.62794527e-02  6.54760301e-02  4.01449129e-02\n -1.33483578e-02 -3.21310647e-02 -6.78870082e-02  2.70542782e-02\n -4.70159240e-02  1.68864001e-02 -1.15445685e-02  6.39116764e-02\n  5.99669740e-02  1.27531171e-01  1.33994399e-04 -4.88939136e-02\n  5.17533757e-02 -4.47940379e-02 -5.58873033e-03  5.55605907e-03\n  3.41584906e-02  8.34519714e-02 -3.53366882e-02 -1.07462533e-01\n -2.18198411e-02 -5.75570911e-02  2.50080284e-02  4.58892323e-02\n  1.04112640e-01 -5.13481572e-02 -4.28562909e-02  1.19312026e-01\n -5.72562180e-02 -2.02951748e-02  2.36293953e-02  1.85418501e-02\n -8.71153083e-03 -7.55043514e-03  5.73066287e-02 -7.10807042e-03\n  1.15525737e-01  8.21720809e-02 -4.91067059e-02 -3.85846086e-02\n  4.40578200e-02 -1.42196612e-02 -7.17065707e-02 -7.52448104e-04\n -3.18447277e-02  3.36898230e-02  2.75978744e-02 -6.54715225e-02\n  4.91316989e-02  7.24915089e-03  4.45445888e-02 -1.79737237e-33\n -4.66293143e-03  1.14891808e-02 -3.82780768e-02  3.90471295e-02\n  5.86080663e-02  1.87840480e-02 -3.91497761e-02 -1.99189764e-02\n  2.27590048e-04 -7.51625374e-03  7.20256269e-02  2.33917087e-02\n  9.45533346e-03 -8.03513154e-02  1.39749367e-02 -3.43042649e-02\n  2.09373701e-02 -2.38592606e-02  6.96694553e-02 -7.35556111e-02\n  4.37445417e-02  3.29225580e-03 -2.69402564e-02  8.00741371e-03\n -1.38320968e-01  2.31508017e-02  7.72399604e-02 -6.34084642e-02\n  1.71428975e-02  8.60436913e-03  8.85109976e-03 -2.70155519e-02\n -5.68263270e-02 -1.49686690e-04  1.25635499e-02  9.82406214e-02\n -1.29296869e-01  1.12603419e-01  5.96668832e-02  3.74720953e-02\n  2.10485011e-02 -6.49480671e-02  2.58472506e-02  7.70459846e-02\n -1.84534653e-03 -3.04815993e-02 -1.75068602e-02 -6.29851669e-02\n -4.77471910e-02 -3.97084886e-03 -1.11041315e-01  9.59549248e-02\n -5.80195524e-02 -3.25516588e-03 -3.16072553e-02 -3.92875746e-02\n  5.67919500e-02 -6.47962764e-02 -6.02237284e-02  5.75002320e-02\n -9.61101875e-02  1.77562870e-02 -6.51369765e-02  6.58806264e-02\n -3.19309533e-02 -1.28906205e-01 -2.82644723e-02 -1.37660699e-02\n -2.41914671e-02 -1.07276544e-01 -4.67638411e-02  6.57922179e-02\n -1.68198012e-02  1.03977725e-01 -2.19482947e-02 -9.68936384e-02\n  2.46049464e-02 -3.32604572e-02 -1.89035237e-02  5.95134348e-02\n -8.14295486e-02 -2.60243192e-02  5.79323694e-02 -1.98148545e-02\n  4.20196466e-02  2.06344575e-02  1.65930251e-03 -1.77781601e-02\n  2.50009838e-02 -2.82695182e-02  4.38868999e-02  4.94686067e-02\n -3.43268067e-02 -5.44557460e-02 -2.61802180e-03 -3.30451186e-08\n  3.95992659e-02  5.21476455e-02  6.53565004e-02  5.85453212e-03\n  8.76743272e-02 -7.01756254e-02 -5.90355098e-02  3.87701727e-02\n -8.32384676e-02  2.53395177e-02  5.74888848e-02  2.81688944e-02\n  5.39611001e-03  1.50360344e-02  6.20828085e-02 -3.35549936e-02\n  1.59051910e-01  3.32299843e-02  2.81824637e-02 -5.17757908e-02\n -8.78850669e-02  3.47667634e-02  2.81858891e-02 -1.78901050e-02\n  2.69154110e-03 -5.46421763e-03  8.01177975e-03  6.62487596e-02\n -6.38783425e-02  4.58076634e-02  2.16552019e-02  3.82887833e-02\n -4.97136936e-02 -3.60996723e-02 -3.28863077e-02 -6.31141439e-02\n  2.67155562e-02 -3.19316946e-02  6.38468787e-02  1.85798469e-03\n -4.66809794e-02 -6.73799962e-02  4.71006893e-02  3.95462364e-02\n -1.07079577e-02  6.77069277e-02  7.02353939e-02 -4.29829247e-02\n -1.32777775e-02  8.66077915e-02  1.47611217e-03 -7.47126946e-03\n -4.63992730e-02  7.21834004e-02 -2.86263996e-03 -3.47229205e-02\n  8.61295499e-03 -1.65982433e-02 -2.64308229e-02  4.94998284e-02\n -3.04183047e-02 -6.77669141e-03 -6.90828189e-02 -5.90501353e-02]",
         "[ 2.24305522e-02 -1.58977900e-02  1.25814928e-02  2.49711983e-02\n -6.20343313e-02  2.72856653e-02  6.29369989e-02 -5.16018085e-02\n -3.33651789e-02 -3.87040265e-02  9.33912694e-02  1.85101330e-02\n  9.31961369e-03 -5.62859587e-02  2.90579535e-03  2.28267964e-02\n  3.45771685e-02 -9.03413806e-04 -2.11933050e-02 -4.17253040e-02\n -1.24909179e-02  1.23247895e-02 -4.64108139e-02  4.82857525e-02\n -8.07580538e-03 -5.73303290e-02 -3.38258371e-02  2.57225372e-02\n -3.16735990e-02 -8.27901065e-02  2.64516342e-02  3.48034129e-02\n  5.97298658e-03 -6.92655158e-04  9.81962867e-03  3.27914171e-02\n -1.14986720e-02 -3.08126602e-02  3.01974192e-02  4.93122600e-02\n -5.60693219e-02 -5.68566248e-02 -1.39714122e-01  9.93879512e-04\n  7.61454254e-02 -4.62799519e-02  3.57893705e-02  2.83792019e-02\n -4.39803191e-02  3.34112346e-02 -1.97037775e-02 -4.16558124e-02\n  3.27361585e-03 -1.49146933e-02 -1.16075044e-02  6.31770641e-02\n -1.45061491e-02  2.92299222e-02 -2.99993791e-02  4.99528609e-02\n  8.59406143e-02 -4.08349894e-02 -3.37289236e-02  4.83328216e-02\n  5.46832848e-03 -3.45957614e-02 -3.92606705e-02  2.38787774e-02\n  5.07758968e-02 -2.20463872e-01 -1.43521624e-02 -1.04490362e-01\n -9.77187082e-02  3.74028645e-02  6.15575537e-02  5.51657230e-02\n  2.97893509e-02 -3.00899390e-02  8.55340040e-04 -3.30977212e-03\n  4.44449000e-02 -9.14974511e-02  8.21810514e-02  8.86746496e-02\n -1.18160350e-02 -2.28409219e-04  9.56814922e-03 -1.29683856e-02\n  3.16182151e-02  1.54645098e-02 -2.00025979e-02  4.98953611e-02\n -7.26667270e-02 -4.99811359e-02  6.27821311e-02 -1.66490618e-02\n -7.78541341e-02  1.63992848e-02  2.95040738e-02  1.44572720e-01\n -2.39767954e-02 -4.17396352e-02 -1.72398314e-02  3.21639213e-03\n -1.05205983e-01 -4.82969917e-02 -9.63328127e-03  4.73710634e-02\n -3.79715636e-02 -2.36848630e-02  2.02076267e-02 -1.48945078e-02\n -4.32729609e-02 -3.92238349e-02  4.02067415e-02 -2.20475681e-02\n  7.77691752e-02 -5.40497117e-02  5.87672703e-02 -3.03419363e-02\n  9.04606946e-04  9.13707241e-02 -1.44039970e-02 -5.52212186e-02\n -1.07636280e-01  1.40852993e-02 -1.71829283e-03  8.72238941e-34\n  5.96987233e-02  1.03430584e-01  4.66548800e-02 -5.71687007e-03\n -7.16783106e-02  1.05081245e-01 -1.52338995e-02 -2.46470086e-02\n -1.02838494e-01 -1.37586398e-02 -1.31858755e-02 -3.89385573e-03\n -3.89470011e-02 -7.07208291e-02  8.02294258e-03  2.30553523e-02\n  5.96060716e-02  9.42005366e-02  1.39087271e-02 -3.62748727e-02\n -2.96766963e-02  3.91220637e-02 -8.88859779e-02 -1.11332266e-02\n -5.03365844e-02  4.78550754e-02 -4.38752957e-03 -4.37738821e-02\n -5.19624492e-03  2.64483541e-02  1.47476261e-02  4.09756973e-02\n  4.85334173e-02 -3.75958309e-02 -4.31566574e-02 -1.50283836e-02\n -3.07397847e-03 -7.97857642e-02  5.64972870e-02 -2.60298103e-02\n -5.06920926e-02  2.23267172e-02  6.35732710e-02  6.98167980e-02\n -2.62978841e-02  1.21038489e-01 -3.37001085e-02  1.07563632e-02\n  2.03647669e-02  7.17926547e-02 -6.67107999e-02  4.38059457e-02\n  1.78480037e-02  1.23064063e-01  3.70259993e-02 -2.99606454e-02\n -2.42163353e-02 -9.02363332e-04  8.97301063e-02  5.78615852e-02\n  1.29730031e-02  1.05706543e-01 -1.05022609e-01 -4.01217006e-02\n  3.65246125e-02 -7.59194270e-02  6.68684244e-02  5.76760694e-02\n  4.86068465e-02  5.96433915e-02 -7.30307624e-02  7.78680667e-02\n  2.30066050e-02 -2.62187980e-02  3.93671878e-02 -3.61383669e-02\n -4.40375060e-02  3.33839804e-02 -3.09522748e-02  5.30863479e-02\n  3.14859450e-02  4.93534952e-02 -1.96718965e-02  2.12310608e-02\n  2.31501833e-02 -4.32302244e-02 -3.62681299e-02  3.64276357e-02\n -3.04651689e-02 -2.47556227e-03 -5.05350679e-02  5.88261671e-02\n  5.40139489e-02  5.12837097e-02 -5.71911186e-02 -2.08026152e-33\n  4.70892601e-02 -8.18289891e-02 -1.10195037e-02  9.26825181e-02\n  6.84873015e-02  8.53253677e-02 -2.72537675e-02 -2.08163112e-02\n -5.08926883e-02  5.81839867e-02  6.12456016e-02 -5.40795065e-02\n  8.05573314e-02  2.21401844e-02  4.30540368e-03  3.93448845e-02\n -5.61839715e-03 -7.14770779e-02 -8.62293970e-03  2.65180469e-02\n  3.61740924e-02  5.80814257e-02 -4.90403660e-02 -2.30890363e-02\n -1.44905046e-01  3.09773907e-02 -2.50448249e-02 -9.83608235e-03\n  2.34739599e-03  4.77429256e-02  3.86262871e-03 -4.44969572e-02\n  5.66021726e-03  8.77999216e-02 -3.04028038e-02  5.15150465e-02\n -5.58719300e-02  4.41653281e-02 -7.07796402e-03  5.28029352e-02\n  3.69303785e-02 -1.06345527e-01  9.42832266e-05  2.99921427e-02\n -1.67591614e-03 -7.09578767e-02  1.79670863e-02 -4.07580584e-02\n -1.29634570e-02 -5.26290312e-02 -4.31892350e-02  3.61559726e-02\n -1.52610987e-02  4.87417690e-02 -7.55141315e-04  6.45185402e-03\n  9.49211791e-03  2.32843868e-03 -7.65850693e-02  4.71255705e-02\n  2.00792905e-02 -1.63524784e-02  1.35601675e-02  3.94652709e-02\n -2.33266130e-02  1.42366504e-02  1.62715912e-02 -3.51131186e-02\n -2.85234507e-02 -3.98529917e-02  1.39180515e-02  6.73252642e-02\n  2.82954015e-02  6.31025713e-03 -4.95312102e-02 -2.60025878e-02\n  4.01236899e-02  7.77175697e-03  5.86544769e-03  2.70002633e-02\n -4.13809270e-02 -2.66810954e-02  2.33672950e-02  8.67933035e-03\n  9.09594223e-02 -1.45933134e-02 -1.69757903e-02  6.34679978e-04\n -3.33017157e-03 -3.68028991e-02 -1.00379914e-01  8.01177546e-02\n -5.17629832e-02 -9.63121355e-02  1.03488183e-02 -1.61481370e-08\n -6.32549776e-03  4.07141857e-02  1.37117952e-01 -4.84599546e-03\n  6.09832592e-02 -4.35406566e-02  2.60963999e-02  2.87874062e-02\n -5.69071546e-02  4.29614261e-02 -1.32507365e-02  5.65306842e-02\n -2.51253769e-02  3.93929556e-02  1.05856371e-03 -7.08980858e-02\n  7.49160871e-02  8.21888521e-02  1.69979781e-02 -8.28849450e-02\n -7.01148957e-02  4.04425897e-02  5.38137443e-02 -1.23654976e-01\n -4.61581759e-02 -2.64433008e-02 -1.46143986e-02  2.41994616e-02\n -1.34819020e-02 -4.27071266e-02  2.12254524e-02  2.48123202e-02\n  1.77443735e-02 -6.68981671e-02 -7.85818771e-02 -6.53236806e-02\n -4.94427383e-02 -7.22340941e-02 -5.84054664e-02 -4.93613854e-02\n -8.48272443e-02 -2.87143048e-02  5.70630468e-02  2.39663292e-02\n  1.82776563e-02 -8.73737503e-03  1.46591812e-01 -5.34648933e-02\n  1.37798460e-02  4.92459908e-02 -7.21896291e-02 -2.41860561e-02\n  4.27333862e-02 -2.85166875e-02  7.31486501e-03  1.08799152e-03\n  2.94658411e-02 -3.59548666e-02 -9.40713752e-03  4.28528413e-02\n -2.88366694e-02 -8.33047479e-02  5.76162860e-02 -6.02542385e-02]",
         "True"
        ]
       ],
       "shape": {
        "columns": 22,
        "rows": 5
       }
      },
      "text/html": [
       "<div>\n",
       "<style scoped>\n",
       "    .dataframe tbody tr th:only-of-type {\n",
       "        vertical-align: middle;\n",
       "    }\n",
       "\n",
       "    .dataframe tbody tr th {\n",
       "        vertical-align: top;\n",
       "    }\n",
       "\n",
       "    .dataframe thead th {\n",
       "        text-align: right;\n",
       "    }\n",
       "</style>\n",
       "<table border=\"1\" class=\"dataframe\">\n",
       "  <thead>\n",
       "    <tr style=\"text-align: right;\">\n",
       "      <th></th>\n",
       "      <th>user_id</th>\n",
       "      <th>user_name</th>\n",
       "      <th>time</th>\n",
       "      <th>rating</th>\n",
       "      <th>review</th>\n",
       "      <th>gmap_id</th>\n",
       "      <th>business_name</th>\n",
       "      <th>latitude</th>\n",
       "      <th>longitude</th>\n",
       "      <th>business_desc</th>\n",
       "      <th>...</th>\n",
       "      <th>label</th>\n",
       "      <th>repetitiveness_score</th>\n",
       "      <th>sentiment</th>\n",
       "      <th>sentiment_score</th>\n",
       "      <th>sentiment_label</th>\n",
       "      <th>suspicion</th>\n",
       "      <th>review_length_words</th>\n",
       "      <th>review_embedding</th>\n",
       "      <th>business_desc_embedding</th>\n",
       "      <th>name_validity</th>\n",
       "    </tr>\n",
       "  </thead>\n",
       "  <tbody>\n",
       "    <tr>\n",
       "      <th>0</th>\n",
       "      <td>1.100000e+20</td>\n",
       "      <td>Michelle Banks</td>\n",
       "      <td>2018-03-02 14:13:20</td>\n",
       "      <td>5.0</td>\n",
       "      <td>It's a beautiful place to read books and have ...</td>\n",
       "      <td>0x80c8bf81f68a634f:0xe605b4c3043783c9</td>\n",
       "      <td>Barnes &amp; Noble</td>\n",
       "      <td>36.157754</td>\n",
       "      <td>-115.289418</td>\n",
       "      <td>['Book store', 'Cafe', 'Childrens book store',...</td>\n",
       "      <td>...</td>\n",
       "      <td>relevant</td>\n",
       "      <td>0.063355</td>\n",
       "      <td>POSITIVE</td>\n",
       "      <td>0.999885</td>\n",
       "      <td>Positive</td>\n",
       "      <td>Legit</td>\n",
       "      <td>17</td>\n",
       "      <td>[0.019050553, -0.007937221, -0.021419825, 0.06...</td>\n",
       "      <td>[-0.001835555, 0.00961866, 0.028814249, 0.0438...</td>\n",
       "      <td>True</td>\n",
       "    </tr>\n",
       "    <tr>\n",
       "      <th>1</th>\n",
       "      <td>1.060000e+20</td>\n",
       "      <td>Steven DeRyck [Staff]</td>\n",
       "      <td>2018-10-20 01:46:40</td>\n",
       "      <td>4.0</td>\n",
       "      <td>As previous reviews have stated, two small pie...</td>\n",
       "      <td>0x80c8c415f0a42c77:0x55c554fdc4ad8b9c</td>\n",
       "      <td>Carnegie Deli</td>\n",
       "      <td>36.120556</td>\n",
       "      <td>-115.173611</td>\n",
       "      <td>['Deli', 'Takeout Restaurant', 'Sandwich shop']</td>\n",
       "      <td>...</td>\n",
       "      <td>relevant</td>\n",
       "      <td>0.011177</td>\n",
       "      <td>POSITIVE</td>\n",
       "      <td>0.997185</td>\n",
       "      <td>Positive</td>\n",
       "      <td>Legit</td>\n",
       "      <td>39</td>\n",
       "      <td>[-0.03985757, 0.0456756, 0.03532694, 0.0130935...</td>\n",
       "      <td>[-0.04080368, 0.026135705, 0.031749316, -0.081...</td>\n",
       "      <td>True</td>\n",
       "    </tr>\n",
       "    <tr>\n",
       "      <th>2</th>\n",
       "      <td>1.100000e+20</td>\n",
       "      <td>Stevey Markovich</td>\n",
       "      <td>2020-09-13 12:26:40</td>\n",
       "      <td>5.0</td>\n",
       "      <td>Absolutely love this office! Afton is truly am...</td>\n",
       "      <td>0x80c8ce0f7732ee7b:0xea13348742f64327</td>\n",
       "      <td>Center for Cosmetic and Family Dentistry</td>\n",
       "      <td>36.001929</td>\n",
       "      <td>-115.107484</td>\n",
       "      <td>['Dentist']</td>\n",
       "      <td>...</td>\n",
       "      <td>relevant</td>\n",
       "      <td>0.000000</td>\n",
       "      <td>POSITIVE</td>\n",
       "      <td>0.999889</td>\n",
       "      <td>Positive</td>\n",
       "      <td>Legit</td>\n",
       "      <td>16</td>\n",
       "      <td>[-0.04052647, -0.030089611, -0.009051651, -0.0...</td>\n",
       "      <td>[-0.08501966, 0.02050874, -0.044369426, -0.003...</td>\n",
       "      <td>True</td>\n",
       "    </tr>\n",
       "    <tr>\n",
       "      <th>3</th>\n",
       "      <td>1.020000e+20</td>\n",
       "      <td>William Campbell</td>\n",
       "      <td>2018-10-20 01:46:40</td>\n",
       "      <td>3.0</td>\n",
       "      <td>The food is as good as it usually is</td>\n",
       "      <td>0x80c8dc9da25847c7:0x27b862b824ac757c</td>\n",
       "      <td>Asian Garden</td>\n",
       "      <td>36.168901</td>\n",
       "      <td>-115.060601</td>\n",
       "      <td>['Restaurant', 'Asian restaurant', 'Chinese re...</td>\n",
       "      <td>...</td>\n",
       "      <td>relevant</td>\n",
       "      <td>0.000000</td>\n",
       "      <td>POSITIVE</td>\n",
       "      <td>0.999851</td>\n",
       "      <td>Positive</td>\n",
       "      <td>Legit</td>\n",
       "      <td>9</td>\n",
       "      <td>[0.013494, -0.01855295, 0.03622511, 0.10009426...</td>\n",
       "      <td>[-0.023859808, 0.056261025, 0.040953994, 0.040...</td>\n",
       "      <td>True</td>\n",
       "    </tr>\n",
       "    <tr>\n",
       "      <th>4</th>\n",
       "      <td>1.120000e+20</td>\n",
       "      <td>Beverly Thorman</td>\n",
       "      <td>2018-03-02 14:13:20</td>\n",
       "      <td>5.0</td>\n",
       "      <td>We came in without an appointment on a Saturda...</td>\n",
       "      <td>0x80c8c03de37488fd:0xdc3302fd9f8f44a</td>\n",
       "      <td>Great Clips</td>\n",
       "      <td>36.191055</td>\n",
       "      <td>-115.258969</td>\n",
       "      <td>['Hair salon', 'Beauty salon']</td>\n",
       "      <td>...</td>\n",
       "      <td>relevant</td>\n",
       "      <td>0.000000</td>\n",
       "      <td>POSITIVE</td>\n",
       "      <td>0.999873</td>\n",
       "      <td>Positive</td>\n",
       "      <td>Legit</td>\n",
       "      <td>48</td>\n",
       "      <td>[-0.0027537446, 0.010088735, 0.04393, 0.019915...</td>\n",
       "      <td>[0.022430552, -0.01589779, 0.012581493, 0.0249...</td>\n",
       "      <td>True</td>\n",
       "    </tr>\n",
       "  </tbody>\n",
       "</table>\n",
       "<p>5 rows × 22 columns</p>\n",
       "</div>"
      ],
      "text/plain": [
       "        user_id              user_name                 time  rating  \\\n",
       "0  1.100000e+20         Michelle Banks  2018-03-02 14:13:20     5.0   \n",
       "1  1.060000e+20  Steven DeRyck [Staff]  2018-10-20 01:46:40     4.0   \n",
       "2  1.100000e+20       Stevey Markovich  2020-09-13 12:26:40     5.0   \n",
       "3  1.020000e+20       William Campbell  2018-10-20 01:46:40     3.0   \n",
       "4  1.120000e+20        Beverly Thorman  2018-03-02 14:13:20     5.0   \n",
       "\n",
       "                                              review  \\\n",
       "0  It's a beautiful place to read books and have ...   \n",
       "1  As previous reviews have stated, two small pie...   \n",
       "2  Absolutely love this office! Afton is truly am...   \n",
       "3               The food is as good as it usually is   \n",
       "4  We came in without an appointment on a Saturda...   \n",
       "\n",
       "                                 gmap_id  \\\n",
       "0  0x80c8bf81f68a634f:0xe605b4c3043783c9   \n",
       "1  0x80c8c415f0a42c77:0x55c554fdc4ad8b9c   \n",
       "2  0x80c8ce0f7732ee7b:0xea13348742f64327   \n",
       "3  0x80c8dc9da25847c7:0x27b862b824ac757c   \n",
       "4   0x80c8c03de37488fd:0xdc3302fd9f8f44a   \n",
       "\n",
       "                              business_name   latitude   longitude  \\\n",
       "0                            Barnes & Noble  36.157754 -115.289418   \n",
       "1                             Carnegie Deli  36.120556 -115.173611   \n",
       "2  Center for Cosmetic and Family Dentistry  36.001929 -115.107484   \n",
       "3                              Asian Garden  36.168901 -115.060601   \n",
       "4                               Great Clips  36.191055 -115.258969   \n",
       "\n",
       "                                       business_desc  ...     label  \\\n",
       "0  ['Book store', 'Cafe', 'Childrens book store',...  ...  relevant   \n",
       "1    ['Deli', 'Takeout Restaurant', 'Sandwich shop']  ...  relevant   \n",
       "2                                        ['Dentist']  ...  relevant   \n",
       "3  ['Restaurant', 'Asian restaurant', 'Chinese re...  ...  relevant   \n",
       "4                     ['Hair salon', 'Beauty salon']  ...  relevant   \n",
       "\n",
       "   repetitiveness_score sentiment  sentiment_score sentiment_label  suspicion  \\\n",
       "0              0.063355  POSITIVE         0.999885        Positive      Legit   \n",
       "1              0.011177  POSITIVE         0.997185        Positive      Legit   \n",
       "2              0.000000  POSITIVE         0.999889        Positive      Legit   \n",
       "3              0.000000  POSITIVE         0.999851        Positive      Legit   \n",
       "4              0.000000  POSITIVE         0.999873        Positive      Legit   \n",
       "\n",
       "  review_length_words                                   review_embedding  \\\n",
       "0                  17  [0.019050553, -0.007937221, -0.021419825, 0.06...   \n",
       "1                  39  [-0.03985757, 0.0456756, 0.03532694, 0.0130935...   \n",
       "2                  16  [-0.04052647, -0.030089611, -0.009051651, -0.0...   \n",
       "3                   9  [0.013494, -0.01855295, 0.03622511, 0.10009426...   \n",
       "4                  48  [-0.0027537446, 0.010088735, 0.04393, 0.019915...   \n",
       "\n",
       "                             business_desc_embedding name_validity  \n",
       "0  [-0.001835555, 0.00961866, 0.028814249, 0.0438...          True  \n",
       "1  [-0.04080368, 0.026135705, 0.031749316, -0.081...          True  \n",
       "2  [-0.08501966, 0.02050874, -0.044369426, -0.003...          True  \n",
       "3  [-0.023859808, 0.056261025, 0.040953994, 0.040...          True  \n",
       "4  [0.022430552, -0.01589779, 0.012581493, 0.0249...          True  \n",
       "\n",
       "[5 rows x 22 columns]"
      ]
     },
     "execution_count": 10,
     "metadata": {},
     "output_type": "execute_result"
    }
   ],
   "source": [
    "import spacy\n",
    "\n",
    "# Download the en_core_web_sm model\n",
    "# python -m spacy download en_core_web_sm\n",
    "\n",
    "# Load English NLP pipeline with NER (Named Entity Recognition)\n",
    "nlp = spacy.load(\"en_core_web_sm\")\n",
    "\n",
    "def get_validity_of_name(name):\n",
    "    \"\"\"\n",
    "    Check if the string contains a PERSON entity according to spaCy.\n",
    "    \"\"\"\n",
    "    # Handle NaN or non-string inputs\n",
    "    if not isinstance(name, str) or not name.strip():\n",
    "        return False\n",
    "    \n",
    "    # Handle all string inputs\n",
    "    doc = nlp(str(name))\n",
    "    for ent in doc.ents:\n",
    "        if ent.label_ == \"PERSON\":\n",
    "            return True\n",
    "    return False\n",
    "\n",
    "\n",
    "# Apply the function to the 'user_name' column\n",
    "df[\"name_validity\"] = df[\"user_name\"].apply(get_validity_of_name)\n",
    "df.head()"
   ]
  },
  {
   "cell_type": "markdown",
   "id": "550a993b",
   "metadata": {},
   "source": [
    "# Save Dataset"
   ]
  },
  {
   "cell_type": "code",
   "execution_count": 11,
   "id": "dd843642",
   "metadata": {},
   "outputs": [],
   "source": [
    "df.to_csv(\"final_data/feature_engineered_dataset_reviews.csv\", index=False, encoding='utf-8-sig')"
   ]
  }
 ],
 "metadata": {
  "kernelspec": {
   "display_name": ".venv (3.10.11)",
   "language": "python",
   "name": "python3"
  },
  "language_info": {
   "codemirror_mode": {
    "name": "ipython",
    "version": 3
   },
   "file_extension": ".py",
   "mimetype": "text/x-python",
   "name": "python",
   "nbconvert_exporter": "python",
   "pygments_lexer": "ipython3",
   "version": "3.10.11"
  }
 },
 "nbformat": 4,
 "nbformat_minor": 5
}
