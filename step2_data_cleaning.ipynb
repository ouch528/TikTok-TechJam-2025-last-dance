{
 "cells": [
  {
   "cell_type": "code",
   "execution_count": 53,
   "id": "1d4725fe",
   "metadata": {},
   "outputs": [],
   "source": [
    "import pandas as pd"
   ]
  },
  {
   "cell_type": "markdown",
   "id": "0b06d81d",
   "metadata": {},
   "source": [
    "# Load Dataset"
   ]
  },
  {
   "cell_type": "code",
   "execution_count": 54,
   "id": "5d06ebc9",
   "metadata": {},
   "outputs": [
    {
     "data": {
      "application/vnd.microsoft.datawrangler.viewer.v0+json": {
       "columns": [
        {
         "name": "index",
         "rawType": "int64",
         "type": "integer"
        },
        {
         "name": "Unnamed: 0",
         "rawType": "float64",
         "type": "float"
        },
        {
         "name": "user_id",
         "rawType": "float64",
         "type": "float"
        },
        {
         "name": "name_x",
         "rawType": "object",
         "type": "string"
        },
        {
         "name": "time",
         "rawType": "float64",
         "type": "float"
        },
        {
         "name": "rating",
         "rawType": "float64",
         "type": "float"
        },
        {
         "name": "text",
         "rawType": "object",
         "type": "string"
        },
        {
         "name": "pics",
         "rawType": "object",
         "type": "unknown"
        },
        {
         "name": "resp",
         "rawType": "object",
         "type": "unknown"
        },
        {
         "name": "gmap_id",
         "rawType": "object",
         "type": "string"
        },
        {
         "name": "name_y",
         "rawType": "object",
         "type": "string"
        },
        {
         "name": "latitude",
         "rawType": "float64",
         "type": "float"
        },
        {
         "name": "longitude",
         "rawType": "float64",
         "type": "float"
        },
        {
         "name": "category",
         "rawType": "object",
         "type": "string"
        },
        {
         "name": "avg_rating",
         "rawType": "float64",
         "type": "float"
        },
        {
         "name": "num_of_reviews",
         "rawType": "int64",
         "type": "integer"
        },
        {
         "name": "url",
         "rawType": "object",
         "type": "string"
        },
        {
         "name": "policy",
         "rawType": "object",
         "type": "string"
        },
        {
         "name": "fake",
         "rawType": "object",
         "type": "string"
        }
       ],
       "ref": "ab14d06e-cdbc-48f1-994b-4080eebf751c",
       "rows": [
        [
         "0",
         "37198.0",
         "1.1e+20",
         "Michelle Banks",
         "1520000000000.0",
         "5.0",
         "It's a beautiful place to read books and have food or coffee and tea. The best cookies",
         null,
         null,
         "0x80c8bf81f68a634f:0xe605b4c3043783c9",
         "Barnes & Noble",
         "36.1577543",
         "-115.2894176",
         "['Book store', 'Cafe', 'Childrens book store', 'Hobby store', 'Toy store']",
         "4.6",
         "1719",
         "https://www.google.com/maps/place//data=!4m2!3m1!1s0x80c8bf81f68a634f:0xe605b4c3043783c9?authuser=-1&hl=en&gl=us",
         "relevant",
         "no"
        ],
        [
         "1",
         "39373.0",
         "1.06e+20",
         "Steven DeRyck [Staff]",
         "1540000000000.0",
         "4.0",
         "As previous reviews have stated, two small pieces of bread between a huge stack of meat pretty much sums up their sandwiches. And as a pure carnivore I have no issues with that. The price was reasonable as well.",
         null,
         null,
         "0x80c8c415f0a42c77:0x55c554fdc4ad8b9c",
         "Carnegie Deli",
         "36.1205556",
         "-115.1736111",
         "['Deli', 'Takeout Restaurant', 'Sandwich shop']",
         "4.1",
         "706",
         "https://www.google.com/maps/place//data=!4m2!3m1!1s0x80c8c415f0a42c77:0x55c554fdc4ad8b9c?authuser=-1&hl=en&gl=us",
         "relevant",
         "no"
        ],
        [
         "2",
         "43382.0",
         "1.1e+20",
         "Stevey Markovich",
         "1600000000000.0",
         "5.0",
         "Absolutely love this office! Afton is truly amazing and always makes me feel welcomed and special!",
         null,
         "{'time': 1595600023968, 'text': 'Thank you! Have a great day!'}",
         "0x80c8ce0f7732ee7b:0xea13348742f64327",
         "Center for Cosmetic and Family Dentistry",
         "36.0019288",
         "-115.1074842",
         "['Dentist']",
         "4.9",
         "318",
         "https://www.google.com/maps/place//data=!4m2!3m1!1s0x80c8ce0f7732ee7b:0xea13348742f64327?authuser=-1&hl=en&gl=us",
         "relevant",
         "no"
        ],
        [
         "3",
         "9672.0",
         "1.02e+20",
         "William Campbell",
         "1540000000000.0",
         "3.0",
         "The food is as good as it usually is",
         null,
         null,
         "0x80c8dc9da25847c7:0x27b862b824ac757c",
         "Asian Garden",
         "36.1689012",
         "-115.0606013",
         "['Restaurant', 'Asian restaurant', 'Chinese restaurant', 'Thai restaurant']",
         "3.8",
         "128",
         "https://www.google.com/maps/place//data=!4m2!3m1!1s0x80c8dc9da25847c7:0x27b862b824ac757c?authuser=-1&hl=en&gl=us",
         "relevant",
         "no"
        ],
        [
         "4",
         "92564.0",
         "1.12e+20",
         "Beverly Thorman",
         "1520000000000.0",
         "5.0",
         "We came in without an appointment on a Saturday afternoon and they cut my hair right away. My stylist was Ninette and she was amazing! She was fun to talk with and she gave me the exact style I wanted. The other stylists were also fun and friendly.",
         null,
         "{'time': 1523207982441, 'text': 'Thank you for coming in! We hope to see you again next time!'}",
         "0x80c8c03de37488fd:0xdc3302fd9f8f44a",
         "Great Clips",
         "36.1910548",
         "-115.258969",
         "['Hair salon', 'Beauty salon']",
         "4.3",
         "168",
         "https://www.google.com/maps/place//data=!4m2!3m1!1s0x80c8c03de37488fd:0xdc3302fd9f8f44a?authuser=-1&hl=en&gl=us",
         "relevant",
         "no"
        ]
       ],
       "shape": {
        "columns": 18,
        "rows": 5
       }
      },
      "text/html": [
       "<div>\n",
       "<style scoped>\n",
       "    .dataframe tbody tr th:only-of-type {\n",
       "        vertical-align: middle;\n",
       "    }\n",
       "\n",
       "    .dataframe tbody tr th {\n",
       "        vertical-align: top;\n",
       "    }\n",
       "\n",
       "    .dataframe thead th {\n",
       "        text-align: right;\n",
       "    }\n",
       "</style>\n",
       "<table border=\"1\" class=\"dataframe\">\n",
       "  <thead>\n",
       "    <tr style=\"text-align: right;\">\n",
       "      <th></th>\n",
       "      <th>Unnamed: 0</th>\n",
       "      <th>user_id</th>\n",
       "      <th>name_x</th>\n",
       "      <th>time</th>\n",
       "      <th>rating</th>\n",
       "      <th>text</th>\n",
       "      <th>pics</th>\n",
       "      <th>resp</th>\n",
       "      <th>gmap_id</th>\n",
       "      <th>name_y</th>\n",
       "      <th>latitude</th>\n",
       "      <th>longitude</th>\n",
       "      <th>category</th>\n",
       "      <th>avg_rating</th>\n",
       "      <th>num_of_reviews</th>\n",
       "      <th>url</th>\n",
       "      <th>policy</th>\n",
       "      <th>fake</th>\n",
       "    </tr>\n",
       "  </thead>\n",
       "  <tbody>\n",
       "    <tr>\n",
       "      <th>0</th>\n",
       "      <td>37198.0</td>\n",
       "      <td>1.100000e+20</td>\n",
       "      <td>Michelle Banks</td>\n",
       "      <td>1.520000e+12</td>\n",
       "      <td>5.0</td>\n",
       "      <td>It's a beautiful place to read books and have ...</td>\n",
       "      <td>NaN</td>\n",
       "      <td>NaN</td>\n",
       "      <td>0x80c8bf81f68a634f:0xe605b4c3043783c9</td>\n",
       "      <td>Barnes &amp; Noble</td>\n",
       "      <td>36.157754</td>\n",
       "      <td>-115.289418</td>\n",
       "      <td>['Book store', 'Cafe', 'Childrens book store',...</td>\n",
       "      <td>4.6</td>\n",
       "      <td>1719</td>\n",
       "      <td>https://www.google.com/maps/place//data=!4m2!3...</td>\n",
       "      <td>relevant</td>\n",
       "      <td>no</td>\n",
       "    </tr>\n",
       "    <tr>\n",
       "      <th>1</th>\n",
       "      <td>39373.0</td>\n",
       "      <td>1.060000e+20</td>\n",
       "      <td>Steven DeRyck [Staff]</td>\n",
       "      <td>1.540000e+12</td>\n",
       "      <td>4.0</td>\n",
       "      <td>As previous reviews have stated, two small pie...</td>\n",
       "      <td>NaN</td>\n",
       "      <td>NaN</td>\n",
       "      <td>0x80c8c415f0a42c77:0x55c554fdc4ad8b9c</td>\n",
       "      <td>Carnegie Deli</td>\n",
       "      <td>36.120556</td>\n",
       "      <td>-115.173611</td>\n",
       "      <td>['Deli', 'Takeout Restaurant', 'Sandwich shop']</td>\n",
       "      <td>4.1</td>\n",
       "      <td>706</td>\n",
       "      <td>https://www.google.com/maps/place//data=!4m2!3...</td>\n",
       "      <td>relevant</td>\n",
       "      <td>no</td>\n",
       "    </tr>\n",
       "    <tr>\n",
       "      <th>2</th>\n",
       "      <td>43382.0</td>\n",
       "      <td>1.100000e+20</td>\n",
       "      <td>Stevey Markovich</td>\n",
       "      <td>1.600000e+12</td>\n",
       "      <td>5.0</td>\n",
       "      <td>Absolutely love this office! Afton is truly am...</td>\n",
       "      <td>NaN</td>\n",
       "      <td>{'time': 1595600023968, 'text': 'Thank you! Ha...</td>\n",
       "      <td>0x80c8ce0f7732ee7b:0xea13348742f64327</td>\n",
       "      <td>Center for Cosmetic and Family Dentistry</td>\n",
       "      <td>36.001929</td>\n",
       "      <td>-115.107484</td>\n",
       "      <td>['Dentist']</td>\n",
       "      <td>4.9</td>\n",
       "      <td>318</td>\n",
       "      <td>https://www.google.com/maps/place//data=!4m2!3...</td>\n",
       "      <td>relevant</td>\n",
       "      <td>no</td>\n",
       "    </tr>\n",
       "    <tr>\n",
       "      <th>3</th>\n",
       "      <td>9672.0</td>\n",
       "      <td>1.020000e+20</td>\n",
       "      <td>William Campbell</td>\n",
       "      <td>1.540000e+12</td>\n",
       "      <td>3.0</td>\n",
       "      <td>The food is as good as it usually is</td>\n",
       "      <td>NaN</td>\n",
       "      <td>NaN</td>\n",
       "      <td>0x80c8dc9da25847c7:0x27b862b824ac757c</td>\n",
       "      <td>Asian Garden</td>\n",
       "      <td>36.168901</td>\n",
       "      <td>-115.060601</td>\n",
       "      <td>['Restaurant', 'Asian restaurant', 'Chinese re...</td>\n",
       "      <td>3.8</td>\n",
       "      <td>128</td>\n",
       "      <td>https://www.google.com/maps/place//data=!4m2!3...</td>\n",
       "      <td>relevant</td>\n",
       "      <td>no</td>\n",
       "    </tr>\n",
       "    <tr>\n",
       "      <th>4</th>\n",
       "      <td>92564.0</td>\n",
       "      <td>1.120000e+20</td>\n",
       "      <td>Beverly Thorman</td>\n",
       "      <td>1.520000e+12</td>\n",
       "      <td>5.0</td>\n",
       "      <td>We came in without an appointment on a Saturda...</td>\n",
       "      <td>NaN</td>\n",
       "      <td>{'time': 1523207982441, 'text': 'Thank you for...</td>\n",
       "      <td>0x80c8c03de37488fd:0xdc3302fd9f8f44a</td>\n",
       "      <td>Great Clips</td>\n",
       "      <td>36.191055</td>\n",
       "      <td>-115.258969</td>\n",
       "      <td>['Hair salon', 'Beauty salon']</td>\n",
       "      <td>4.3</td>\n",
       "      <td>168</td>\n",
       "      <td>https://www.google.com/maps/place//data=!4m2!3...</td>\n",
       "      <td>relevant</td>\n",
       "      <td>no</td>\n",
       "    </tr>\n",
       "  </tbody>\n",
       "</table>\n",
       "</div>"
      ],
      "text/plain": [
       "   Unnamed: 0       user_id                 name_x          time  rating  \\\n",
       "0     37198.0  1.100000e+20         Michelle Banks  1.520000e+12     5.0   \n",
       "1     39373.0  1.060000e+20  Steven DeRyck [Staff]  1.540000e+12     4.0   \n",
       "2     43382.0  1.100000e+20       Stevey Markovich  1.600000e+12     5.0   \n",
       "3      9672.0  1.020000e+20       William Campbell  1.540000e+12     3.0   \n",
       "4     92564.0  1.120000e+20        Beverly Thorman  1.520000e+12     5.0   \n",
       "\n",
       "                                                text pics  \\\n",
       "0  It's a beautiful place to read books and have ...  NaN   \n",
       "1  As previous reviews have stated, two small pie...  NaN   \n",
       "2  Absolutely love this office! Afton is truly am...  NaN   \n",
       "3               The food is as good as it usually is  NaN   \n",
       "4  We came in without an appointment on a Saturda...  NaN   \n",
       "\n",
       "                                                resp  \\\n",
       "0                                                NaN   \n",
       "1                                                NaN   \n",
       "2  {'time': 1595600023968, 'text': 'Thank you! Ha...   \n",
       "3                                                NaN   \n",
       "4  {'time': 1523207982441, 'text': 'Thank you for...   \n",
       "\n",
       "                                 gmap_id  \\\n",
       "0  0x80c8bf81f68a634f:0xe605b4c3043783c9   \n",
       "1  0x80c8c415f0a42c77:0x55c554fdc4ad8b9c   \n",
       "2  0x80c8ce0f7732ee7b:0xea13348742f64327   \n",
       "3  0x80c8dc9da25847c7:0x27b862b824ac757c   \n",
       "4   0x80c8c03de37488fd:0xdc3302fd9f8f44a   \n",
       "\n",
       "                                     name_y   latitude   longitude  \\\n",
       "0                            Barnes & Noble  36.157754 -115.289418   \n",
       "1                             Carnegie Deli  36.120556 -115.173611   \n",
       "2  Center for Cosmetic and Family Dentistry  36.001929 -115.107484   \n",
       "3                              Asian Garden  36.168901 -115.060601   \n",
       "4                               Great Clips  36.191055 -115.258969   \n",
       "\n",
       "                                            category  avg_rating  \\\n",
       "0  ['Book store', 'Cafe', 'Childrens book store',...         4.6   \n",
       "1    ['Deli', 'Takeout Restaurant', 'Sandwich shop']         4.1   \n",
       "2                                        ['Dentist']         4.9   \n",
       "3  ['Restaurant', 'Asian restaurant', 'Chinese re...         3.8   \n",
       "4                     ['Hair salon', 'Beauty salon']         4.3   \n",
       "\n",
       "   num_of_reviews                                                url  \\\n",
       "0            1719  https://www.google.com/maps/place//data=!4m2!3...   \n",
       "1             706  https://www.google.com/maps/place//data=!4m2!3...   \n",
       "2             318  https://www.google.com/maps/place//data=!4m2!3...   \n",
       "3             128  https://www.google.com/maps/place//data=!4m2!3...   \n",
       "4             168  https://www.google.com/maps/place//data=!4m2!3...   \n",
       "\n",
       "     policy fake  \n",
       "0  relevant   no  \n",
       "1  relevant   no  \n",
       "2  relevant   no  \n",
       "3  relevant   no  \n",
       "4  relevant   no  "
      ]
     },
     "execution_count": 54,
     "metadata": {},
     "output_type": "execute_result"
    }
   ],
   "source": [
    "df = pd.read_csv(\"final_data/initial_dataset.csv\") \n",
    "df.head()"
   ]
  },
  {
   "cell_type": "markdown",
   "id": "fe6be0b8",
   "metadata": {},
   "source": [
    "# Check Data Types"
   ]
  },
  {
   "cell_type": "code",
   "execution_count": 55,
   "id": "12547e14",
   "metadata": {},
   "outputs": [
    {
     "name": "stdout",
     "output_type": "stream",
     "text": [
      "Unnamed: 0        float64\n",
      "user_id           float64\n",
      "name_x             object\n",
      "time              float64\n",
      "rating            float64\n",
      "text               object\n",
      "pics               object\n",
      "resp               object\n",
      "gmap_id            object\n",
      "name_y             object\n",
      "latitude          float64\n",
      "longitude         float64\n",
      "category           object\n",
      "avg_rating        float64\n",
      "num_of_reviews      int64\n",
      "url                object\n",
      "policy             object\n",
      "fake               object\n",
      "dtype: object\n"
     ]
    }
   ],
   "source": [
    "print(df.dtypes)"
   ]
  },
  {
   "cell_type": "markdown",
   "id": "659179ff",
   "metadata": {},
   "source": [
    "# Remove Irrelevant Columns"
   ]
  },
  {
   "cell_type": "markdown",
   "id": "79ba5cdc",
   "metadata": {},
   "source": [
    "Columns `pics`, `resp`, `url`, `Unnamed: 0` are no longer relevant in the dataset as we would not be using these fields in the analysis downstream.\n",
    "\n",
    "As such, we would remove these columns."
   ]
  },
  {
   "cell_type": "code",
   "execution_count": 56,
   "id": "0cdc8aa9",
   "metadata": {},
   "outputs": [],
   "source": [
    "df = df.drop(columns=[\"pics\", \"resp\", \"url\", \"Unnamed: 0\", \"fake\"])"
   ]
  },
  {
   "cell_type": "markdown",
   "id": "4e9b24c3",
   "metadata": {},
   "source": [
    "# Rename Columns"
   ]
  },
  {
   "cell_type": "markdown",
   "id": "65ae455c",
   "metadata": {},
   "source": [
    "We will rename columns to a more descriptive name so that it is more intuitive.\n",
    "\n",
    "`name_x` will be renamed to `user_name`\n",
    "\n",
    "`name_y` will be renamed to `business_name`\n",
    "\n",
    "`text` will be renamed to `review`\n",
    "\n",
    "`category` will be renamed to `business_desc`\n",
    "\n",
    "`policy` will be renamed to `label`"
   ]
  },
  {
   "cell_type": "code",
   "execution_count": 57,
   "id": "3aba3f6d",
   "metadata": {},
   "outputs": [],
   "source": [
    "df.rename(\n",
    "    columns={\n",
    "        \"name_x\": \"user_name\",\n",
    "        \"name_y\": \"business_name\",\n",
    "        \"text\": \"review\",\n",
    "        \"category\": \"business_desc\",\n",
    "        \"policy\": \"label\"\n",
    "    },\n",
    "    inplace=True\n",
    ")"
   ]
  },
  {
   "cell_type": "code",
   "execution_count": 58,
   "id": "61c9ceaf",
   "metadata": {},
   "outputs": [
    {
     "data": {
      "application/vnd.microsoft.datawrangler.viewer.v0+json": {
       "columns": [
        {
         "name": "index",
         "rawType": "int64",
         "type": "integer"
        },
        {
         "name": "user_id",
         "rawType": "float64",
         "type": "float"
        },
        {
         "name": "user_name",
         "rawType": "object",
         "type": "string"
        },
        {
         "name": "time",
         "rawType": "float64",
         "type": "float"
        },
        {
         "name": "rating",
         "rawType": "float64",
         "type": "float"
        },
        {
         "name": "review",
         "rawType": "object",
         "type": "string"
        },
        {
         "name": "gmap_id",
         "rawType": "object",
         "type": "string"
        },
        {
         "name": "business_name",
         "rawType": "object",
         "type": "string"
        },
        {
         "name": "latitude",
         "rawType": "float64",
         "type": "float"
        },
        {
         "name": "longitude",
         "rawType": "float64",
         "type": "float"
        },
        {
         "name": "business_desc",
         "rawType": "object",
         "type": "string"
        },
        {
         "name": "avg_rating",
         "rawType": "float64",
         "type": "float"
        },
        {
         "name": "num_of_reviews",
         "rawType": "int64",
         "type": "integer"
        },
        {
         "name": "label",
         "rawType": "object",
         "type": "string"
        }
       ],
       "ref": "4066a3e9-72a4-40b1-a99c-f2e4df43120d",
       "rows": [
        [
         "0",
         "1.1e+20",
         "Michelle Banks",
         "1520000000000.0",
         "5.0",
         "It's a beautiful place to read books and have food or coffee and tea. The best cookies",
         "0x80c8bf81f68a634f:0xe605b4c3043783c9",
         "Barnes & Noble",
         "36.1577543",
         "-115.2894176",
         "['Book store', 'Cafe', 'Childrens book store', 'Hobby store', 'Toy store']",
         "4.6",
         "1719",
         "relevant"
        ],
        [
         "1",
         "1.06e+20",
         "Steven DeRyck [Staff]",
         "1540000000000.0",
         "4.0",
         "As previous reviews have stated, two small pieces of bread between a huge stack of meat pretty much sums up their sandwiches. And as a pure carnivore I have no issues with that. The price was reasonable as well.",
         "0x80c8c415f0a42c77:0x55c554fdc4ad8b9c",
         "Carnegie Deli",
         "36.1205556",
         "-115.1736111",
         "['Deli', 'Takeout Restaurant', 'Sandwich shop']",
         "4.1",
         "706",
         "relevant"
        ],
        [
         "2",
         "1.1e+20",
         "Stevey Markovich",
         "1600000000000.0",
         "5.0",
         "Absolutely love this office! Afton is truly amazing and always makes me feel welcomed and special!",
         "0x80c8ce0f7732ee7b:0xea13348742f64327",
         "Center for Cosmetic and Family Dentistry",
         "36.0019288",
         "-115.1074842",
         "['Dentist']",
         "4.9",
         "318",
         "relevant"
        ],
        [
         "3",
         "1.02e+20",
         "William Campbell",
         "1540000000000.0",
         "3.0",
         "The food is as good as it usually is",
         "0x80c8dc9da25847c7:0x27b862b824ac757c",
         "Asian Garden",
         "36.1689012",
         "-115.0606013",
         "['Restaurant', 'Asian restaurant', 'Chinese restaurant', 'Thai restaurant']",
         "3.8",
         "128",
         "relevant"
        ],
        [
         "4",
         "1.12e+20",
         "Beverly Thorman",
         "1520000000000.0",
         "5.0",
         "We came in without an appointment on a Saturday afternoon and they cut my hair right away. My stylist was Ninette and she was amazing! She was fun to talk with and she gave me the exact style I wanted. The other stylists were also fun and friendly.",
         "0x80c8c03de37488fd:0xdc3302fd9f8f44a",
         "Great Clips",
         "36.1910548",
         "-115.258969",
         "['Hair salon', 'Beauty salon']",
         "4.3",
         "168",
         "relevant"
        ]
       ],
       "shape": {
        "columns": 13,
        "rows": 5
       }
      },
      "text/html": [
       "<div>\n",
       "<style scoped>\n",
       "    .dataframe tbody tr th:only-of-type {\n",
       "        vertical-align: middle;\n",
       "    }\n",
       "\n",
       "    .dataframe tbody tr th {\n",
       "        vertical-align: top;\n",
       "    }\n",
       "\n",
       "    .dataframe thead th {\n",
       "        text-align: right;\n",
       "    }\n",
       "</style>\n",
       "<table border=\"1\" class=\"dataframe\">\n",
       "  <thead>\n",
       "    <tr style=\"text-align: right;\">\n",
       "      <th></th>\n",
       "      <th>user_id</th>\n",
       "      <th>user_name</th>\n",
       "      <th>time</th>\n",
       "      <th>rating</th>\n",
       "      <th>review</th>\n",
       "      <th>gmap_id</th>\n",
       "      <th>business_name</th>\n",
       "      <th>latitude</th>\n",
       "      <th>longitude</th>\n",
       "      <th>business_desc</th>\n",
       "      <th>avg_rating</th>\n",
       "      <th>num_of_reviews</th>\n",
       "      <th>label</th>\n",
       "    </tr>\n",
       "  </thead>\n",
       "  <tbody>\n",
       "    <tr>\n",
       "      <th>0</th>\n",
       "      <td>1.100000e+20</td>\n",
       "      <td>Michelle Banks</td>\n",
       "      <td>1.520000e+12</td>\n",
       "      <td>5.0</td>\n",
       "      <td>It's a beautiful place to read books and have ...</td>\n",
       "      <td>0x80c8bf81f68a634f:0xe605b4c3043783c9</td>\n",
       "      <td>Barnes &amp; Noble</td>\n",
       "      <td>36.157754</td>\n",
       "      <td>-115.289418</td>\n",
       "      <td>['Book store', 'Cafe', 'Childrens book store',...</td>\n",
       "      <td>4.6</td>\n",
       "      <td>1719</td>\n",
       "      <td>relevant</td>\n",
       "    </tr>\n",
       "    <tr>\n",
       "      <th>1</th>\n",
       "      <td>1.060000e+20</td>\n",
       "      <td>Steven DeRyck [Staff]</td>\n",
       "      <td>1.540000e+12</td>\n",
       "      <td>4.0</td>\n",
       "      <td>As previous reviews have stated, two small pie...</td>\n",
       "      <td>0x80c8c415f0a42c77:0x55c554fdc4ad8b9c</td>\n",
       "      <td>Carnegie Deli</td>\n",
       "      <td>36.120556</td>\n",
       "      <td>-115.173611</td>\n",
       "      <td>['Deli', 'Takeout Restaurant', 'Sandwich shop']</td>\n",
       "      <td>4.1</td>\n",
       "      <td>706</td>\n",
       "      <td>relevant</td>\n",
       "    </tr>\n",
       "    <tr>\n",
       "      <th>2</th>\n",
       "      <td>1.100000e+20</td>\n",
       "      <td>Stevey Markovich</td>\n",
       "      <td>1.600000e+12</td>\n",
       "      <td>5.0</td>\n",
       "      <td>Absolutely love this office! Afton is truly am...</td>\n",
       "      <td>0x80c8ce0f7732ee7b:0xea13348742f64327</td>\n",
       "      <td>Center for Cosmetic and Family Dentistry</td>\n",
       "      <td>36.001929</td>\n",
       "      <td>-115.107484</td>\n",
       "      <td>['Dentist']</td>\n",
       "      <td>4.9</td>\n",
       "      <td>318</td>\n",
       "      <td>relevant</td>\n",
       "    </tr>\n",
       "    <tr>\n",
       "      <th>3</th>\n",
       "      <td>1.020000e+20</td>\n",
       "      <td>William Campbell</td>\n",
       "      <td>1.540000e+12</td>\n",
       "      <td>3.0</td>\n",
       "      <td>The food is as good as it usually is</td>\n",
       "      <td>0x80c8dc9da25847c7:0x27b862b824ac757c</td>\n",
       "      <td>Asian Garden</td>\n",
       "      <td>36.168901</td>\n",
       "      <td>-115.060601</td>\n",
       "      <td>['Restaurant', 'Asian restaurant', 'Chinese re...</td>\n",
       "      <td>3.8</td>\n",
       "      <td>128</td>\n",
       "      <td>relevant</td>\n",
       "    </tr>\n",
       "    <tr>\n",
       "      <th>4</th>\n",
       "      <td>1.120000e+20</td>\n",
       "      <td>Beverly Thorman</td>\n",
       "      <td>1.520000e+12</td>\n",
       "      <td>5.0</td>\n",
       "      <td>We came in without an appointment on a Saturda...</td>\n",
       "      <td>0x80c8c03de37488fd:0xdc3302fd9f8f44a</td>\n",
       "      <td>Great Clips</td>\n",
       "      <td>36.191055</td>\n",
       "      <td>-115.258969</td>\n",
       "      <td>['Hair salon', 'Beauty salon']</td>\n",
       "      <td>4.3</td>\n",
       "      <td>168</td>\n",
       "      <td>relevant</td>\n",
       "    </tr>\n",
       "  </tbody>\n",
       "</table>\n",
       "</div>"
      ],
      "text/plain": [
       "        user_id              user_name          time  rating  \\\n",
       "0  1.100000e+20         Michelle Banks  1.520000e+12     5.0   \n",
       "1  1.060000e+20  Steven DeRyck [Staff]  1.540000e+12     4.0   \n",
       "2  1.100000e+20       Stevey Markovich  1.600000e+12     5.0   \n",
       "3  1.020000e+20       William Campbell  1.540000e+12     3.0   \n",
       "4  1.120000e+20        Beverly Thorman  1.520000e+12     5.0   \n",
       "\n",
       "                                              review  \\\n",
       "0  It's a beautiful place to read books and have ...   \n",
       "1  As previous reviews have stated, two small pie...   \n",
       "2  Absolutely love this office! Afton is truly am...   \n",
       "3               The food is as good as it usually is   \n",
       "4  We came in without an appointment on a Saturda...   \n",
       "\n",
       "                                 gmap_id  \\\n",
       "0  0x80c8bf81f68a634f:0xe605b4c3043783c9   \n",
       "1  0x80c8c415f0a42c77:0x55c554fdc4ad8b9c   \n",
       "2  0x80c8ce0f7732ee7b:0xea13348742f64327   \n",
       "3  0x80c8dc9da25847c7:0x27b862b824ac757c   \n",
       "4   0x80c8c03de37488fd:0xdc3302fd9f8f44a   \n",
       "\n",
       "                              business_name   latitude   longitude  \\\n",
       "0                            Barnes & Noble  36.157754 -115.289418   \n",
       "1                             Carnegie Deli  36.120556 -115.173611   \n",
       "2  Center for Cosmetic and Family Dentistry  36.001929 -115.107484   \n",
       "3                              Asian Garden  36.168901 -115.060601   \n",
       "4                               Great Clips  36.191055 -115.258969   \n",
       "\n",
       "                                       business_desc  avg_rating  \\\n",
       "0  ['Book store', 'Cafe', 'Childrens book store',...         4.6   \n",
       "1    ['Deli', 'Takeout Restaurant', 'Sandwich shop']         4.1   \n",
       "2                                        ['Dentist']         4.9   \n",
       "3  ['Restaurant', 'Asian restaurant', 'Chinese re...         3.8   \n",
       "4                     ['Hair salon', 'Beauty salon']         4.3   \n",
       "\n",
       "   num_of_reviews     label  \n",
       "0            1719  relevant  \n",
       "1             706  relevant  \n",
       "2             318  relevant  \n",
       "3             128  relevant  \n",
       "4             168  relevant  "
      ]
     },
     "execution_count": 58,
     "metadata": {},
     "output_type": "execute_result"
    }
   ],
   "source": [
    "df.head()"
   ]
  },
  {
   "cell_type": "markdown",
   "id": "059cd4c5",
   "metadata": {},
   "source": [
    "# Convert Data Type"
   ]
  },
  {
   "cell_type": "markdown",
   "id": "4222f0db",
   "metadata": {},
   "source": [
    "The `time` column is provided in Unix time (milliseconds). \n",
    "\n",
    "Since this format is not easily readable or intuitive, we will convert it to a standard datetime format for easier interpretation and analysis."
   ]
  },
  {
   "cell_type": "code",
   "execution_count": 59,
   "id": "48ad2c39",
   "metadata": {},
   "outputs": [],
   "source": [
    "df['time'] = pd.to_datetime(df['time'], unit='ms')"
   ]
  },
  {
   "cell_type": "markdown",
   "id": "69b2e9c4",
   "metadata": {},
   "source": [
    "# Check Null Values in each column"
   ]
  },
  {
   "cell_type": "code",
   "execution_count": 60,
   "id": "6832de5e",
   "metadata": {},
   "outputs": [
    {
     "name": "stdout",
     "output_type": "stream",
     "text": [
      "user_id           74\n",
      "user_name         29\n",
      "time               0\n",
      "rating            74\n",
      "review             0\n",
      "gmap_id            0\n",
      "business_name      1\n",
      "latitude           0\n",
      "longitude          0\n",
      "business_desc     10\n",
      "avg_rating         0\n",
      "num_of_reviews     0\n",
      "label              0\n",
      "dtype: int64\n"
     ]
    }
   ],
   "source": [
    "print(df.isnull().sum())  "
   ]
  },
  {
   "cell_type": "markdown",
   "id": "155cf66f",
   "metadata": {},
   "source": [
    "# Handling Missing Values"
   ]
  },
  {
   "cell_type": "markdown",
   "id": "4898532e",
   "metadata": {},
   "source": [
    "Although columns like `user_id`, `user_name`, and `business_name` contain missing values, they will not serve as key features in our model development. \n",
    "\n",
    "Therefore, we will not perform any imputation or removal for these columns."
   ]
  },
  {
   "cell_type": "markdown",
   "id": "203c2e4f",
   "metadata": {},
   "source": [
    "### `rating`"
   ]
  },
  {
   "cell_type": "markdown",
   "id": "7a86dfa1",
   "metadata": {},
   "source": [
    "The `rating` column is a numerical variable. There are 74 rows with missing values, which we will impute using the median of the available ratings.\n",
    "\n",
    "Since the number of missing rows is small, median imputation is unlikely to significantly alter the overall distribution of ratings."
   ]
  },
  {
   "cell_type": "code",
   "execution_count": 61,
   "id": "6ed24e3b",
   "metadata": {},
   "outputs": [],
   "source": [
    "median_rating = df['rating'].median()\n",
    "df['rating'] = df['rating'].fillna(median_rating)"
   ]
  },
  {
   "cell_type": "markdown",
   "id": "4ae527c6",
   "metadata": {},
   "source": [
    "### `business_desc`"
   ]
  },
  {
   "cell_type": "markdown",
   "id": "1dee583a",
   "metadata": {},
   "source": [
    "There are 5 rows with missing `business_desc` values. Since `business_desc` is a textual categorical column and will be important for downstream analysis, we will drop these 5 rows. \n",
    "\n",
    "They represent a very small proportion of the dataset, so their removal will not significantly affect our analysis."
   ]
  },
  {
   "cell_type": "code",
   "execution_count": 62,
   "id": "3e987457",
   "metadata": {},
   "outputs": [],
   "source": [
    "df = df.dropna(subset=['business_desc'])"
   ]
  },
  {
   "cell_type": "markdown",
   "id": "965b75dd",
   "metadata": {},
   "source": [
    "# After Handling of Missing Values"
   ]
  },
  {
   "cell_type": "code",
   "execution_count": 63,
   "id": "40a592cc",
   "metadata": {},
   "outputs": [
    {
     "name": "stdout",
     "output_type": "stream",
     "text": [
      "user_id           74\n",
      "user_name         29\n",
      "time               0\n",
      "rating             0\n",
      "review             0\n",
      "gmap_id            0\n",
      "business_name      1\n",
      "latitude           0\n",
      "longitude          0\n",
      "business_desc      0\n",
      "avg_rating         0\n",
      "num_of_reviews     0\n",
      "label              0\n",
      "dtype: int64\n"
     ]
    }
   ],
   "source": [
    "print(df.isnull().sum())  "
   ]
  },
  {
   "cell_type": "markdown",
   "id": "db132672",
   "metadata": {},
   "source": [
    "All missing values for the relevant columns to be used in our model development has been handled."
   ]
  },
  {
   "cell_type": "markdown",
   "id": "b37dec6d",
   "metadata": {},
   "source": [
    "# Save Dataset"
   ]
  },
  {
   "cell_type": "code",
   "execution_count": 64,
   "id": "0cc1f8da",
   "metadata": {},
   "outputs": [],
   "source": [
    "df.to_csv(\"final_data/cleaned_dataset.csv\", index=False, encoding='utf-8-sig')"
   ]
  }
 ],
 "metadata": {
  "kernelspec": {
   "display_name": ".venv (3.10.11)",
   "language": "python",
   "name": "python3"
  },
  "language_info": {
   "codemirror_mode": {
    "name": "ipython",
    "version": 3
   },
   "file_extension": ".py",
   "mimetype": "text/x-python",
   "name": "python",
   "nbconvert_exporter": "python",
   "pygments_lexer": "ipython3",
   "version": "3.10.11"
  }
 },
 "nbformat": 4,
 "nbformat_minor": 5
}
