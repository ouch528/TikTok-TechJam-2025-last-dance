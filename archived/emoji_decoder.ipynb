{
 "cells": [
  {
   "cell_type": "code",
   "execution_count": 6,
   "id": "57a8c43a",
   "metadata": {},
   "outputs": [],
   "source": [
    "import pandas as pd\n",
    "\n",
    "# Read CSV (ensure encoding is correct, often utf-8 or latin1)\n",
    "df = pd.read_csv(\"/Users/ohungchan/Downloads/synthetic_irrelevant_2500.csv\", encoding=\"utf-8\", dtype=str)\n",
    "\n",
    "# Function to decode escaped sequences into real emojis\n",
    "def decode_emoji(text):\n",
    "    if pd.isna(text):\n",
    "        return text\n",
    "    try:\n",
    "        # Encode as latin1 then decode as utf-8 to fix mojibake like \"Äî\"\n",
    "        fixed = text.encode(\"latin1\").decode(\"utf-8\")\n",
    "        # Handle unicode escape sequences like \"\\ud83d\\ude80\"\n",
    "        return fixed.encode(\"utf-8\").decode(\"unicode_escape\")\n",
    "    except Exception:\n",
    "        return text\n",
    "\n",
    "# Apply to all string columns\n",
    "for col in df.columns:\n",
    "    df[col] = df[col].apply(decode_emoji)\n",
    "\n",
    "df.to_csv(\"/Users/ohungchan/Downloads/synthetic_irrelevant_2500_final_final.csv\", index=False, encoding=\"utf-8-sig\")"
   ]
  }
 ],
 "metadata": {
  "kernelspec": {
   "display_name": ".venv (3.10.11)",
   "language": "python",
   "name": "python3"
  },
  "language_info": {
   "codemirror_mode": {
    "name": "ipython",
    "version": 3
   },
   "file_extension": ".py",
   "mimetype": "text/x-python",
   "name": "python",
   "nbconvert_exporter": "python",
   "pygments_lexer": "ipython3",
   "version": "3.10.11"
  }
 },
 "nbformat": 4,
 "nbformat_minor": 5
}
